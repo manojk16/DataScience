{
 "cells": [
  {
   "cell_type": "code",
   "execution_count": 71,
   "metadata": {},
   "outputs": [],
   "source": [
    "import pandas as pd\n",
    "import numpy as np\n",
    "import matplotlib.pyplot as plt"
   ]
  },
  {
   "cell_type": "code",
   "execution_count": 72,
   "metadata": {},
   "outputs": [
    {
     "data": {
      "text/plain": [
       "Index(['RowNumber', 'CustomerId', 'Surname', 'CreditScore', 'Geography',\n",
       "       'Gender', 'Age', 'Tenure', 'Balance', 'NumOfProducts', 'HasCrCard',\n",
       "       'IsActiveMember', 'EstimatedSalary', 'Exited'],\n",
       "      dtype='object')"
      ]
     },
     "execution_count": 72,
     "metadata": {},
     "output_type": "execute_result"
    }
   ],
   "source": [
    "bank_data=pd.read_csv(\"Bank_Dataset.csv\")\n",
    "bank_data.columns"
   ]
  },
  {
   "cell_type": "code",
   "execution_count": 73,
   "metadata": {},
   "outputs": [
    {
     "data": {
      "text/plain": [
       "(10000, 14)"
      ]
     },
     "execution_count": 73,
     "metadata": {},
     "output_type": "execute_result"
    }
   ],
   "source": [
    "bank_data.shape"
   ]
  },
  {
   "cell_type": "code",
   "execution_count": 74,
   "metadata": {},
   "outputs": [
    {
     "data": {
      "text/plain": [
       "count     10000.000000\n",
       "mean      76485.889288\n",
       "std       62397.405202\n",
       "min           0.000000\n",
       "25%           0.000000\n",
       "50%       97198.540000\n",
       "75%      127644.240000\n",
       "max      250898.090000\n",
       "Name: Balance, dtype: float64"
      ]
     },
     "execution_count": 74,
     "metadata": {},
     "output_type": "execute_result"
    }
   ],
   "source": [
    "#Get the summary of the balance variable\n",
    "#we can find the summary of the balance variable by using .describe()\n",
    "summary_balance=bank_data[\"Balance\"].describe()\n",
    "summary_balance"
   ]
  },
  {
   "cell_type": "code",
   "execution_count": 4,
   "metadata": {},
   "outputs": [],
   "source": [
    "# There may be outliers as mean and median(50%) is very different which means that there may be some outlier in the data but not the guaranttee So we need \n",
    "# Box Plot Techniques which will tell us that there are some outlier or not."
   ]
  },
  {
   "cell_type": "code",
   "execution_count": 75,
   "metadata": {},
   "outputs": [
    {
     "data": {
      "text/plain": [
       "0.0         0.000\n",
       "0.1         0.000\n",
       "0.2         0.000\n",
       "0.3         0.000\n",
       "0.4     73080.908\n",
       "0.5     97198.540\n",
       "0.6    110138.926\n",
       "0.7    122029.870\n",
       "0.8    133710.358\n",
       "0.9    149244.792\n",
       "1.0    250898.090\n",
       "Name: Balance, dtype: float64"
      ]
     },
     "execution_count": 75,
     "metadata": {},
     "output_type": "execute_result"
    }
   ],
   "source": [
    "#let's get relevant percentiles and see their distribution.\n",
    "bank_data['Balance'].quantile([0, 0.1, 0.2, 0.3, 0.4, 0.5, 0.6, 0.7, 0.8, 0.9, 1])"
   ]
  },
  {
   "cell_type": "code",
   "execution_count": 76,
   "metadata": {},
   "outputs": [
    {
     "data": {
      "text/plain": [
       "count    10000.000000\n",
       "mean        38.921800\n",
       "std         10.487806\n",
       "min         18.000000\n",
       "25%         32.000000\n",
       "50%         37.000000\n",
       "75%         44.000000\n",
       "max         92.000000\n",
       "Name: Age, dtype: float64"
      ]
     },
     "execution_count": 76,
     "metadata": {},
     "output_type": "execute_result"
    }
   ],
   "source": [
    "#Get the summary of the one more variable 'Age'\n",
    "summary_age=bank_data['Age'].describe()\n",
    "summary_age  # In the summary There is no much difference beween mean=38.921800 and median=37.000000, Whih suggest that there no outlier "
   ]
  },
  {
   "cell_type": "code",
   "execution_count": 7,
   "metadata": {},
   "outputs": [
    {
     "data": {
      "text/plain": [
       "0.0    18.0\n",
       "0.1    27.0\n",
       "0.2    31.0\n",
       "0.3    33.0\n",
       "0.4    35.0\n",
       "0.5    37.0\n",
       "0.6    40.0\n",
       "0.7    42.0\n",
       "0.8    46.0\n",
       "0.9    53.0\n",
       "1.0    92.0\n",
       "Name: Age, dtype: float64"
      ]
     },
     "execution_count": 7,
     "metadata": {},
     "output_type": "execute_result"
    }
   ],
   "source": [
    "# Let's find the relevant percentiles of 'Age' also and see their distribution\n",
    "bank_data['Age'].quantile([0, 0.1, 0.2, 0.3, 0.4, 0.5, 0.6, 0.7, 0.8, 0.9, 1])"
   ]
  },
  {
   "cell_type": "markdown",
   "metadata": {},
   "source": [
    "## Box plots and Outlier Detection"
   ]
  },
  {
   "cell_type": "markdown",
   "metadata": {},
   "source": [
    "### Box plots have box from LQ to UQ, with median marked.\n",
    "- They portray a five-number graphical summary of the data Minimum, LQ, Median, UQ, Maximum\n",
    "- Helps us to get an idea on the data distribution\n",
    "- Helps us to identify the outliers easily\n",
    "- 25% of the population is below first quartile,\n",
    "- 75% of the population is below third quartile\n",
    "- If the box is pushed to one side and some values are far away from the box then it’s a clear indication of outliers\n",
    "\n",
    "#### Some set of values far away from box,  gives us a clear indication of outliers.\n"
   ]
  },
  {
   "cell_type": "code",
   "execution_count": 77,
   "metadata": {},
   "outputs": [
    {
     "data": {
      "text/plain": [
       "{'boxes': [<matplotlib.lines.Line2D at 0x7f95334ca4e0>],\n",
       " 'caps': [<matplotlib.lines.Line2D at 0x7f95334bea58>,\n",
       "  <matplotlib.lines.Line2D at 0x7f95334be7b8>],\n",
       " 'fliers': [<matplotlib.lines.Line2D at 0x7f9533028710>],\n",
       " 'means': [],\n",
       " 'medians': [<matplotlib.lines.Line2D at 0x7f953cabc4a8>],\n",
       " 'whiskers': [<matplotlib.lines.Line2D at 0x7f95334ca400>,\n",
       "  <matplotlib.lines.Line2D at 0x7f95334c86a0>]}"
      ]
     },
     "execution_count": 77,
     "metadata": {},
     "output_type": "execute_result"
    },
    {
     "data": {
      "image/png": "[encoded data removed]",
      "text/plain": [
       "<Figure size 432x288 with 1 Axes>"
      ]
     },
     "metadata": {},
     "output_type": "display_data"
    }
   ],
   "source": [
    "%matplotlib inline  \n",
    "\n",
    "plt.boxplot(bank_data.Balance)"
   ]
  },
  {
   "cell_type": "code",
   "execution_count": 78,
   "metadata": {},
   "outputs": [],
   "source": [
    "# In this Box Plot there is no value above and below the max and Min Point respectively so no outlier exist "
   ]
  },
  {
   "cell_type": "code",
   "execution_count": 79,
   "metadata": {},
   "outputs": [],
   "source": [
    "# Just for Test at insert an Outlier inthe same varaible\n",
    "### Let's Test The Outlier Scenario \n",
    "bank_data_outlier=pd.read_csv('Bank_Dataset_Outlier.csv')"
   ]
  },
  {
   "cell_type": "code",
   "execution_count": 80,
   "metadata": {},
   "outputs": [
    {
     "name": "stderr",
     "output_type": "stream",
     "text": [
      "/home/mkumar9824/anaconda3/lib/python3.6/site-packages/pandas/core/indexing.py:179: SettingWithCopyWarning: \n",
      "A value is trying to be set on a copy of a slice from a DataFrame\n",
      "\n",
      "See the caveats in the documentation: http://pandas.pydata.org/pandas-docs/stable/indexing.html#indexing-view-versus-copy\n",
      "  self._setitem_with_indexer(indexer, value)\n"
     ]
    }
   ],
   "source": [
    "# Lets insert one in to Bank_dataset.csv an outlier then try to draw the Box Plot \n",
    "bank_data_outlier['Balance'].loc[50]=550000 # Impute the value 550000 which is beyond max point "
   ]
  },
  {
   "cell_type": "code",
   "execution_count": 81,
   "metadata": {},
   "outputs": [
    {
     "data": {
      "text/plain": [
       "550000.0"
      ]
     },
     "execution_count": 81,
     "metadata": {},
     "output_type": "execute_result"
    }
   ],
   "source": [
    "bank_data_outlier['Balance'].loc[50] # value suceesfully Imputed "
   ]
  },
  {
   "cell_type": "code",
   "execution_count": 82,
   "metadata": {},
   "outputs": [
    {
     "data": {
      "text/plain": [
       "{'boxes': [<matplotlib.lines.Line2D at 0x7f953cabc518>],\n",
       " 'caps': [<matplotlib.lines.Line2D at 0x7f95335699e8>,\n",
       "  <matplotlib.lines.Line2D at 0x7f9533569240>],\n",
       " 'fliers': [<matplotlib.lines.Line2D at 0x7f95333b1438>],\n",
       " 'means': [],\n",
       " 'medians': [<matplotlib.lines.Line2D at 0x7f9533562a90>],\n",
       " 'whiskers': [<matplotlib.lines.Line2D at 0x7f9533569d30>,\n",
       "  <matplotlib.lines.Line2D at 0x7f9533569c18>]}"
      ]
     },
     "execution_count": 82,
     "metadata": {},
     "output_type": "execute_result"
    },
    {
     "data": {
      "image/png": "[encoded data removed]",
      "text/plain": [
       "<Figure size 432x288 with 1 Axes>"
      ]
     },
     "metadata": {},
     "output_type": "display_data"
    }
   ],
   "source": [
    "# Now draw the Box Plot \n",
    "%matplotlib inline  \n",
    "\n",
    "plt.boxplot(bank_data_outlier.Balance)"
   ]
  },
  {
   "cell_type": "code",
   "execution_count": 52,
   "metadata": {},
   "outputs": [
    {
     "name": "stdout",
     "output_type": "stream",
     "text": [
      "Q1 is :: 0.0\n",
      "Q3 is :: 127644.24\n",
      "IQR Is:: 127644.24\n",
      "Minimum is:: -191466.36000000002\n",
      "Maximum is :: 319110.60000000003\n"
     ]
    }
   ],
   "source": [
    "Q1 = bank_data_outlier['Balance'].quantile(0.25)\n",
    "Q3 = bank_data_outlier['Balance'].quantile(0.75)\n",
    "IQR = Q3 - Q1\n",
    "print(\"Q1 is ::\",Q1)\n",
    "print(\"Q3 is ::\",Q3)\n",
    "print(\"IQR Is::\",IQR)\n",
    "print(\"Minimum is::\",Q1 - 1.5 * IQR)\n",
    "print(\"Maximum is ::\",Q3+1.5*IQR)\n",
    "### Let's Plot the BoxPlot for Age Varaible and remove the oulier from the age variable\n",
    "#As per the box plot there is an outlier, which validate the out insertion of outlier in the 'Balance' varaible"
   ]
  },
  {
   "cell_type": "code",
   "execution_count": 83,
   "metadata": {},
   "outputs": [],
   "source": [
    "# One Data Point exist beyond the max value it is as Outlier "
   ]
  },
  {
   "cell_type": "code",
   "execution_count": 97,
   "metadata": {},
   "outputs": [
    {
     "data": {
      "text/plain": [
       "{'boxes': [<matplotlib.lines.Line2D at 0x7f9532d89860>],\n",
       " 'caps': [<matplotlib.lines.Line2D at 0x7f9532daf3c8>,\n",
       "  <matplotlib.lines.Line2D at 0x7f9532da73c8>],\n",
       " 'fliers': [<matplotlib.lines.Line2D at 0x7f9532da7b38>],\n",
       " 'means': [],\n",
       " 'medians': [<matplotlib.lines.Line2D at 0x7f9532da7f60>],\n",
       " 'whiskers': [<matplotlib.lines.Line2D at 0x7f9532d895c0>,\n",
       "  <matplotlib.lines.Line2D at 0x7f9532daf9b0>]}"
      ]
     },
     "execution_count": 97,
     "metadata": {},
     "output_type": "execute_result"
    },
    {
     "data": {
      "image/png": "[encoded data removed]",
      "text/plain": [
       "<Figure size 432x288 with 1 Axes>"
      ]
     },
     "metadata": {},
     "output_type": "display_data"
    }
   ],
   "source": [
    "# Let's Plot the BoxPlot for Age Varaible as well \n",
    "%matplotlib inline  \n",
    "plt.boxplot(bank_data.Age)"
   ]
  },
  {
   "cell_type": "code",
   "execution_count": null,
   "metadata": {},
   "outputs": [],
   "source": [
    "# This va"
   ]
  },
  {
   "cell_type": "code",
   "execution_count": 54,
   "metadata": {},
   "outputs": [
    {
     "name": "stdout",
     "output_type": "stream",
     "text": [
      "Q1 is :: 32.0\n",
      "Q3 is :: 44.0\n",
      "IQR Is:: 12.0\n",
      "Minimum is:: 14.0\n",
      "Maximum is :: 62.0\n"
     ]
    }
   ],
   "source": [
    "Q1 = bank_datar['Age'].quantile(0.25)\n",
    "Q3 = bank_data['Age'].quantile(0.75)\n",
    "IQR = Q3 - Q1\n",
    "print(\"Q1 is ::\",Q1)\n",
    "print(\"Q3 is ::\",Q3)\n",
    "print(\"IQR Is::\",IQR)\n",
    "print(\"Minimum is::\",Q1 - 1.5 * IQR)\n",
    "print(\"Maximum is ::\",Q3+1.5*IQR)"
   ]
  },
  {
   "cell_type": "code",
   "execution_count": null,
   "metadata": {},
   "outputs": [],
   "source": [
    "# This varaible 'Age' having numbers of outliers as there are many points beyond the maximum"
   ]
  },
  {
   "cell_type": "markdown",
   "metadata": {},
   "source": [
    "####  Box Plot shows that there are number of Outlier exist.\n",
    "#### This proves that to detect the outlier Box Plot technique is a suitable method"
   ]
  },
  {
   "cell_type": "code",
   "execution_count": null,
   "metadata": {},
   "outputs": [],
   "source": [
    "# Remove the Outliers from all varaibles "
   ]
  },
  {
   "cell_type": "code",
   "execution_count": 89,
   "metadata": {},
   "outputs": [
    {
     "data": {
      "text/plain": [
       "RowNumber            int64\n",
       "CustomerId           int64\n",
       "Surname             object\n",
       "CreditScore          int64\n",
       "Geography           object\n",
       "Gender              object\n",
       "Age                  int64\n",
       "Tenure               int64\n",
       "Balance            float64\n",
       "NumOfProducts        int64\n",
       "HasCrCard            int64\n",
       "IsActiveMember       int64\n",
       "EstimatedSalary    float64\n",
       "Exited               int64\n",
       "dtype: object"
      ]
     },
     "execution_count": 89,
     "metadata": {},
     "output_type": "execute_result"
    }
   ],
   "source": [
    "bank_data.dtypes"
   ]
  },
  {
   "cell_type": "code",
   "execution_count": 90,
   "metadata": {},
   "outputs": [],
   "source": [
    "# make a list of all numberic varaibles \n",
    "cnames=['CustomerId','CreditScore','Age','Tenure','Balance','NumOfProducts','HasCrCard','IsActiveMember','EstimatedSalary','Exited']"
   ]
  },
  {
   "cell_type": "code",
   "execution_count": 91,
   "metadata": {},
   "outputs": [
    {
     "name": "stdout",
     "output_type": "stream",
     "text": [
      "--------------------\n",
      "Variable Name is: CustomerId\n",
      "Minimum is:: 15441470.0\n",
      "Maximum is :: 15940292.0\n",
      "--------------------\n",
      "Variable Name is: CreditScore\n",
      "Minimum is:: 383.0\n",
      "Maximum is :: 919.0\n",
      "--------------------\n",
      "Variable Name is: Age\n",
      "Minimum is:: 14.0\n",
      "Maximum is :: 62.0\n",
      "--------------------\n",
      "Variable Name is: Tenure\n",
      "Minimum is:: -3.0\n",
      "Maximum is :: 13.0\n",
      "--------------------\n",
      "Variable Name is: Balance\n",
      "Minimum is:: -191471.76\n",
      "Maximum is :: 319119.6\n",
      "--------------------\n",
      "Variable Name is: NumOfProducts\n",
      "Minimum is:: -0.5\n",
      "Maximum is :: 3.5\n",
      "--------------------\n",
      "Variable Name is: HasCrCard\n",
      "Minimum is:: -1.5\n",
      "Maximum is :: 2.5\n",
      "--------------------\n",
      "Variable Name is: IsActiveMember\n",
      "Minimum is:: -1.5\n",
      "Maximum is :: 2.5\n",
      "--------------------\n",
      "Variable Name is: EstimatedSalary\n",
      "Minimum is:: -96655.65125000002\n",
      "Maximum is :: 297132.31875000003\n",
      "--------------------\n",
      "Variable Name is: Exited\n",
      "Minimum is:: 0.0\n",
      "Maximum is :: 0.0\n"
     ]
    }
   ],
   "source": [
    "for i in cnames:\n",
    "    print(\"--------------------\")\n",
    "    print(\"Variable Name is:\",i)\n",
    "    #print(\"--------------------\")\n",
    "    Q3, Q1 = np.percentile(bank_data.loc[:,i], [75 ,25])\n",
    "    IQR = Q3 - Q1\n",
    "    min = Q1 - (IQR*1.5) #to calculate the lowerfence\n",
    "    max = Q3 + (IQR*1.5)\n",
    "   \n",
    "    print(\"Minimum is::\",min)\n",
    "    print(\"Maximum is ::\",max)\n",
    "   \n",
    "    \n",
    "    bank_data = bank_data.drop(bank_data[bank_data.loc[:,i] < min].index)\n",
    "    bank_data = bank_data.drop(bank_data[bank_data.loc[:,i] > max].index)\n",
    "    "
   ]
  },
  {
   "cell_type": "code",
   "execution_count": 93,
   "metadata": {},
   "outputs": [
    {
     "name": "stdout",
     "output_type": "stream",
     "text": [
      "Q1 is :: 31.0\n",
      "Q3 is :: 41.0\n",
      "IQR Is:: 10.0\n",
      "Minimum is:: 16.0\n",
      "Maximum is :: 56.0\n"
     ]
    }
   ],
   "source": [
    "Q1 = bank_data['Age'].quantile(0.25)\n",
    "Q3 = bank_data['Age'].quantile(0.75)\n",
    "IQR= Q3 - Q1\n",
    "Min= Q1-1.5*IQR\n",
    "Max= Q3+1.5*IQR\n",
    "print(\"Q1 is ::\",Q1)\n",
    "print(\"Q3 is ::\",Q3)\n",
    "print(\"IQR Is::\",IQR)\n",
    "print(\"Minimum is::\",Min)\n",
    "print(\"Maximum is ::\",Max)\n"
   ]
  },
  {
   "cell_type": "code",
   "execution_count": 92,
   "metadata": {},
   "outputs": [
    {
     "data": {
      "text/plain": [
       "{'boxes': [<matplotlib.lines.Line2D at 0x7f9532ccd710>],\n",
       " 'caps': [<matplotlib.lines.Line2D at 0x7f9532cf2160>,\n",
       "  <matplotlib.lines.Line2D at 0x7f9532cf2588>],\n",
       " 'fliers': [<matplotlib.lines.Line2D at 0x7f9532cf2dd8>],\n",
       " 'means': [],\n",
       " 'medians': [<matplotlib.lines.Line2D at 0x7f9532cf29b0>],\n",
       " 'whiskers': [<matplotlib.lines.Line2D at 0x7f9532ccd860>,\n",
       "  <matplotlib.lines.Line2D at 0x7f9532ccdcf8>]}"
      ]
     },
     "execution_count": 92,
     "metadata": {},
     "output_type": "execute_result"
    },
    {
     "data": {
      "image/png": "[encoded data removed]",
      "text/plain": [
       "<Figure size 432x288 with 1 Axes>"
      ]
     },
     "metadata": {},
     "output_type": "display_data"
    }
   ],
   "source": [
    "%matplotlib inline  \n",
    "plt.boxplot(bank_data.Age)\n",
    "#bank_data_out"
   ]
  },
  {
   "cell_type": "code",
   "execution_count": 94,
   "metadata": {},
   "outputs": [
    {
     "data": {
      "text/plain": [
       "(7677, 14)"
      ]
     },
     "execution_count": 94,
     "metadata": {},
     "output_type": "execute_result"
    }
   ],
   "source": [
    "bank_data.shape"
   ]
  },
  {
   "cell_type": "markdown",
   "metadata": {},
   "source": [
    "#### As we can see from Box Plot and from shape also now number of outliers has been removed "
   ]
  }
 ],
 "metadata": {
  "kernelspec": {
   "display_name": "Python 3",
   "language": "python",
   "name": "python3"
  },
  "language_info": {
   "codemirror_mode": {
    "name": "ipython",
    "version": 3
   },
   "file_extension": ".py",
   "mimetype": "text/x-python",
   "name": "python",
   "nbconvert_exporter": "python",
   "pygments_lexer": "ipython3",
   "version": "3.6.8"
  }
 },
 "nbformat": 4,
 "nbformat_minor": 2
}
