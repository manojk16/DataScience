{
 "cells": [
  {
   "cell_type": "code",
   "execution_count": 3,
   "metadata": {},
   "outputs": [],
   "source": [
    "import pandas as pd\n",
    "import numpy as np\n",
    "import statistics"
   ]
  },
  {
   "cell_type": "markdown",
   "metadata": {},
   "source": [
    "### Percentiles:\n",
    "- p percent of observations below it, (100 – p)% above it. Marks are 40 but percentile is 80%, what does this mean? 80% of CAT exam percentile means 20% are above & 80% are below Percentiles help us in getting an idea on outliers.\n",
    "### Quartiles:\n",
    "#### Percentiles (p) divide the whole population into 100 groups where as quartiles divide the population into 4 groups.\n",
    "- p = 25: First Quartile or Lower quartile (LQ)\n",
    "- p = 50: second quartile or Median\n",
    "- p = 75: Third Quartile or Upper quartile (UQ)\n",
    "### Percentiles & Quartiles in Python\n",
    "- Median (Q2/50th Percentile): the middle value of the dataset.\n",
    "- First quartile (Q1/25th Percentile): the middle number between the smallest number (not the “minimum”) and the median of the dataset.\n",
    "- Third quartile (Q3/75th Percentile): the middle value between the median and the highest value (not the “maximum”) of the dataset.\n",
    "- Interquartile range (IQR): 25th to the 75th percentile.\n",
    "- “maximum”: Q3 + 1.5*IQR\n",
    "- “minimum”: Q1 -1.5*IQR\n",
    "- Whiskers: Between the range of maximum and minimum.\n",
    "- Outliers : Points which exist out side the maximum and minimum points "
   ]
  },
  {
   "cell_type": "code",
   "execution_count": 33,
   "metadata": {},
   "outputs": [],
   "source": [
    "df=pd.read_csv(\"adult_income.csv\")"
   ]
  },
  {
   "cell_type": "code",
   "execution_count": 34,
   "metadata": {},
   "outputs": [
    {
     "data": {
      "text/plain": [
       "(48842, 15)"
      ]
     },
     "execution_count": 34,
     "metadata": {},
     "output_type": "execute_result"
    }
   ],
   "source": [
    "df.shape"
   ]
  },
  {
   "cell_type": "code",
   "execution_count": 36,
   "metadata": {},
   "outputs": [
    {
     "data": {
      "text/plain": [
       "Index(['age', 'workclass', 'fnlwgt', 'education', 'educational-num',\n",
       "       'marital-status', 'occupation', 'relationship', 'race', 'gender',\n",
       "       'capital-gain', 'capital-loss', 'hours-per-week', 'native-country',\n",
       "       'income'],\n",
       "      dtype='object')"
      ]
     },
     "execution_count": 36,
     "metadata": {},
     "output_type": "execute_result"
    }
   ],
   "source": [
    "df.columns"
   ]
  },
  {
   "cell_type": "code",
   "execution_count": 37,
   "metadata": {},
   "outputs": [
    {
     "data": {
      "text/html": [
       "<div>\n",
       "<style>\n",
       "    .dataframe thead tr:only-child th {\n",
       "        text-align: right;\n",
       "    }\n",
       "\n",
       "    .dataframe thead th {\n",
       "        text-align: left;\n",
       "    }\n",
       "\n",
       "    .dataframe tbody tr th {\n",
       "        vertical-align: top;\n",
       "    }\n",
       "</style>\n",
       "<table border=\"1\" class=\"dataframe\">\n",
       "  <thead>\n",
       "    <tr style=\"text-align: right;\">\n",
       "      <th></th>\n",
       "      <th>age</th>\n",
       "      <th>workclass</th>\n",
       "      <th>fnlwgt</th>\n",
       "      <th>education</th>\n",
       "      <th>educational-num</th>\n",
       "      <th>marital-status</th>\n",
       "      <th>occupation</th>\n",
       "      <th>relationship</th>\n",
       "      <th>race</th>\n",
       "      <th>gender</th>\n",
       "      <th>capital-gain</th>\n",
       "      <th>capital-loss</th>\n",
       "      <th>hours-per-week</th>\n",
       "      <th>native-country</th>\n",
       "      <th>income</th>\n",
       "    </tr>\n",
       "  </thead>\n",
       "  <tbody>\n",
       "    <tr>\n",
       "      <th>0</th>\n",
       "      <td>25</td>\n",
       "      <td>Private</td>\n",
       "      <td>226802</td>\n",
       "      <td>11th</td>\n",
       "      <td>7</td>\n",
       "      <td>Never-married</td>\n",
       "      <td>Machine-op-inspct</td>\n",
       "      <td>Own-child</td>\n",
       "      <td>Black</td>\n",
       "      <td>Male</td>\n",
       "      <td>0</td>\n",
       "      <td>0</td>\n",
       "      <td>40</td>\n",
       "      <td>United-States</td>\n",
       "      <td>&lt;=50K</td>\n",
       "    </tr>\n",
       "    <tr>\n",
       "      <th>1</th>\n",
       "      <td>38</td>\n",
       "      <td>Private</td>\n",
       "      <td>89814</td>\n",
       "      <td>HS-grad</td>\n",
       "      <td>9</td>\n",
       "      <td>Married-civ-spouse</td>\n",
       "      <td>Farming-fishing</td>\n",
       "      <td>Husband</td>\n",
       "      <td>White</td>\n",
       "      <td>Male</td>\n",
       "      <td>0</td>\n",
       "      <td>0</td>\n",
       "      <td>50</td>\n",
       "      <td>United-States</td>\n",
       "      <td>&lt;=50K</td>\n",
       "    </tr>\n",
       "    <tr>\n",
       "      <th>2</th>\n",
       "      <td>28</td>\n",
       "      <td>Local-gov</td>\n",
       "      <td>336951</td>\n",
       "      <td>Assoc-acdm</td>\n",
       "      <td>12</td>\n",
       "      <td>Married-civ-spouse</td>\n",
       "      <td>Protective-serv</td>\n",
       "      <td>Husband</td>\n",
       "      <td>White</td>\n",
       "      <td>Male</td>\n",
       "      <td>0</td>\n",
       "      <td>0</td>\n",
       "      <td>40</td>\n",
       "      <td>United-States</td>\n",
       "      <td>&gt;50K</td>\n",
       "    </tr>\n",
       "    <tr>\n",
       "      <th>3</th>\n",
       "      <td>44</td>\n",
       "      <td>Private</td>\n",
       "      <td>160323</td>\n",
       "      <td>Some-college</td>\n",
       "      <td>10</td>\n",
       "      <td>Married-civ-spouse</td>\n",
       "      <td>Machine-op-inspct</td>\n",
       "      <td>Husband</td>\n",
       "      <td>Black</td>\n",
       "      <td>Male</td>\n",
       "      <td>7688</td>\n",
       "      <td>0</td>\n",
       "      <td>40</td>\n",
       "      <td>United-States</td>\n",
       "      <td>&gt;50K</td>\n",
       "    </tr>\n",
       "    <tr>\n",
       "      <th>4</th>\n",
       "      <td>18</td>\n",
       "      <td>?</td>\n",
       "      <td>103497</td>\n",
       "      <td>Some-college</td>\n",
       "      <td>10</td>\n",
       "      <td>Never-married</td>\n",
       "      <td>?</td>\n",
       "      <td>Own-child</td>\n",
       "      <td>White</td>\n",
       "      <td>Female</td>\n",
       "      <td>0</td>\n",
       "      <td>0</td>\n",
       "      <td>30</td>\n",
       "      <td>United-States</td>\n",
       "      <td>&lt;=50K</td>\n",
       "    </tr>\n",
       "  </tbody>\n",
       "</table>\n",
       "</div>"
      ],
      "text/plain": [
       "   age  workclass  fnlwgt     education  educational-num      marital-status  \\\n",
       "0   25    Private  226802          11th                7       Never-married   \n",
       "1   38    Private   89814       HS-grad                9  Married-civ-spouse   \n",
       "2   28  Local-gov  336951    Assoc-acdm               12  Married-civ-spouse   \n",
       "3   44    Private  160323  Some-college               10  Married-civ-spouse   \n",
       "4   18          ?  103497  Some-college               10       Never-married   \n",
       "\n",
       "          occupation relationship   race  gender  capital-gain  capital-loss  \\\n",
       "0  Machine-op-inspct    Own-child  Black    Male             0             0   \n",
       "1    Farming-fishing      Husband  White    Male             0             0   \n",
       "2    Protective-serv      Husband  White    Male             0             0   \n",
       "3  Machine-op-inspct      Husband  Black    Male          7688             0   \n",
       "4                  ?    Own-child  White  Female             0             0   \n",
       "\n",
       "   hours-per-week native-country income  \n",
       "0              40  United-States  <=50K  \n",
       "1              50  United-States  <=50K  \n",
       "2              40  United-States   >50K  \n",
       "3              40  United-States   >50K  \n",
       "4              30  United-States  <=50K  "
      ]
     },
     "execution_count": 37,
     "metadata": {},
     "output_type": "execute_result"
    }
   ],
   "source": [
    "df.head()"
   ]
  },
  {
   "cell_type": "code",
   "execution_count": 46,
   "metadata": {},
   "outputs": [
    {
     "data": {
      "text/plain": [
       "0.0     1.0\n",
       "0.1    24.0\n",
       "0.2    35.0\n",
       "0.3    40.0\n",
       "0.4    40.0\n",
       "0.5    40.0\n",
       "0.6    40.0\n",
       "0.7    40.0\n",
       "0.8    48.0\n",
       "0.9    55.0\n",
       "1.0    99.0\n",
       "Name: hours-per-week, dtype: float64"
      ]
     },
     "execution_count": 46,
     "metadata": {},
     "output_type": "execute_result"
    }
   ],
   "source": [
    "df['hours-per-week'].quantile([0, 0.1, 0.2, 0.3, 0.4, 0.5, 0.6, 0.7, 0.8, 0.9, 1])"
   ]
  },
  {
   "cell_type": "code",
   "execution_count": 47,
   "metadata": {},
   "outputs": [
    {
     "data": {
      "text/plain": [
       "0.0       0.0\n",
       "0.1       0.0\n",
       "0.2       0.0\n",
       "0.3       0.0\n",
       "0.4       0.0\n",
       "0.5       0.0\n",
       "0.6       0.0\n",
       "0.7       0.0\n",
       "0.8       0.0\n",
       "0.9       0.0\n",
       "1.0    4356.0\n",
       "Name: capital-loss, dtype: float64"
      ]
     },
     "execution_count": 47,
     "metadata": {},
     "output_type": "execute_result"
    }
   ],
   "source": [
    "df['capital-loss'].quantile([0, 0.1, 0.2, 0.3,0.4,0.5,0.6,0.7,0.8,0.9,1])"
   ]
  },
  {
   "cell_type": "code",
   "execution_count": 49,
   "metadata": {},
   "outputs": [
    {
     "data": {
      "text/plain": [
       "0.0     1.0\n",
       "0.1    24.0\n",
       "0.2    35.0\n",
       "0.3    40.0\n",
       "0.4    40.0\n",
       "0.5    40.0\n",
       "0.6    40.0\n",
       "0.7    40.0\n",
       "0.8    48.0\n",
       "0.9    55.0\n",
       "1.0    99.0\n",
       "Name: hours-per-week, dtype: float64"
      ]
     },
     "execution_count": 49,
     "metadata": {},
     "output_type": "execute_result"
    }
   ],
   "source": [
    "df['hours-per-week'].quantile([0,0.1,0.2,0.3,0.4,0.5,0.6,0.7,0.8,0.9,1])"
   ]
  },
  {
   "cell_type": "markdown",
   "metadata": {},
   "source": [
    "## Practice : Percentiles & Quartiles in Python\n",
    "- Get the summary of the balance variable\n",
    "- Do you suspect any outliers in balance ?\n",
    "- Get relevant percentiles and see their distribution.\n",
    "- Are there really some outliers present?\n",
    "- Get the summary of the age variable\n",
    "- Do you suspect any outliers in age?\n",
    "- Get relevant percentiles and see their distribution.\n",
    "- Are there really some outliers present?"
   ]
  },
  {
   "cell_type": "code",
   "execution_count": 38,
   "metadata": {},
   "outputs": [
    {
     "data": {
      "text/plain": [
       "Index(['RowNumber', 'CustomerId', 'Surname', 'CreditScore', 'Geography',\n",
       "       'Gender', 'Age', 'Tenure', 'Balance', 'NumOfProducts', 'HasCrCard',\n",
       "       'IsActiveMember', 'EstimatedSalary', 'Exited'],\n",
       "      dtype='object')"
      ]
     },
     "execution_count": 38,
     "metadata": {},
     "output_type": "execute_result"
    }
   ],
   "source": [
    "bank_data=pd.read_csv(\"Bank_Dataset.csv\")\n",
    "bank_data.columns"
   ]
  },
  {
   "cell_type": "code",
   "execution_count": 53,
   "metadata": {},
   "outputs": [
    {
     "data": {
      "text/plain": [
       "(7390, 14)"
      ]
     },
     "execution_count": 53,
     "metadata": {},
     "output_type": "execute_result"
    }
   ],
   "source": [
    "bank_data.shape"
   ]
  },
  {
   "cell_type": "code",
   "execution_count": 113,
   "metadata": {},
   "outputs": [
    {
     "data": {
      "text/plain": [
       "count     10000.000000\n",
       "mean      76485.889288\n",
       "std       62397.405202\n",
       "min           0.000000\n",
       "25%           0.000000\n",
       "50%       97198.540000\n",
       "75%      127644.240000\n",
       "max      250898.090000\n",
       "Name: Balance, dtype: float64"
      ]
     },
     "execution_count": 113,
     "metadata": {},
     "output_type": "execute_result"
    }
   ],
   "source": [
    "#Get the summary of the balance variable\n",
    "#we can find the summary of the balance variable by using .describe()\n",
    "summary_balance=bank_data[\"Balance\"].describe()\n",
    "summary_balance"
   ]
  },
  {
   "cell_type": "code",
   "execution_count": 104,
   "metadata": {},
   "outputs": [],
   "source": [
    "# Yes, There are outliers as mean and median(50%) is very different which means that there may be some outlier in the data but not the guaranttee So we need \n",
    "# Box Plot Techniques which will tell us that there are some outlier or not."
   ]
  },
  {
   "cell_type": "code",
   "execution_count": 5,
   "metadata": {},
   "outputs": [
    {
     "data": {
      "text/plain": [
       "0.0         0.000\n",
       "0.1         0.000\n",
       "0.2         0.000\n",
       "0.3         0.000\n",
       "0.4     73080.908\n",
       "0.5     97198.540\n",
       "0.6    110138.926\n",
       "0.7    122029.870\n",
       "0.8    133710.358\n",
       "0.9    149244.792\n",
       "1.0    250898.090\n",
       "Name: Balance, dtype: float64"
      ]
     },
     "execution_count": 5,
     "metadata": {},
     "output_type": "execute_result"
    }
   ],
   "source": [
    "#Get relevant percentiles and see their distribution.\n",
    "bank_data['Balance'].quantile([0, 0.1, 0.2, 0.3, 0.4, 0.5, 0.6, 0.7, 0.8, 0.9, 1])"
   ]
  },
  {
   "cell_type": "code",
   "execution_count": 6,
   "metadata": {},
   "outputs": [
    {
     "data": {
      "text/plain": [
       "count    10000.000000\n",
       "mean        38.921800\n",
       "std         10.487806\n",
       "min         18.000000\n",
       "25%         32.000000\n",
       "50%         37.000000\n",
       "75%         44.000000\n",
       "max         92.000000\n",
       "Name: Age, dtype: float64"
      ]
     },
     "execution_count": 6,
     "metadata": {},
     "output_type": "execute_result"
    }
   ],
   "source": [
    "#Get the summary of the age variable\n",
    "summary_age=bank_data['Age'].describe()\n",
    "summary_age  # In the summary There is no much difference beween mean=38.921800 and median=37.000000, Whih suggest that there no outlier "
   ]
  },
  {
   "cell_type": "code",
   "execution_count": 7,
   "metadata": {},
   "outputs": [
    {
     "data": {
      "text/plain": [
       "0.0    18.0\n",
       "0.1    27.0\n",
       "0.2    31.0\n",
       "0.3    33.0\n",
       "0.4    35.0\n",
       "0.5    37.0\n",
       "0.6    40.0\n",
       "0.7    42.0\n",
       "0.8    46.0\n",
       "0.9    53.0\n",
       "1.0    92.0\n",
       "Name: Age, dtype: float64"
      ]
     },
     "execution_count": 7,
     "metadata": {},
     "output_type": "execute_result"
    }
   ],
   "source": [
    "#so Get relevant percentiles and see their distribution\n",
    "bank_data['Age'].quantile([0, 0.1, 0.2, 0.3, 0.4, 0.5, 0.6, 0.7, 0.8, 0.9, 1])"
   ]
  },
  {
   "cell_type": "markdown",
   "metadata": {},
   "source": [
    "## Box plots and Outlier Detection"
   ]
  },
  {
   "cell_type": "markdown",
   "metadata": {},
   "source": [
    "### Box plots have box from LQ to UQ, with median marked.\n",
    "- They portray a five-number graphical summary of the data Minimum, LQ, Median, UQ, Maximum\n",
    "- Helps us to get an idea on the data distribution\n",
    "- Helps us to identify the outliers easily\n",
    "- 25% of the population is below first quartile,\n",
    "- 75% of the population is below third quartile\n",
    "- If the box is pushed to one side and some values are far away from the box then it’s a clear indication of outliers\n",
    "\n",
    "#### Some set of values far away from box,  gives us a clear indication of outliers.\n",
    "- In this example the minimum is 5, maximum is 120, and 75% of the values are less than 15.\n",
    "- Still there are some records reaching 120. Hence a clear indication of outliers"
   ]
  },
  {
   "cell_type": "markdown",
   "metadata": {},
   "source": [
    "### Practise Box Plot \n",
    "#### Task : \n",
    "- Draw a box plot for balance variable\n",
    "- Do you suspect any outliers in balance ?\n",
    "- Get relevant percentiles and see their distribution.\n",
    "- Draw a box plot for age variable\n",
    "- Do you suspect any outliers in age?\n",
    "- Get relevant percentiles and see their distribution."
   ]
  },
  {
   "cell_type": "code",
   "execution_count": 8,
   "metadata": {},
   "outputs": [
    {
     "data": {
      "text/plain": [
       "116363.37"
      ]
     },
     "execution_count": 8,
     "metadata": {},
     "output_type": "execute_result"
    }
   ],
   "source": [
    "bank_data['Balance'].loc[50]"
   ]
  },
  {
   "cell_type": "code",
   "execution_count": 39,
   "metadata": {},
   "outputs": [
    {
     "data": {
      "text/plain": [
       "{'boxes': [<matplotlib.lines.Line2D at 0x7f5f9b6c38d0>],\n",
       " 'caps': [<matplotlib.lines.Line2D at 0x7f5f9ace7c88>,\n",
       "  <matplotlib.lines.Line2D at 0x7f5f9ace72e8>],\n",
       " 'fliers': [<matplotlib.lines.Line2D at 0x7f5f9b6cf5f8>],\n",
       " 'means': [],\n",
       " 'medians': [<matplotlib.lines.Line2D at 0x7f5f9b6cf898>],\n",
       " 'whiskers': [<matplotlib.lines.Line2D at 0x7f5f9b6c3390>,\n",
       "  <matplotlib.lines.Line2D at 0x7f5f9b6c3f60>]}"
      ]
     },
     "execution_count": 39,
     "metadata": {},
     "output_type": "execute_result"
    },
    {
     "data": {
      "image/png": "[encoded data removed]",
      "text/plain": [
       "<Figure size 432x288 with 1 Axes>"
      ]
     },
     "metadata": {},
     "output_type": "display_data"
    }
   ],
   "source": [
    "import numpy as np\n",
    "import matplotlib.pyplot as plt\n",
    "%matplotlib inline  \n",
    "\n",
    "plt.boxplot(bank_data.Balance)"
   ]
  },
  {
   "cell_type": "code",
   "execution_count": 40,
   "metadata": {},
   "outputs": [
    {
     "name": "stdout",
     "output_type": "stream",
     "text": [
      "Q1 is :: 0.0\n",
      "Q3 is :: 127644.24\n",
      "IQR Is:: 127644.24\n",
      "Minimum is:: -191466.36000000002\n",
      "Maximum is :: 319110.60000000003\n"
     ]
    }
   ],
   "source": [
    "# Detect the Parameter for 'Balance Variable'\n",
    "Q1 = bank_data['Balance'].quantile(0.25)\n",
    "Q3 = bank_data['Balance'].quantile(0.75)\n",
    "IQR = Q3 - Q1\n",
    "print(\"Q1 is ::\",Q1)\n",
    "print(\"Q3 is ::\",Q3)\n",
    "print(\"IQR Is::\",IQR)\n",
    "print(\"Minimum is::\",Q1 - 1.5 * IQR)\n",
    "print(\"Maximum is ::\",Q3+1.5*IQR)"
   ]
  },
  {
   "cell_type": "code",
   "execution_count": 41,
   "metadata": {},
   "outputs": [
    {
     "data": {
      "text/plain": [
       "RowNumber            int64\n",
       "CustomerId           int64\n",
       "Surname             object\n",
       "CreditScore          int64\n",
       "Geography           object\n",
       "Gender              object\n",
       "Age                  int64\n",
       "Tenure               int64\n",
       "Balance            float64\n",
       "NumOfProducts        int64\n",
       "HasCrCard            int64\n",
       "IsActiveMember       int64\n",
       "EstimatedSalary    float64\n",
       "Exited               int64\n",
       "dtype: object"
      ]
     },
     "execution_count": 41,
     "metadata": {},
     "output_type": "execute_result"
    }
   ],
   "source": [
    "# Let's find out the Numberic varaibles in the data set \n",
    "bank_data.dtypes"
   ]
  },
  {
   "cell_type": "code",
   "execution_count": 42,
   "metadata": {},
   "outputs": [],
   "source": [
    "cnames=['CustomerId','CreditScore','Age','Tenure','Balance','NumOfProducts','HasCrCard','IsActiveMember','EstimatedSalary','Exited']"
   ]
  },
  {
   "cell_type": "code",
   "execution_count": 63,
   "metadata": {},
   "outputs": [
    {
     "name": "stdout",
     "output_type": "stream",
     "text": [
      "Empty DataFrame\n",
      "Columns: [RowNumber, CustomerId, Surname, CreditScore, Geography, Gender, Age, Tenure, Balance, NumOfProducts, HasCrCard, IsActiveMember, EstimatedSalary, Exited]\n",
      "Index: []\n"
     ]
    }
   ],
   "source": [
    "#print(bank_data['Balance'] < (Q1 - 1.5 * IQR)) |(bank_data['Balance'] > (Q3 + 1.5 * IQR))\n",
    "print(bank_data[~((bank_data < (Q1 - 1.5 * IQR)) |(bank_data > (Q1 + 1.5 * IQR))).any(axis=1)])\n",
    "#dff_out.shape\n",
    "#bank_data.shape"
   ]
  },
  {
   "cell_type": "code",
   "execution_count": 61,
   "metadata": {},
   "outputs": [
    {
     "data": {
      "text/html": [
       "<div>\n",
       "<style>\n",
       "    .dataframe thead tr:only-child th {\n",
       "        text-align: right;\n",
       "    }\n",
       "\n",
       "    .dataframe thead th {\n",
       "        text-align: left;\n",
       "    }\n",
       "\n",
       "    .dataframe tbody tr th {\n",
       "        vertical-align: top;\n",
       "    }\n",
       "</style>\n",
       "<table border=\"1\" class=\"dataframe\">\n",
       "  <thead>\n",
       "    <tr style=\"text-align: right;\">\n",
       "      <th></th>\n",
       "      <th>RowNumber</th>\n",
       "      <th>CustomerId</th>\n",
       "      <th>Surname</th>\n",
       "      <th>CreditScore</th>\n",
       "      <th>Geography</th>\n",
       "      <th>Gender</th>\n",
       "      <th>Age</th>\n",
       "      <th>Tenure</th>\n",
       "      <th>Balance</th>\n",
       "      <th>NumOfProducts</th>\n",
       "      <th>HasCrCard</th>\n",
       "      <th>IsActiveMember</th>\n",
       "      <th>EstimatedSalary</th>\n",
       "      <th>Exited</th>\n",
       "    </tr>\n",
       "  </thead>\n",
       "  <tbody>\n",
       "  </tbody>\n",
       "</table>\n",
       "</div>"
      ],
      "text/plain": [
       "Empty DataFrame\n",
       "Columns: [RowNumber, CustomerId, Surname, CreditScore, Geography, Gender, Age, Tenure, Balance, NumOfProducts, HasCrCard, IsActiveMember, EstimatedSalary, Exited]\n",
       "Index: []"
      ]
     },
     "execution_count": 61,
     "metadata": {},
     "output_type": "execute_result"
    }
   ],
   "source": [
    "dff_out\n"
   ]
  },
  {
   "cell_type": "code",
   "execution_count": 50,
   "metadata": {},
   "outputs": [
    {
     "name": "stdout",
     "output_type": "stream",
     "text": [
      "--------------------\n",
      "Variable Name is: CustomerId\n",
      "Minimum is:: 15441736.125\n",
      "Maximum is :: 15939251.125\n",
      "--------------------\n",
      "Variable Name is: CreditScore\n",
      "Minimum is:: 385.5\n",
      "Maximum is :: 917.5\n",
      "--------------------\n",
      "Variable Name is: Age\n",
      "Minimum is:: 17.5\n",
      "Maximum is :: 53.5\n",
      "--------------------\n",
      "Variable Name is: Tenure\n",
      "Minimum is:: -3.0\n",
      "Maximum is :: 13.0\n",
      "--------------------\n",
      "Variable Name is: Balance\n",
      "Minimum is:: -189872.00624999998\n",
      "Maximum is :: 316453.34375\n",
      "--------------------\n",
      "Variable Name is: NumOfProducts\n",
      "Minimum is:: -0.5\n",
      "Maximum is :: 3.5\n",
      "--------------------\n",
      "Variable Name is: HasCrCard\n",
      "Minimum is:: -1.5\n",
      "Maximum is :: 2.5\n",
      "--------------------\n",
      "Variable Name is: IsActiveMember\n",
      "Minimum is:: -1.5\n",
      "Maximum is :: 2.5\n",
      "--------------------\n",
      "Variable Name is: EstimatedSalary\n",
      "Minimum is:: -95962.1325\n",
      "Maximum is :: 296266.6275\n",
      "--------------------\n",
      "Variable Name is: Exited\n",
      "Minimum is:: 0.0\n",
      "Maximum is :: 0.0\n"
     ]
    }
   ],
   "source": [
    "for i in cnames:\n",
    "    print(\"--------------------\")\n",
    "    print(\"Variable Name is:\",i)\n",
    "    #print(\"--------------------\")\n",
    "    Q3, Q1 = np.percentile(bank_data.loc[:,i], [75 ,25])\n",
    "    IQR = Q3 - Q1\n",
    "    min = Q1 - (IQR*1.5) #to calculate the lowerfence\n",
    "    max = Q3 + (IQR*1.5)\n",
    "   \n",
    "    print(\"Minimum is::\",min)\n",
    "    print(\"Maximum is ::\",max)\n",
    "   \n",
    "    \n",
    "    bank_data_min = bank_data.drop(bank_data[bank_data.loc[:,i] < min].index)\n",
    "    bank_data_max = bank_data.drop(bank_data[bank_data.loc[:,i] > max].index)\n",
    "    "
   ]
  },
  {
   "cell_type": "code",
   "execution_count": 51,
   "metadata": {},
   "outputs": [
    {
     "data": {
      "text/plain": [
       "(7390, 14)"
      ]
     },
     "execution_count": 51,
     "metadata": {},
     "output_type": "execute_result"
    }
   ],
   "source": [
    "#bank_data.shape"
   ]
  },
  {
   "cell_type": "code",
   "execution_count": null,
   "metadata": {},
   "outputs": [],
   "source": [
    "bank_data_min\n",
    "### Let's Test The Outlier Scenario"
   ]
  },
  {
   "cell_type": "code",
   "execution_count": 64,
   "metadata": {},
   "outputs": [],
   "source": [
    "bank_data_outlier=pd.read_csv('Bank_Dataset_Outlier.csv')\n"
   ]
  },
  {
   "cell_type": "code",
   "execution_count": 65,
   "metadata": {},
   "outputs": [
    {
     "data": {
      "text/plain": [
       "116363.37"
      ]
     },
     "execution_count": 65,
     "metadata": {},
     "output_type": "execute_result"
    }
   ],
   "source": [
    "bank_data_outlier['Balance'].loc[50]"
   ]
  },
  {
   "cell_type": "code",
   "execution_count": 67,
   "metadata": {},
   "outputs": [
    {
     "name": "stderr",
     "output_type": "stream",
     "text": [
      "/home/mkumar9824/anaconda3/lib/python3.6/site-packages/pandas/core/indexing.py:179: SettingWithCopyWarning: \n",
      "A value is trying to be set on a copy of a slice from a DataFrame\n",
      "\n",
      "See the caveats in the documentation: http://pandas.pydata.org/pandas-docs/stable/indexing.html#indexing-view-versus-copy\n",
      "  self._setitem_with_indexer(indexer, value)\n"
     ]
    }
   ],
   "source": [
    "# Lets insert one in to Bank_dataset.csv an outlier then try to draw the Box Plot \n",
    "bank_data_outlier['Balance'].loc[50]=550000"
   ]
  },
  {
   "cell_type": "code",
   "execution_count": 68,
   "metadata": {},
   "outputs": [
    {
     "data": {
      "text/plain": [
       "550000.0"
      ]
     },
     "execution_count": 68,
     "metadata": {},
     "output_type": "execute_result"
    }
   ],
   "source": [
    "bank_data_outlier['Balance'].loc[50]"
   ]
  },
  {
   "cell_type": "code",
   "execution_count": 69,
   "metadata": {},
   "outputs": [
    {
     "data": {
      "text/plain": [
       "{'boxes': [<matplotlib.lines.Line2D at 0x7f5f9b2094a8>],\n",
       " 'caps': [<matplotlib.lines.Line2D at 0x7f5f9b1e77b8>,\n",
       "  <matplotlib.lines.Line2D at 0x7f5f9b1e7f60>],\n",
       " 'fliers': [<matplotlib.lines.Line2D at 0x7f5f9b208588>],\n",
       " 'means': [],\n",
       " 'medians': [<matplotlib.lines.Line2D at 0x7f5f9b208860>],\n",
       " 'whiskers': [<matplotlib.lines.Line2D at 0x7f5f9b209748>,\n",
       "  <matplotlib.lines.Line2D at 0x7f5f9b2097b8>]}"
      ]
     },
     "execution_count": 69,
     "metadata": {},
     "output_type": "execute_result"
    },
    {
     "data": {
      "image/png": "[encoded data removed]",
      "text/plain": [
       "<Figure size 432x288 with 1 Axes>"
      ]
     },
     "metadata": {},
     "output_type": "display_data"
    }
   ],
   "source": [
    "# Now draw the Box Plot \n",
    "%matplotlib inline  \n",
    "\n",
    "plt.boxplot(bank_data_outlier.Balance)"
   ]
  },
  {
   "cell_type": "code",
   "execution_count": 71,
   "metadata": {},
   "outputs": [
    {
     "name": "stdout",
     "output_type": "stream",
     "text": [
      "Q1 is :: 0.0\n",
      "Q3 is :: 127651.035\n",
      "IQR Is:: 127651.035\n",
      "Minimum is:: -191476.5525\n",
      "Maximum is :: 319127.5875\n"
     ]
    }
   ],
   "source": [
    "Q1 = bank_data_outlier['Balance'].quantile(0.25)\n",
    "Q3 = bank_data_outlier['Balance'].quantile(0.75)\n",
    "IQR = Q3 - Q1\n",
    "print(\"Q1 is ::\",Q1)\n",
    "print(\"Q3 is ::\",Q3)\n",
    "print(\"IQR Is::\",IQR)\n",
    "print(\"Minimum is::\",Q1 - 1.5 * IQR)\n",
    "print(\"Maximum is ::\",Q3+1.5*IQR)"
   ]
  },
  {
   "cell_type": "markdown",
   "metadata": {},
   "source": [
    "### Let's Plot the BoxPlot for Age Varaible and remove the oulier from the age variable"
   ]
  },
  {
   "cell_type": "code",
   "execution_count": 129,
   "metadata": {},
   "outputs": [
    {
     "data": {
      "text/plain": [
       "{'boxes': [<matplotlib.lines.Line2D at 0x7fd7cdcaf588>],\n",
       " 'caps': [<matplotlib.lines.Line2D at 0x7fd7ce1cf908>,\n",
       "  <matplotlib.lines.Line2D at 0x7fd7ce1cfc18>],\n",
       " 'fliers': [<matplotlib.lines.Line2D at 0x7fd7cd979518>],\n",
       " 'means': [],\n",
       " 'medians': [<matplotlib.lines.Line2D at 0x7fd7cd9790f0>],\n",
       " 'whiskers': [<matplotlib.lines.Line2D at 0x7fd7cdbce358>,\n",
       "  <matplotlib.lines.Line2D at 0x7fd7cdd4f0f0>]}"
      ]
     },
     "execution_count": 129,
     "metadata": {},
     "output_type": "execute_result"
    },
    {
     "data": {
      "image/png": "[encoded data removed]",
      "text/plain": [
       "<Figure size 432x288 with 1 Axes>"
      ]
     },
     "metadata": {},
     "output_type": "display_data"
    }
   ],
   "source": [
    "\n",
    "%matplotlib inline  \n",
    "\n",
    "plt.boxplot(bank_data.Age)"
   ]
  },
  {
   "cell_type": "code",
   "execution_count": 84,
   "metadata": {},
   "outputs": [
    {
     "data": {
      "image/png": "[encoded data removed]",
      "text/plain": [
       "<Figure size 432x288 with 1 Axes>"
      ]
     },
     "metadata": {},
     "output_type": "display_data"
    }
   ],
   "source": [
    "import seaborn as sns\n",
    "ax = sns.boxplot(y=bank_data[\"Age\"])"
   ]
  },
  {
   "cell_type": "code",
   "execution_count": 72,
   "metadata": {},
   "outputs": [
    {
     "name": "stdout",
     "output_type": "stream",
     "text": [
      "Q1 is :: 31.0\n",
      "Q3 is :: 40.0\n",
      "IQR Is:: 9.0\n",
      "Minimum is:: 17.5\n",
      "Maximum is :: 53.5\n"
     ]
    }
   ],
   "source": [
    "Q1 = bank_data['Age'].quantile(0.25)\n",
    "Q3 = bank_data['Age'].quantile(0.75)\n",
    "IQR = Q3 - Q1\n",
    "print(\"Q1 is ::\",Q1)\n",
    "print(\"Q3 is ::\",Q3)\n",
    "print(\"IQR Is::\",IQR)\n",
    "print(\"Minimum is::\",Q1 - 1.5 * IQR)\n",
    "print(\"Maximum is ::\",Q3+1.5*IQR)"
   ]
  },
  {
   "cell_type": "code",
   "execution_count": 80,
   "metadata": {},
   "outputs": [],
   "source": [
    "def remove_outlier(bank_data, col_name):\n",
    "    Q1 = bank_data[col_name].quantile(0.25)\n",
    "    Q3 = bank_data[col_name].quantile(0.75)\n",
    "    IQR = Q3 - Q1 #Interquartile range\n",
    "    fence_low  = Q1-1.5*IQR\n",
    "    fence_high = Q3+1.5*IQR\n",
    "    bank_data_out = bank_data.loc[(bank_data[col_name] > fence_low) | (bank_data[col_name] < fence_high)]\n",
    "    return bank_data_out"
   ]
  },
  {
   "cell_type": "code",
   "execution_count": 81,
   "metadata": {},
   "outputs": [],
   "source": [
    "result=remove_outlier(bank_data,'Age')"
   ]
  },
  {
   "cell_type": "code",
   "execution_count": 83,
   "metadata": {},
   "outputs": [
    {
     "data": {
      "text/plain": [
       "7390"
      ]
     },
     "execution_count": 83,
     "metadata": {},
     "output_type": "execute_result"
    }
   ],
   "source": []
  }
 ],
 "metadata": {
  "kernelspec": {
   "display_name": "Python 3",
   "language": "python",
   "name": "python3"
  },
  "language_info": {
   "codemirror_mode": {
    "name": "ipython",
    "version": 3
   },
   "file_extension": ".py",
   "mimetype": "text/x-python",
   "name": "python",
   "nbconvert_exporter": "python",
   "pygments_lexer": "ipython3",
   "version": "3.6.8"
  }
 },
 "nbformat": 4,
 "nbformat_minor": 2
}
