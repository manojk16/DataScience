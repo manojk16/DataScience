{
 "cells": [
  {
   "cell_type": "markdown",
   "metadata": {},
   "source": [
    "## Machine Learning by Andrew NG_Quiz_2_Linear_Regrssion"
   ]
  },
  {
   "cell_type": "markdown",
   "metadata": {},
   "source": [
    "## Question 1\n",
    "Consider the problem of predicting how well a student does in her second year of college/university, given how well she did in her first year.\n",
    "Specifically, let x be equal to the number of \"A\" grades (including A-. A and A+ grades) that a student receives in their first year of college (freshmen year). We would like to predict the value of y, which we define as the number of \"A\" grades they get in their second year (sophomore year).\n",
    "Here each row is one training example. Recall that in linear regression, our hypothesis is  $$h_\\theta(x) = \\theta_0 + \\theta_1x$$ and we use m  to denote the number of training examples.\n"
   ]
  },
  {
   "cell_type": "markdown",
   "metadata": {},
   "source": [
    "\n",
    "![](https://d396qusza40orc.cloudfront.net/flex-ml/quizIIq1v2.png)\n",
    "\n",
    "\n"
   ]
  },
  {
   "cell_type": "markdown",
   "metadata": {},
   "source": [
    "For the training set given above (note that this training set may also be referenced in other questions in this quiz), what is the value of m? In the box below, please enter your answer (which should be a number between 0 and 10)."
   ]
  },
  {
   "cell_type": "markdown",
   "metadata": {},
   "source": [
    "Ans : 4"
   ]
  },
  {
   "cell_type": "markdown",
   "metadata": {},
   "source": [
    "## Question 2\n",
    "For this question, assume that we are using the training set from Q1. Recall our definition of the cost function was  $$J(\\theta_0, \\theta_1) = \\frac{1}{2m}\\sum_{i=1}^m{(h_\\theta(x^{(i)}) - y^{(i)})^2}$$\n"
   ]
  },
  {
   "cell_type": "markdown",
   "metadata": {},
   "source": [
    "What is $J(0, 1)$? In the box below."
   ]
  },
  {
   "cell_type": "markdown",
   "metadata": {},
   "source": [
    "Ans: In the above formula put **m=4** and for each m find the of  value x anf y from given table in question 1, Then after solving we got $$J(\\theta_0, \\theta_1)=  0.5$$\n",
    "Hence ans is **$$0.5$$**"
   ]
  },
  {
   "cell_type": "markdown",
   "metadata": {},
   "source": [
    "## Question 3\n",
    "Suppose we set $\\theta_0 = -1$, $\\theta_1 = 0.5$. What is $h_{\\theta}(4)$?"
   ]
  },
  {
   "cell_type": "markdown",
   "metadata": {},
   "source": [
    "**Ans**  :As we know $h_\\theta(x) = \\theta_0 + \\theta_1x$ \n",
    "put $$\\theta_0 = -1$$  $$\\theta_1 = 0.5$$ and $$x = 4$$ So after solving the simple equation we find that  $$h_{\\theta}(4)=1$$\n"
   ]
  },
  {
   "cell_type": "markdown",
   "metadata": {},
   "source": [
    "## Question 4 \n",
    "In the given figure, the cost function $J(\\theta_0,\\theta_1)$has been plotted against $\\theta_0$​ and $\\theta_1$​, as shown in 'Plot 2'. The contour plot for the same cost function is given in 'Plot 1'. Based on the figure, choose the correct options (check all that apply)"
   ]
  },
  {
   "cell_type": "markdown",
   "metadata": {},
   "source": [
    "![](https://d396qusza40orc.cloudfront.net/ml/images/4.2-quiz-1.png)"
   ]
  },
  {
   "cell_type": "markdown",
   "metadata": {},
   "source": [
    " [ ] Point P (The global minimum of plot 2) corresponds to point C of Plot 1.<br /> \n",
    " [x] <font color='red'> If we start from point B, gradient descent with a well-chosen learning rate will eventually help us reach at or near point A, as the value of cost function $J(\\theta_0,\\theta_1)$ is minimum at A.</font><br /> \n",
    " [x] <font color='red'>Point P (the global minimum of plot 2) corresponds to point A of Plot 1.</font><br /> \n",
    " [ ] If we start from point B, gradient descent with a well-chosen learning rate will eventually help us reach at or near point C, as the value of cost function $J(\\theta_0,\\theta_1)$ is minimum at point C.<br /> \n",
    " [ ] If we start from point B, gradient descent with a well-chosen learning rate will eventually help us reach at or near point A, as the value of cost function $J(\\theta_0,\\theta_1)$ is maximum at point A.<br /> \n"
   ]
  },
  {
   "cell_type": "markdown",
   "metadata": {},
   "source": [
    "## Question 5 \n",
    "Suppose that for some linear regression problem (say, predicting housing prices as in the lecture), we have some training set, and for our training set we managed to find some  $\\theta_0$​,  $\\theta_1$  such that  $J(\\theta_0, \\theta_1)=0$."
   ]
  },
  {
   "cell_type": "markdown",
   "metadata": {},
   "source": [
    " [ ] For this to be true, we must have $y^{(i)} = 0$ for every value of i = 1, 2, \\ldots, mi=1,2,…,m.<br/>\n",
    " [ ] Gradient descent is likely to get stuck at a local minimum and fail to find the global minimum.<br/>\n",
    " [x] <font color='red'>Our training set can be fit perfectly by a straight line,\n",
    "i.e., all of our training examples lie perfectly on some straight line.</font> <br/>\n",
    " [ ] For this to be true, we must have \\theta_0 = 0θ0​=0 and $\\theta_1 = 0$ so that $h_\\theta(x) = 0$<br/>"
   ]
  }
 ],
 "metadata": {
  "kernelspec": {
   "display_name": "Python 3",
   "language": "python",
   "name": "python3"
  },
  "language_info": {
   "codemirror_mode": {
    "name": "ipython",
    "version": 3
   },
   "file_extension": ".py",
   "mimetype": "text/x-python",
   "name": "python",
   "nbconvert_exporter": "python",
   "pygments_lexer": "ipython3",
   "version": "3.6.8"
  }
 },
 "nbformat": 4,
 "nbformat_minor": 2
}
