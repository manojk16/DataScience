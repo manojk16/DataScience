{
 "cells": [
  {
   "cell_type": "code",
   "execution_count": 18,
   "metadata": {
    "collapsed": true
   },
   "outputs": [],
   "source": [
    "#remove all the objects stored\n",
    "rm(list=ls())\n"
   ]
  },
  {
   "cell_type": "markdown",
   "metadata": {},
   "source": [
    "### Two types of variables\n",
    "- Categorical\n",
    "- Ordinal. Ex: Low, medium, high\n",
    "- Nominal. Ex: Tiger, Lion, Elephant\n",
    "- Continuous. Ex: 4, 5, 3.2\n",
    "### Different types of data\n",
    "- Factor\n",
    "- Character\n",
    "- Numeric"
   ]
  },
  {
   "cell_type": "markdown",
   "metadata": {},
   "source": [
    "# Changing the data type\n",
    "### Neural networks\n",
    "– All attributes must be numeric\n",
    "### Naive Bayes\n",
    "– All attributes must be categorical"
   ]
  },
  {
   "cell_type": "markdown",
   "metadata": {},
   "source": [
    "### Changing numeric to categorical\n",
    "- Equal frequency (Number of samples in each bin is equal)\n",
    "- Let us say, we have the data for price: 4, 8, 9, 15, 21, 21, 24, 25, 26, 28, 29, 34\n",
    "- If we partition into equal-frequency (equi-depth) bins we get the following three bins\n",
    "- Bin 1: 4, 8, 9, 15\n",
    "- Bin 2: 21, 21, 24, 25\n",
    "- Bin 3: 26, 28, 29, 34"
   ]
  },
  {
   "cell_type": "markdown",
   "metadata": {},
   "source": [
    "### Equal width (Interval is same (good for uniform distributions))\n",
    "#### If we partition into equal width then we get\n",
    "- Bin 1: 4, 8, 9\n",
    "- Bin 2: 15, 21, 21, 24\n",
    "- Bin 3: 25, 26, 28, 29, 34"
   ]
  },
  {
   "cell_type": "markdown",
   "metadata": {},
   "source": [
    "### Changing categorical to numeric\n",
    "- Five codes for marital status (“single,” “divorced,” “married,” “widowed,” and\n",
    "“unknown”) would be mapped to –1.0, –0.5, 0.0, +0.5, +1.0, respectively"
   ]
  },
  {
   "cell_type": "markdown",
   "metadata": {},
   "source": [
    "### References\n",
    "- https://www.r-bloggers.com/\n",
    "- https://www.statmethods.net/\n",
    "- http://rfunction.com/"
   ]
  },
  {
   "cell_type": "code",
   "execution_count": 1,
   "metadata": {},
   "outputs": [
    {
     "data": {
      "text/html": [
       "'/home/mkumar9824/Manoj_Doc/DataScience/R_lang'"
      ],
      "text/latex": [
       "'/home/mkumar9824/Manoj\\_Doc/DataScience/R\\_lang'"
      ],
      "text/markdown": [
       "'/home/mkumar9824/Manoj_Doc/DataScience/R_lang'"
      ],
      "text/plain": [
       "[1] \"/home/mkumar9824/Manoj_Doc/DataScience/R_lang\""
      ]
     },
     "metadata": {},
     "output_type": "display_data"
    }
   ],
   "source": [
    "getwd()"
   ]
  },
  {
   "cell_type": "code",
   "execution_count": 20,
   "metadata": {},
   "outputs": [
    {
     "ename": "ERROR",
     "evalue": "Error in setwd(\"PATH\"): cannot change working directory\n",
     "execution_count": 20,
     "output_type": "error",
     "traceback": [
      "Error in setwd(\"PATH\"): cannot change working directory\nTraceback:\n",
      "1. setwd(\"PATH\")"
     ]
    }
   ],
   "source": [
    "#setwd(\"PATH\") # Set the Current Working Directoty  "
   ]
  },
  {
   "cell_type": "code",
   "execution_count": 21,
   "metadata": {},
   "outputs": [
    {
     "name": "stderr",
     "output_type": "stream",
     "text": [
      "Warning message:\n",
      "“package ‘packageName’ is not available (for R version 3.5.1)”"
     ]
    }
   ],
   "source": [
    "#instaling packages\n",
    "install.packages(\"packageName\")"
   ]
  },
  {
   "cell_type": "code",
   "execution_count": 22,
   "metadata": {
    "collapsed": true
   },
   "outputs": [],
   "source": [
    "#Install multiple packages at a time\n",
    "#install.packages(c(\"dplyr\",\"plyr\",\"reshape\",\"ggplot2\",\"data.table\"))"
   ]
  },
  {
   "cell_type": "code",
   "execution_count": 23,
   "metadata": {
    "collapsed": true
   },
   "outputs": [],
   "source": [
    "##Load data in R\n",
    "#reading CSV\n",
    "#df = read.csv(\"MissingInfo-V2.csv\", header = T) "
   ]
  },
  {
   "cell_type": "code",
   "execution_count": 28,
   "metadata": {},
   "outputs": [
    {
     "data": {
      "text/html": [
       "2"
      ],
      "text/latex": [
       "2"
      ],
      "text/markdown": [
       "2"
      ],
      "text/plain": [
       "[1] 2"
      ]
     },
     "metadata": {},
     "output_type": "display_data"
    }
   ],
   "source": [
    "#To read the Excekl file follow below steps \n",
    "#1. install.packages(\"tidyverse\")\n",
    "#library(tidyverse)\n",
    "2. #install.packages(\"readxl\")\n",
    "#install.packages(\"xlsx\", dependencies = TRUE)\n",
    "#library(xlsx)\n",
    "#install.packages(xlsx)\n",
    "#data_excel = read.xlsx(\"movie_metadata.xlsx\",sheet = 1, skipEmptyRows = FALSE)\n",
    "#install.packages(\"xlsx\")\n",
    "#library(\"xlsx\")\n",
    "#install.packages(\"xlsx\", dependencies = TRUE)\n",
    "#library(\"xlsx\")"
   ]
  },
  {
   "cell_type": "code",
   "execution_count": 37,
   "metadata": {
    "collapsed": true
   },
   "outputs": [],
   "source": [
    "#reading .txt file as dataframe\n",
    "data = read.delim(\"S08_question_answer_pairs.txt\",sep = \"\\t\", header = F) \n",
    "#, "
   ]
  },
  {
   "cell_type": "code",
   "execution_count": 38,
   "metadata": {},
   "outputs": [
    {
     "data": {
      "text/html": [
       "<ol class=list-inline>\n",
       "\t<li>1716</li>\n",
       "\t<li>6</li>\n",
       "</ol>\n"
      ],
      "text/latex": [
       "\\begin{enumerate*}\n",
       "\\item 1716\n",
       "\\item 6\n",
       "\\end{enumerate*}\n"
      ],
      "text/markdown": [
       "1. 1716\n",
       "2. 6\n",
       "\n",
       "\n"
      ],
      "text/plain": [
       "[1] 1716    6"
      ]
     },
     "metadata": {},
     "output_type": "display_data"
    }
   ],
   "source": [
    "#Getting the number of variables and obervation in the datasets\n",
    "dim(data)\n",
    "\n"
   ]
  },
  {
   "cell_type": "code",
   "execution_count": 43,
   "metadata": {},
   "outputs": [
    {
     "data": {
      "text/html": [
       "<table>\n",
       "<thead><tr><th scope=col>V1</th><th scope=col>V2</th><th scope=col>V3</th><th scope=col>V4</th><th scope=col>V5</th><th scope=col>V6</th></tr></thead>\n",
       "<tbody>\n",
       "\t<tr><td>ArticleTitle                                                     </td><td>Question                                                         </td><td>Answer                                                           </td><td>DifficultyFromQuestioner                                         </td><td>DifficultyFromAnswerer                                           </td><td>ArticleFile                                                      </td></tr>\n",
       "\t<tr><td>Abraham_Lincoln                                                  </td><td>Was Abraham Lincoln the sixteenth President of the United States?</td><td>yes                                                              </td><td>easy                                                             </td><td>easy                                                             </td><td>S08_set3_a4                                                      </td></tr>\n",
       "\t<tr><td>Abraham_Lincoln                                                  </td><td>Was Abraham Lincoln the sixteenth President of the United States?</td><td>Yes.                                                             </td><td>easy                                                             </td><td>easy                                                             </td><td>S08_set3_a4                                                      </td></tr>\n",
       "\t<tr><td>Abraham_Lincoln                                                  </td><td>Did Lincoln sign the National Banking Act of 1863?               </td><td>yes                                                              </td><td>easy                                                             </td><td>medium                                                           </td><td>S08_set3_a4                                                      </td></tr>\n",
       "\t<tr><td>Abraham_Lincoln                                                  </td><td>Did Lincoln sign the National Banking Act of 1863?               </td><td>Yes.                                                             </td><td>easy                                                             </td><td>easy                                                             </td><td>S08_set3_a4                                                      </td></tr>\n",
       "</tbody>\n",
       "</table>\n"
      ],
      "text/latex": [
       "\\begin{tabular}{r|llllll}\n",
       " V1 & V2 & V3 & V4 & V5 & V6\\\\\n",
       "\\hline\n",
       "\t ArticleTitle                                                      & Question                                                          & Answer                                                            & DifficultyFromQuestioner                                          & DifficultyFromAnswerer                                            & ArticleFile                                                      \\\\\n",
       "\t Abraham\\_Lincoln                                                 & Was Abraham Lincoln the sixteenth President of the United States? & yes                                                               & easy                                                              & easy                                                              & S08\\_set3\\_a4                                                  \\\\\n",
       "\t Abraham\\_Lincoln                                                 & Was Abraham Lincoln the sixteenth President of the United States? & Yes.                                                              & easy                                                              & easy                                                              & S08\\_set3\\_a4                                                  \\\\\n",
       "\t Abraham\\_Lincoln                                                 & Did Lincoln sign the National Banking Act of 1863?                & yes                                                               & easy                                                              & medium                                                            & S08\\_set3\\_a4                                                  \\\\\n",
       "\t Abraham\\_Lincoln                                                 & Did Lincoln sign the National Banking Act of 1863?                & Yes.                                                              & easy                                                              & easy                                                              & S08\\_set3\\_a4                                                  \\\\\n",
       "\\end{tabular}\n"
      ],
      "text/markdown": [
       "\n",
       "V1 | V2 | V3 | V4 | V5 | V6 | \n",
       "|---|---|---|---|---|\n",
       "| ArticleTitle                                                      | Question                                                          | Answer                                                            | DifficultyFromQuestioner                                          | DifficultyFromAnswerer                                            | ArticleFile                                                       | \n",
       "| Abraham_Lincoln                                                   | Was Abraham Lincoln the sixteenth President of the United States? | yes                                                               | easy                                                              | easy                                                              | S08_set3_a4                                                       | \n",
       "| Abraham_Lincoln                                                   | Was Abraham Lincoln the sixteenth President of the United States? | Yes.                                                              | easy                                                              | easy                                                              | S08_set3_a4                                                       | \n",
       "| Abraham_Lincoln                                                   | Did Lincoln sign the National Banking Act of 1863?                | yes                                                               | easy                                                              | medium                                                            | S08_set3_a4                                                       | \n",
       "| Abraham_Lincoln                                                   | Did Lincoln sign the National Banking Act of 1863?                | Yes.                                                              | easy                                                              | easy                                                              | S08_set3_a4                                                       | \n",
       "\n",
       "\n"
      ],
      "text/plain": [
       "  V1             \n",
       "1 ArticleTitle   \n",
       "2 Abraham_Lincoln\n",
       "3 Abraham_Lincoln\n",
       "4 Abraham_Lincoln\n",
       "5 Abraham_Lincoln\n",
       "  V2                                                                V3    \n",
       "1 Question                                                          Answer\n",
       "2 Was Abraham Lincoln the sixteenth President of the United States? yes   \n",
       "3 Was Abraham Lincoln the sixteenth President of the United States? Yes.  \n",
       "4 Did Lincoln sign the National Banking Act of 1863?                yes   \n",
       "5 Did Lincoln sign the National Banking Act of 1863?                Yes.  \n",
       "  V4                       V5                     V6         \n",
       "1 DifficultyFromQuestioner DifficultyFromAnswerer ArticleFile\n",
       "2 easy                     easy                   S08_set3_a4\n",
       "3 easy                     easy                   S08_set3_a4\n",
       "4 easy                     medium                 S08_set3_a4\n",
       "5 easy                     easy                   S08_set3_a4"
      ]
     },
     "metadata": {},
     "output_type": "display_data"
    }
   ],
   "source": [
    "#Getting first 5 rows and first 6 column of the dataset\n",
    "data[1:5,1:6]"
   ]
  },
  {
   "cell_type": "code",
   "execution_count": 45,
   "metadata": {
    "collapsed": true
   },
   "outputs": [],
   "source": [
    "#Getting first 6 columns of the dataset\n",
    "data[, 1:6]"
   ]
  },
  {
   "cell_type": "code",
   "execution_count": 3,
   "metadata": {
    "collapsed": true
   },
   "outputs": [],
   "source": [
    "data=read.csv(\"P2-Demographic-Data.csv\")"
   ]
  },
  {
   "cell_type": "code",
   "execution_count": 4,
   "metadata": {},
   "outputs": [
    {
     "data": {
      "text/html": [
       "<table>\n",
       "<thead><tr><th scope=col>Country.Name</th><th scope=col>Country.Code</th><th scope=col>Birth.rate</th><th scope=col>Internet.users</th><th scope=col>Income.Group</th></tr></thead>\n",
       "<tbody>\n",
       "\t<tr><td>Aruba               </td><td>ABW                 </td><td>10.244              </td><td>78.9                </td><td>High income         </td></tr>\n",
       "\t<tr><td>Afghanistan         </td><td>AFG                 </td><td>35.253              </td><td> 5.9                </td><td>Low income          </td></tr>\n",
       "\t<tr><td>Angola              </td><td>AGO                 </td><td>45.985              </td><td>19.1                </td><td>Upper middle income </td></tr>\n",
       "\t<tr><td>Albania             </td><td>ALB                 </td><td>12.877              </td><td>57.2                </td><td>Upper middle income </td></tr>\n",
       "\t<tr><td>United Arab Emirates</td><td>ARE                 </td><td>11.044              </td><td>88.0                </td><td>High income         </td></tr>\n",
       "\t<tr><td>Argentina           </td><td>ARG                 </td><td>17.716              </td><td>59.9                </td><td>High income         </td></tr>\n",
       "</tbody>\n",
       "</table>\n"
      ],
      "text/latex": [
       "\\begin{tabular}{r|lllll}\n",
       " Country.Name & Country.Code & Birth.rate & Internet.users & Income.Group\\\\\n",
       "\\hline\n",
       "\t Aruba                & ABW                  & 10.244               & 78.9                 & High income         \\\\\n",
       "\t Afghanistan          & AFG                  & 35.253               &  5.9                 & Low income          \\\\\n",
       "\t Angola               & AGO                  & 45.985               & 19.1                 & Upper middle income \\\\\n",
       "\t Albania              & ALB                  & 12.877               & 57.2                 & Upper middle income \\\\\n",
       "\t United Arab Emirates & ARE                  & 11.044               & 88.0                 & High income         \\\\\n",
       "\t Argentina            & ARG                  & 17.716               & 59.9                 & High income         \\\\\n",
       "\\end{tabular}\n"
      ],
      "text/markdown": [
       "\n",
       "Country.Name | Country.Code | Birth.rate | Internet.users | Income.Group | \n",
       "|---|---|---|---|---|---|\n",
       "| Aruba                | ABW                  | 10.244               | 78.9                 | High income          | \n",
       "| Afghanistan          | AFG                  | 35.253               |  5.9                 | Low income           | \n",
       "| Angola               | AGO                  | 45.985               | 19.1                 | Upper middle income  | \n",
       "| Albania              | ALB                  | 12.877               | 57.2                 | Upper middle income  | \n",
       "| United Arab Emirates | ARE                  | 11.044               | 88.0                 | High income          | \n",
       "| Argentina            | ARG                  | 17.716               | 59.9                 | High income          | \n",
       "\n",
       "\n"
      ],
      "text/plain": [
       "  Country.Name         Country.Code Birth.rate Internet.users\n",
       "1 Aruba                ABW          10.244     78.9          \n",
       "2 Afghanistan          AFG          35.253      5.9          \n",
       "3 Angola               AGO          45.985     19.1          \n",
       "4 Albania              ALB          12.877     57.2          \n",
       "5 United Arab Emirates ARE          11.044     88.0          \n",
       "6 Argentina            ARG          17.716     59.9          \n",
       "  Income.Group       \n",
       "1 High income        \n",
       "2 Low income         \n",
       "3 Upper middle income\n",
       "4 Upper middle income\n",
       "5 High income        \n",
       "6 High income        "
      ]
     },
     "metadata": {},
     "output_type": "display_data"
    }
   ],
   "source": [
    "head(data)"
   ]
  },
  {
   "cell_type": "code",
   "execution_count": 5,
   "metadata": {},
   "outputs": [
    {
     "data": {
      "text/html": [
       "<table>\n",
       "<thead><tr><th scope=col>Country.Code</th><th scope=col>Birth.rate</th></tr></thead>\n",
       "<tbody>\n",
       "\t<tr><td>ABW   </td><td>10.244</td></tr>\n",
       "\t<tr><td>AFG   </td><td>35.253</td></tr>\n",
       "</tbody>\n",
       "</table>\n"
      ],
      "text/latex": [
       "\\begin{tabular}{r|ll}\n",
       " Country.Code & Birth.rate\\\\\n",
       "\\hline\n",
       "\t ABW    & 10.244\\\\\n",
       "\t AFG    & 35.253\\\\\n",
       "\\end{tabular}\n"
      ],
      "text/markdown": [
       "\n",
       "Country.Code | Birth.rate | \n",
       "|---|---|\n",
       "| ABW    | 10.244 | \n",
       "| AFG    | 35.253 | \n",
       "\n",
       "\n"
      ],
      "text/plain": [
       "  Country.Code Birth.rate\n",
       "1 ABW          10.244    \n",
       "2 AFG          35.253    "
      ]
     },
     "metadata": {},
     "output_type": "display_data"
    }
   ],
   "source": [
    "\n",
    "# First, Second Row and Second and Third COlumn\n",
    "df<-data\n",
    "df[1:2, 2:3]#"
   ]
  },
  {
   "cell_type": "code",
   "execution_count": 6,
   "metadata": {},
   "outputs": [
    {
     "data": {
      "text/html": [
       "<ol class=list-inline>\n",
       "\t<li>Aruba</li>\n",
       "\t<li>Afghanistan</li>\n",
       "\t<li>Angola</li>\n",
       "\t<li>Albania</li>\n",
       "\t<li>United Arab Emirates</li>\n",
       "\t<li>Argentina</li>\n",
       "\t<li>Armenia</li>\n",
       "\t<li>Antigua and Barbuda</li>\n",
       "\t<li>Australia</li>\n",
       "\t<li>Austria</li>\n",
       "\t<li>Azerbaijan</li>\n",
       "\t<li>Burundi</li>\n",
       "\t<li>Belgium</li>\n",
       "\t<li>Benin</li>\n",
       "\t<li>Burkina Faso</li>\n",
       "\t<li>Bangladesh</li>\n",
       "\t<li>Bulgaria</li>\n",
       "\t<li>Bahrain</li>\n",
       "\t<li>Bahamas, The</li>\n",
       "\t<li>Bosnia and Herzegovina</li>\n",
       "\t<li>Belarus</li>\n",
       "\t<li>Belize</li>\n",
       "\t<li>Bermuda</li>\n",
       "\t<li>Bolivia</li>\n",
       "\t<li>Brazil</li>\n",
       "\t<li>Barbados</li>\n",
       "\t<li>Brunei Darussalam</li>\n",
       "\t<li>Bhutan</li>\n",
       "\t<li>Botswana</li>\n",
       "\t<li>Central African Republic</li>\n",
       "\t<li>Canada</li>\n",
       "\t<li>Switzerland</li>\n",
       "\t<li>Chile</li>\n",
       "\t<li>China</li>\n",
       "\t<li>Cote d'Ivoire</li>\n",
       "\t<li>Cameroon</li>\n",
       "\t<li>Congo, Rep.</li>\n",
       "\t<li>Colombia</li>\n",
       "\t<li>Comoros</li>\n",
       "\t<li>Cabo Verde</li>\n",
       "\t<li>Costa Rica</li>\n",
       "\t<li>Cuba</li>\n",
       "\t<li>Cayman Islands</li>\n",
       "\t<li>Cyprus</li>\n",
       "\t<li>Czech Republic</li>\n",
       "\t<li>Germany</li>\n",
       "\t<li>Djibouti</li>\n",
       "\t<li>Denmark</li>\n",
       "\t<li>Dominican Republic</li>\n",
       "\t<li>Algeria</li>\n",
       "\t<li>Ecuador</li>\n",
       "\t<li>Egypt, Arab Rep.</li>\n",
       "\t<li>Eritrea</li>\n",
       "\t<li>Spain</li>\n",
       "\t<li>Estonia</li>\n",
       "\t<li>Ethiopia</li>\n",
       "\t<li>Finland</li>\n",
       "\t<li>Fiji</li>\n",
       "\t<li>France</li>\n",
       "\t<li>Micronesia, Fed. Sts.</li>\n",
       "\t<li>Gabon</li>\n",
       "\t<li>United Kingdom</li>\n",
       "\t<li>Georgia</li>\n",
       "\t<li>Ghana</li>\n",
       "\t<li>Guinea</li>\n",
       "\t<li>Gambia, The</li>\n",
       "\t<li>Guinea-Bissau</li>\n",
       "\t<li>Equatorial Guinea</li>\n",
       "\t<li>Greece</li>\n",
       "\t<li>Grenada</li>\n",
       "\t<li>Greenland</li>\n",
       "\t<li>Guatemala</li>\n",
       "\t<li>Guam</li>\n",
       "\t<li>Guyana</li>\n",
       "\t<li>Hong Kong SAR, China</li>\n",
       "\t<li>Honduras</li>\n",
       "\t<li>Croatia</li>\n",
       "\t<li>Haiti</li>\n",
       "\t<li>Hungary</li>\n",
       "\t<li>Indonesia</li>\n",
       "\t<li>India</li>\n",
       "\t<li>Ireland</li>\n",
       "\t<li>Iran, Islamic Rep.</li>\n",
       "\t<li>Iraq</li>\n",
       "\t<li>Iceland</li>\n",
       "\t<li>Israel</li>\n",
       "\t<li>Italy</li>\n",
       "\t<li>Jamaica</li>\n",
       "\t<li>Jordan</li>\n",
       "\t<li>Japan</li>\n",
       "\t<li>Kazakhstan</li>\n",
       "\t<li>Kenya</li>\n",
       "\t<li>Kyrgyz Republic</li>\n",
       "\t<li>Cambodia</li>\n",
       "\t<li>Kiribati</li>\n",
       "\t<li>Korea, Rep.</li>\n",
       "\t<li>Kuwait</li>\n",
       "\t<li>Lao PDR</li>\n",
       "\t<li>Lebanon</li>\n",
       "\t<li>Liberia</li>\n",
       "\t<li>Libya</li>\n",
       "\t<li>St. Lucia</li>\n",
       "\t<li>Liechtenstein</li>\n",
       "\t<li>Sri Lanka</li>\n",
       "\t<li>Lesotho</li>\n",
       "\t<li>Lithuania</li>\n",
       "\t<li>Luxembourg</li>\n",
       "\t<li>Latvia</li>\n",
       "\t<li>Macao SAR, China</li>\n",
       "\t<li>Morocco</li>\n",
       "\t<li>Moldova</li>\n",
       "\t<li>Madagascar</li>\n",
       "\t<li>Maldives</li>\n",
       "\t<li>Mexico</li>\n",
       "\t<li>Macedonia, FYR</li>\n",
       "\t<li>Mali</li>\n",
       "\t<li>Malta</li>\n",
       "\t<li>Myanmar</li>\n",
       "\t<li>Montenegro</li>\n",
       "\t<li>Mongolia</li>\n",
       "\t<li>Mozambique</li>\n",
       "\t<li>Mauritania</li>\n",
       "\t<li>Mauritius</li>\n",
       "\t<li>Malawi</li>\n",
       "\t<li>Malaysia</li>\n",
       "\t<li>Namibia</li>\n",
       "\t<li>New Caledonia</li>\n",
       "\t<li>Niger</li>\n",
       "\t<li>Nigeria</li>\n",
       "\t<li>Nicaragua</li>\n",
       "\t<li>Netherlands</li>\n",
       "\t<li>Norway</li>\n",
       "\t<li>Nepal</li>\n",
       "\t<li>New Zealand</li>\n",
       "\t<li>Oman</li>\n",
       "\t<li>Pakistan</li>\n",
       "\t<li>Panama</li>\n",
       "\t<li>Peru</li>\n",
       "\t<li>Philippines</li>\n",
       "\t<li>Papua New Guinea</li>\n",
       "\t<li>Poland</li>\n",
       "\t<li>Puerto Rico</li>\n",
       "\t<li>Portugal</li>\n",
       "\t<li>Paraguay</li>\n",
       "\t<li>French Polynesia</li>\n",
       "\t<li>Qatar</li>\n",
       "\t<li>Romania</li>\n",
       "\t<li>Russian Federation</li>\n",
       "\t<li>Rwanda</li>\n",
       "\t<li>Saudi Arabia</li>\n",
       "\t<li>Sudan</li>\n",
       "\t<li>Senegal</li>\n",
       "\t<li>Singapore</li>\n",
       "\t<li>Solomon Islands</li>\n",
       "\t<li>Sierra Leone</li>\n",
       "\t<li>El Salvador</li>\n",
       "\t<li>Somalia</li>\n",
       "\t<li>Serbia</li>\n",
       "\t<li>South Sudan</li>\n",
       "\t<li>Sao Tome and Principe</li>\n",
       "\t<li>Suriname</li>\n",
       "\t<li>Slovak Republic</li>\n",
       "\t<li>Slovenia</li>\n",
       "\t<li>Sweden</li>\n",
       "\t<li>Swaziland</li>\n",
       "\t<li>Seychelles</li>\n",
       "\t<li>Syrian Arab Republic</li>\n",
       "\t<li>Chad</li>\n",
       "\t<li>Togo</li>\n",
       "\t<li>Thailand</li>\n",
       "\t<li>Tajikistan</li>\n",
       "\t<li>Turkmenistan</li>\n",
       "\t<li>Timor-Leste</li>\n",
       "\t<li>Tonga</li>\n",
       "\t<li>Trinidad and Tobago</li>\n",
       "\t<li>Tunisia</li>\n",
       "\t<li>Turkey</li>\n",
       "\t<li>Tanzania</li>\n",
       "\t<li>Uganda</li>\n",
       "\t<li>Ukraine</li>\n",
       "\t<li>Uruguay</li>\n",
       "\t<li>United States</li>\n",
       "\t<li>Uzbekistan</li>\n",
       "\t<li>St. Vincent and the Grenadines</li>\n",
       "\t<li>Venezuela, RB</li>\n",
       "\t<li>Virgin Islands (U.S.)</li>\n",
       "\t<li>Vietnam</li>\n",
       "\t<li>Vanuatu</li>\n",
       "\t<li>West Bank and Gaza</li>\n",
       "\t<li>Samoa</li>\n",
       "\t<li>Yemen, Rep.</li>\n",
       "\t<li>South Africa</li>\n",
       "\t<li>Congo, Dem. Rep.</li>\n",
       "\t<li>Zambia</li>\n",
       "\t<li>Zimbabwe</li>\n",
       "</ol>\n",
       "\n",
       "<details>\n",
       "\t<summary style=display:list-item;cursor:pointer>\n",
       "\t\t<strong>Levels</strong>:\n",
       "\t</summary>\n",
       "\t<ol class=list-inline>\n",
       "\t\t<li>'Afghanistan'</li>\n",
       "\t\t<li>'Albania'</li>\n",
       "\t\t<li>'Algeria'</li>\n",
       "\t\t<li>'Angola'</li>\n",
       "\t\t<li>'Antigua and Barbuda'</li>\n",
       "\t\t<li>'Argentina'</li>\n",
       "\t\t<li>'Armenia'</li>\n",
       "\t\t<li>'Aruba'</li>\n",
       "\t\t<li>'Australia'</li>\n",
       "\t\t<li>'Austria'</li>\n",
       "\t\t<li>'Azerbaijan'</li>\n",
       "\t\t<li>'Bahamas, The'</li>\n",
       "\t\t<li>'Bahrain'</li>\n",
       "\t\t<li>'Bangladesh'</li>\n",
       "\t\t<li>'Barbados'</li>\n",
       "\t\t<li>'Belarus'</li>\n",
       "\t\t<li>'Belgium'</li>\n",
       "\t\t<li>'Belize'</li>\n",
       "\t\t<li>'Benin'</li>\n",
       "\t\t<li>'Bermuda'</li>\n",
       "\t\t<li>'Bhutan'</li>\n",
       "\t\t<li>'Bolivia'</li>\n",
       "\t\t<li>'Bosnia and Herzegovina'</li>\n",
       "\t\t<li>'Botswana'</li>\n",
       "\t\t<li>'Brazil'</li>\n",
       "\t\t<li>'Brunei Darussalam'</li>\n",
       "\t\t<li>'Bulgaria'</li>\n",
       "\t\t<li>'Burkina Faso'</li>\n",
       "\t\t<li>'Burundi'</li>\n",
       "\t\t<li>'Cabo Verde'</li>\n",
       "\t\t<li>'Cambodia'</li>\n",
       "\t\t<li>'Cameroon'</li>\n",
       "\t\t<li>'Canada'</li>\n",
       "\t\t<li>'Cayman Islands'</li>\n",
       "\t\t<li>'Central African Republic'</li>\n",
       "\t\t<li>'Chad'</li>\n",
       "\t\t<li>'Chile'</li>\n",
       "\t\t<li>'China'</li>\n",
       "\t\t<li>'Colombia'</li>\n",
       "\t\t<li>'Comoros'</li>\n",
       "\t\t<li>'Congo, Dem. Rep.'</li>\n",
       "\t\t<li>'Congo, Rep.'</li>\n",
       "\t\t<li>'Costa Rica'</li>\n",
       "\t\t<li>'Cote d\\'Ivoire'</li>\n",
       "\t\t<li>'Croatia'</li>\n",
       "\t\t<li>'Cuba'</li>\n",
       "\t\t<li>'Cyprus'</li>\n",
       "\t\t<li>'Czech Republic'</li>\n",
       "\t\t<li>'Denmark'</li>\n",
       "\t\t<li>'Djibouti'</li>\n",
       "\t\t<li>'Dominican Republic'</li>\n",
       "\t\t<li>'Ecuador'</li>\n",
       "\t\t<li>'Egypt, Arab Rep.'</li>\n",
       "\t\t<li>'El Salvador'</li>\n",
       "\t\t<li>'Equatorial Guinea'</li>\n",
       "\t\t<li>'Eritrea'</li>\n",
       "\t\t<li>'Estonia'</li>\n",
       "\t\t<li>'Ethiopia'</li>\n",
       "\t\t<li>'Fiji'</li>\n",
       "\t\t<li>'Finland'</li>\n",
       "\t\t<li>'France'</li>\n",
       "\t\t<li>'French Polynesia'</li>\n",
       "\t\t<li>'Gabon'</li>\n",
       "\t\t<li>'Gambia, The'</li>\n",
       "\t\t<li>'Georgia'</li>\n",
       "\t\t<li>'Germany'</li>\n",
       "\t\t<li>'Ghana'</li>\n",
       "\t\t<li>'Greece'</li>\n",
       "\t\t<li>'Greenland'</li>\n",
       "\t\t<li>'Grenada'</li>\n",
       "\t\t<li>'Guam'</li>\n",
       "\t\t<li>'Guatemala'</li>\n",
       "\t\t<li>'Guinea'</li>\n",
       "\t\t<li>'Guinea-Bissau'</li>\n",
       "\t\t<li>'Guyana'</li>\n",
       "\t\t<li>'Haiti'</li>\n",
       "\t\t<li>'Honduras'</li>\n",
       "\t\t<li>'Hong Kong SAR, China'</li>\n",
       "\t\t<li>'Hungary'</li>\n",
       "\t\t<li>'Iceland'</li>\n",
       "\t\t<li>'India'</li>\n",
       "\t\t<li>'Indonesia'</li>\n",
       "\t\t<li>'Iran, Islamic Rep.'</li>\n",
       "\t\t<li>'Iraq'</li>\n",
       "\t\t<li>'Ireland'</li>\n",
       "\t\t<li>'Israel'</li>\n",
       "\t\t<li>'Italy'</li>\n",
       "\t\t<li>'Jamaica'</li>\n",
       "\t\t<li>'Japan'</li>\n",
       "\t\t<li>'Jordan'</li>\n",
       "\t\t<li>'Kazakhstan'</li>\n",
       "\t\t<li>'Kenya'</li>\n",
       "\t\t<li>'Kiribati'</li>\n",
       "\t\t<li>'Korea, Rep.'</li>\n",
       "\t\t<li>'Kuwait'</li>\n",
       "\t\t<li>'Kyrgyz Republic'</li>\n",
       "\t\t<li>'Lao PDR'</li>\n",
       "\t\t<li>'Latvia'</li>\n",
       "\t\t<li>'Lebanon'</li>\n",
       "\t\t<li>'Lesotho'</li>\n",
       "\t\t<li>'Liberia'</li>\n",
       "\t\t<li>'Libya'</li>\n",
       "\t\t<li>'Liechtenstein'</li>\n",
       "\t\t<li>'Lithuania'</li>\n",
       "\t\t<li>'Luxembourg'</li>\n",
       "\t\t<li>'Macao SAR, China'</li>\n",
       "\t\t<li>'Macedonia, FYR'</li>\n",
       "\t\t<li>'Madagascar'</li>\n",
       "\t\t<li>'Malawi'</li>\n",
       "\t\t<li>'Malaysia'</li>\n",
       "\t\t<li>'Maldives'</li>\n",
       "\t\t<li>'Mali'</li>\n",
       "\t\t<li>'Malta'</li>\n",
       "\t\t<li>'Mauritania'</li>\n",
       "\t\t<li>'Mauritius'</li>\n",
       "\t\t<li>'Mexico'</li>\n",
       "\t\t<li>'Micronesia, Fed. Sts.'</li>\n",
       "\t\t<li>'Moldova'</li>\n",
       "\t\t<li>'Mongolia'</li>\n",
       "\t\t<li>'Montenegro'</li>\n",
       "\t\t<li>'Morocco'</li>\n",
       "\t\t<li>'Mozambique'</li>\n",
       "\t\t<li>'Myanmar'</li>\n",
       "\t\t<li>'Namibia'</li>\n",
       "\t\t<li>'Nepal'</li>\n",
       "\t\t<li>'Netherlands'</li>\n",
       "\t\t<li>'New Caledonia'</li>\n",
       "\t\t<li>'New Zealand'</li>\n",
       "\t\t<li>'Nicaragua'</li>\n",
       "\t\t<li>'Niger'</li>\n",
       "\t\t<li>'Nigeria'</li>\n",
       "\t\t<li>'Norway'</li>\n",
       "\t\t<li>'Oman'</li>\n",
       "\t\t<li>'Pakistan'</li>\n",
       "\t\t<li>'Panama'</li>\n",
       "\t\t<li>'Papua New Guinea'</li>\n",
       "\t\t<li>'Paraguay'</li>\n",
       "\t\t<li>'Peru'</li>\n",
       "\t\t<li>'Philippines'</li>\n",
       "\t\t<li>'Poland'</li>\n",
       "\t\t<li>'Portugal'</li>\n",
       "\t\t<li>'Puerto Rico'</li>\n",
       "\t\t<li>'Qatar'</li>\n",
       "\t\t<li>'Romania'</li>\n",
       "\t\t<li>'Russian Federation'</li>\n",
       "\t\t<li>'Rwanda'</li>\n",
       "\t\t<li>'Samoa'</li>\n",
       "\t\t<li>'Sao Tome and Principe'</li>\n",
       "\t\t<li>'Saudi Arabia'</li>\n",
       "\t\t<li>'Senegal'</li>\n",
       "\t\t<li>'Serbia'</li>\n",
       "\t\t<li>'Seychelles'</li>\n",
       "\t\t<li>'Sierra Leone'</li>\n",
       "\t\t<li>'Singapore'</li>\n",
       "\t\t<li>'Slovak Republic'</li>\n",
       "\t\t<li>'Slovenia'</li>\n",
       "\t\t<li>'Solomon Islands'</li>\n",
       "\t\t<li>'Somalia'</li>\n",
       "\t\t<li>'South Africa'</li>\n",
       "\t\t<li>'South Sudan'</li>\n",
       "\t\t<li>'Spain'</li>\n",
       "\t\t<li>'Sri Lanka'</li>\n",
       "\t\t<li>'St. Lucia'</li>\n",
       "\t\t<li>'St. Vincent and the Grenadines'</li>\n",
       "\t\t<li>'Sudan'</li>\n",
       "\t\t<li>'Suriname'</li>\n",
       "\t\t<li>'Swaziland'</li>\n",
       "\t\t<li>'Sweden'</li>\n",
       "\t\t<li>'Switzerland'</li>\n",
       "\t\t<li>'Syrian Arab Republic'</li>\n",
       "\t\t<li>'Tajikistan'</li>\n",
       "\t\t<li>'Tanzania'</li>\n",
       "\t\t<li>'Thailand'</li>\n",
       "\t\t<li>'Timor-Leste'</li>\n",
       "\t\t<li>'Togo'</li>\n",
       "\t\t<li>'Tonga'</li>\n",
       "\t\t<li>'Trinidad and Tobago'</li>\n",
       "\t\t<li>'Tunisia'</li>\n",
       "\t\t<li>'Turkey'</li>\n",
       "\t\t<li>'Turkmenistan'</li>\n",
       "\t\t<li>'Uganda'</li>\n",
       "\t\t<li>'Ukraine'</li>\n",
       "\t\t<li>'United Arab Emirates'</li>\n",
       "\t\t<li>'United Kingdom'</li>\n",
       "\t\t<li>'United States'</li>\n",
       "\t\t<li>'Uruguay'</li>\n",
       "\t\t<li>'Uzbekistan'</li>\n",
       "\t\t<li>'Vanuatu'</li>\n",
       "\t\t<li>'Venezuela, RB'</li>\n",
       "\t\t<li>'Vietnam'</li>\n",
       "\t\t<li>'Virgin Islands (U.S.)'</li>\n",
       "\t\t<li>'West Bank and Gaza'</li>\n",
       "\t\t<li>'Yemen, Rep.'</li>\n",
       "\t\t<li>'Zambia'</li>\n",
       "\t\t<li>'Zimbabwe'</li>\n",
       "\t</ol>\n",
       "</details>"
      ],
      "text/latex": [
       "\\begin{enumerate*}\n",
       "\\item Aruba\n",
       "\\item Afghanistan\n",
       "\\item Angola\n",
       "\\item Albania\n",
       "\\item United Arab Emirates\n",
       "\\item Argentina\n",
       "\\item Armenia\n",
       "\\item Antigua and Barbuda\n",
       "\\item Australia\n",
       "\\item Austria\n",
       "\\item Azerbaijan\n",
       "\\item Burundi\n",
       "\\item Belgium\n",
       "\\item Benin\n",
       "\\item Burkina Faso\n",
       "\\item Bangladesh\n",
       "\\item Bulgaria\n",
       "\\item Bahrain\n",
       "\\item Bahamas, The\n",
       "\\item Bosnia and Herzegovina\n",
       "\\item Belarus\n",
       "\\item Belize\n",
       "\\item Bermuda\n",
       "\\item Bolivia\n",
       "\\item Brazil\n",
       "\\item Barbados\n",
       "\\item Brunei Darussalam\n",
       "\\item Bhutan\n",
       "\\item Botswana\n",
       "\\item Central African Republic\n",
       "\\item Canada\n",
       "\\item Switzerland\n",
       "\\item Chile\n",
       "\\item China\n",
       "\\item Cote d'Ivoire\n",
       "\\item Cameroon\n",
       "\\item Congo, Rep.\n",
       "\\item Colombia\n",
       "\\item Comoros\n",
       "\\item Cabo Verde\n",
       "\\item Costa Rica\n",
       "\\item Cuba\n",
       "\\item Cayman Islands\n",
       "\\item Cyprus\n",
       "\\item Czech Republic\n",
       "\\item Germany\n",
       "\\item Djibouti\n",
       "\\item Denmark\n",
       "\\item Dominican Republic\n",
       "\\item Algeria\n",
       "\\item Ecuador\n",
       "\\item Egypt, Arab Rep.\n",
       "\\item Eritrea\n",
       "\\item Spain\n",
       "\\item Estonia\n",
       "\\item Ethiopia\n",
       "\\item Finland\n",
       "\\item Fiji\n",
       "\\item France\n",
       "\\item Micronesia, Fed. Sts.\n",
       "\\item Gabon\n",
       "\\item United Kingdom\n",
       "\\item Georgia\n",
       "\\item Ghana\n",
       "\\item Guinea\n",
       "\\item Gambia, The\n",
       "\\item Guinea-Bissau\n",
       "\\item Equatorial Guinea\n",
       "\\item Greece\n",
       "\\item Grenada\n",
       "\\item Greenland\n",
       "\\item Guatemala\n",
       "\\item Guam\n",
       "\\item Guyana\n",
       "\\item Hong Kong SAR, China\n",
       "\\item Honduras\n",
       "\\item Croatia\n",
       "\\item Haiti\n",
       "\\item Hungary\n",
       "\\item Indonesia\n",
       "\\item India\n",
       "\\item Ireland\n",
       "\\item Iran, Islamic Rep.\n",
       "\\item Iraq\n",
       "\\item Iceland\n",
       "\\item Israel\n",
       "\\item Italy\n",
       "\\item Jamaica\n",
       "\\item Jordan\n",
       "\\item Japan\n",
       "\\item Kazakhstan\n",
       "\\item Kenya\n",
       "\\item Kyrgyz Republic\n",
       "\\item Cambodia\n",
       "\\item Kiribati\n",
       "\\item Korea, Rep.\n",
       "\\item Kuwait\n",
       "\\item Lao PDR\n",
       "\\item Lebanon\n",
       "\\item Liberia\n",
       "\\item Libya\n",
       "\\item St. Lucia\n",
       "\\item Liechtenstein\n",
       "\\item Sri Lanka\n",
       "\\item Lesotho\n",
       "\\item Lithuania\n",
       "\\item Luxembourg\n",
       "\\item Latvia\n",
       "\\item Macao SAR, China\n",
       "\\item Morocco\n",
       "\\item Moldova\n",
       "\\item Madagascar\n",
       "\\item Maldives\n",
       "\\item Mexico\n",
       "\\item Macedonia, FYR\n",
       "\\item Mali\n",
       "\\item Malta\n",
       "\\item Myanmar\n",
       "\\item Montenegro\n",
       "\\item Mongolia\n",
       "\\item Mozambique\n",
       "\\item Mauritania\n",
       "\\item Mauritius\n",
       "\\item Malawi\n",
       "\\item Malaysia\n",
       "\\item Namibia\n",
       "\\item New Caledonia\n",
       "\\item Niger\n",
       "\\item Nigeria\n",
       "\\item Nicaragua\n",
       "\\item Netherlands\n",
       "\\item Norway\n",
       "\\item Nepal\n",
       "\\item New Zealand\n",
       "\\item Oman\n",
       "\\item Pakistan\n",
       "\\item Panama\n",
       "\\item Peru\n",
       "\\item Philippines\n",
       "\\item Papua New Guinea\n",
       "\\item Poland\n",
       "\\item Puerto Rico\n",
       "\\item Portugal\n",
       "\\item Paraguay\n",
       "\\item French Polynesia\n",
       "\\item Qatar\n",
       "\\item Romania\n",
       "\\item Russian Federation\n",
       "\\item Rwanda\n",
       "\\item Saudi Arabia\n",
       "\\item Sudan\n",
       "\\item Senegal\n",
       "\\item Singapore\n",
       "\\item Solomon Islands\n",
       "\\item Sierra Leone\n",
       "\\item El Salvador\n",
       "\\item Somalia\n",
       "\\item Serbia\n",
       "\\item South Sudan\n",
       "\\item Sao Tome and Principe\n",
       "\\item Suriname\n",
       "\\item Slovak Republic\n",
       "\\item Slovenia\n",
       "\\item Sweden\n",
       "\\item Swaziland\n",
       "\\item Seychelles\n",
       "\\item Syrian Arab Republic\n",
       "\\item Chad\n",
       "\\item Togo\n",
       "\\item Thailand\n",
       "\\item Tajikistan\n",
       "\\item Turkmenistan\n",
       "\\item Timor-Leste\n",
       "\\item Tonga\n",
       "\\item Trinidad and Tobago\n",
       "\\item Tunisia\n",
       "\\item Turkey\n",
       "\\item Tanzania\n",
       "\\item Uganda\n",
       "\\item Ukraine\n",
       "\\item Uruguay\n",
       "\\item United States\n",
       "\\item Uzbekistan\n",
       "\\item St. Vincent and the Grenadines\n",
       "\\item Venezuela, RB\n",
       "\\item Virgin Islands (U.S.)\n",
       "\\item Vietnam\n",
       "\\item Vanuatu\n",
       "\\item West Bank and Gaza\n",
       "\\item Samoa\n",
       "\\item Yemen, Rep.\n",
       "\\item South Africa\n",
       "\\item Congo, Dem. Rep.\n",
       "\\item Zambia\n",
       "\\item Zimbabwe\n",
       "\\end{enumerate*}\n",
       "\n",
       "\\emph{Levels}: \\begin{enumerate*}\n",
       "\\item 'Afghanistan'\n",
       "\\item 'Albania'\n",
       "\\item 'Algeria'\n",
       "\\item 'Angola'\n",
       "\\item 'Antigua and Barbuda'\n",
       "\\item 'Argentina'\n",
       "\\item 'Armenia'\n",
       "\\item 'Aruba'\n",
       "\\item 'Australia'\n",
       "\\item 'Austria'\n",
       "\\item 'Azerbaijan'\n",
       "\\item 'Bahamas, The'\n",
       "\\item 'Bahrain'\n",
       "\\item 'Bangladesh'\n",
       "\\item 'Barbados'\n",
       "\\item 'Belarus'\n",
       "\\item 'Belgium'\n",
       "\\item 'Belize'\n",
       "\\item 'Benin'\n",
       "\\item 'Bermuda'\n",
       "\\item 'Bhutan'\n",
       "\\item 'Bolivia'\n",
       "\\item 'Bosnia and Herzegovina'\n",
       "\\item 'Botswana'\n",
       "\\item 'Brazil'\n",
       "\\item 'Brunei Darussalam'\n",
       "\\item 'Bulgaria'\n",
       "\\item 'Burkina Faso'\n",
       "\\item 'Burundi'\n",
       "\\item 'Cabo Verde'\n",
       "\\item 'Cambodia'\n",
       "\\item 'Cameroon'\n",
       "\\item 'Canada'\n",
       "\\item 'Cayman Islands'\n",
       "\\item 'Central African Republic'\n",
       "\\item 'Chad'\n",
       "\\item 'Chile'\n",
       "\\item 'China'\n",
       "\\item 'Colombia'\n",
       "\\item 'Comoros'\n",
       "\\item 'Congo, Dem. Rep.'\n",
       "\\item 'Congo, Rep.'\n",
       "\\item 'Costa Rica'\n",
       "\\item 'Cote d\\textbackslash{}'Ivoire'\n",
       "\\item 'Croatia'\n",
       "\\item 'Cuba'\n",
       "\\item 'Cyprus'\n",
       "\\item 'Czech Republic'\n",
       "\\item 'Denmark'\n",
       "\\item 'Djibouti'\n",
       "\\item 'Dominican Republic'\n",
       "\\item 'Ecuador'\n",
       "\\item 'Egypt, Arab Rep.'\n",
       "\\item 'El Salvador'\n",
       "\\item 'Equatorial Guinea'\n",
       "\\item 'Eritrea'\n",
       "\\item 'Estonia'\n",
       "\\item 'Ethiopia'\n",
       "\\item 'Fiji'\n",
       "\\item 'Finland'\n",
       "\\item 'France'\n",
       "\\item 'French Polynesia'\n",
       "\\item 'Gabon'\n",
       "\\item 'Gambia, The'\n",
       "\\item 'Georgia'\n",
       "\\item 'Germany'\n",
       "\\item 'Ghana'\n",
       "\\item 'Greece'\n",
       "\\item 'Greenland'\n",
       "\\item 'Grenada'\n",
       "\\item 'Guam'\n",
       "\\item 'Guatemala'\n",
       "\\item 'Guinea'\n",
       "\\item 'Guinea-Bissau'\n",
       "\\item 'Guyana'\n",
       "\\item 'Haiti'\n",
       "\\item 'Honduras'\n",
       "\\item 'Hong Kong SAR, China'\n",
       "\\item 'Hungary'\n",
       "\\item 'Iceland'\n",
       "\\item 'India'\n",
       "\\item 'Indonesia'\n",
       "\\item 'Iran, Islamic Rep.'\n",
       "\\item 'Iraq'\n",
       "\\item 'Ireland'\n",
       "\\item 'Israel'\n",
       "\\item 'Italy'\n",
       "\\item 'Jamaica'\n",
       "\\item 'Japan'\n",
       "\\item 'Jordan'\n",
       "\\item 'Kazakhstan'\n",
       "\\item 'Kenya'\n",
       "\\item 'Kiribati'\n",
       "\\item 'Korea, Rep.'\n",
       "\\item 'Kuwait'\n",
       "\\item 'Kyrgyz Republic'\n",
       "\\item 'Lao PDR'\n",
       "\\item 'Latvia'\n",
       "\\item 'Lebanon'\n",
       "\\item 'Lesotho'\n",
       "\\item 'Liberia'\n",
       "\\item 'Libya'\n",
       "\\item 'Liechtenstein'\n",
       "\\item 'Lithuania'\n",
       "\\item 'Luxembourg'\n",
       "\\item 'Macao SAR, China'\n",
       "\\item 'Macedonia, FYR'\n",
       "\\item 'Madagascar'\n",
       "\\item 'Malawi'\n",
       "\\item 'Malaysia'\n",
       "\\item 'Maldives'\n",
       "\\item 'Mali'\n",
       "\\item 'Malta'\n",
       "\\item 'Mauritania'\n",
       "\\item 'Mauritius'\n",
       "\\item 'Mexico'\n",
       "\\item 'Micronesia, Fed. Sts.'\n",
       "\\item 'Moldova'\n",
       "\\item 'Mongolia'\n",
       "\\item 'Montenegro'\n",
       "\\item 'Morocco'\n",
       "\\item 'Mozambique'\n",
       "\\item 'Myanmar'\n",
       "\\item 'Namibia'\n",
       "\\item 'Nepal'\n",
       "\\item 'Netherlands'\n",
       "\\item 'New Caledonia'\n",
       "\\item 'New Zealand'\n",
       "\\item 'Nicaragua'\n",
       "\\item 'Niger'\n",
       "\\item 'Nigeria'\n",
       "\\item 'Norway'\n",
       "\\item 'Oman'\n",
       "\\item 'Pakistan'\n",
       "\\item 'Panama'\n",
       "\\item 'Papua New Guinea'\n",
       "\\item 'Paraguay'\n",
       "\\item 'Peru'\n",
       "\\item 'Philippines'\n",
       "\\item 'Poland'\n",
       "\\item 'Portugal'\n",
       "\\item 'Puerto Rico'\n",
       "\\item 'Qatar'\n",
       "\\item 'Romania'\n",
       "\\item 'Russian Federation'\n",
       "\\item 'Rwanda'\n",
       "\\item 'Samoa'\n",
       "\\item 'Sao Tome and Principe'\n",
       "\\item 'Saudi Arabia'\n",
       "\\item 'Senegal'\n",
       "\\item 'Serbia'\n",
       "\\item 'Seychelles'\n",
       "\\item 'Sierra Leone'\n",
       "\\item 'Singapore'\n",
       "\\item 'Slovak Republic'\n",
       "\\item 'Slovenia'\n",
       "\\item 'Solomon Islands'\n",
       "\\item 'Somalia'\n",
       "\\item 'South Africa'\n",
       "\\item 'South Sudan'\n",
       "\\item 'Spain'\n",
       "\\item 'Sri Lanka'\n",
       "\\item 'St. Lucia'\n",
       "\\item 'St. Vincent and the Grenadines'\n",
       "\\item 'Sudan'\n",
       "\\item 'Suriname'\n",
       "\\item 'Swaziland'\n",
       "\\item 'Sweden'\n",
       "\\item 'Switzerland'\n",
       "\\item 'Syrian Arab Republic'\n",
       "\\item 'Tajikistan'\n",
       "\\item 'Tanzania'\n",
       "\\item 'Thailand'\n",
       "\\item 'Timor-Leste'\n",
       "\\item 'Togo'\n",
       "\\item 'Tonga'\n",
       "\\item 'Trinidad and Tobago'\n",
       "\\item 'Tunisia'\n",
       "\\item 'Turkey'\n",
       "\\item 'Turkmenistan'\n",
       "\\item 'Uganda'\n",
       "\\item 'Ukraine'\n",
       "\\item 'United Arab Emirates'\n",
       "\\item 'United Kingdom'\n",
       "\\item 'United States'\n",
       "\\item 'Uruguay'\n",
       "\\item 'Uzbekistan'\n",
       "\\item 'Vanuatu'\n",
       "\\item 'Venezuela, RB'\n",
       "\\item 'Vietnam'\n",
       "\\item 'Virgin Islands (U.S.)'\n",
       "\\item 'West Bank and Gaza'\n",
       "\\item 'Yemen, Rep.'\n",
       "\\item 'Zambia'\n",
       "\\item 'Zimbabwe'\n",
       "\\end{enumerate*}\n"
      ],
      "text/markdown": [
       "1. Aruba\n",
       "2. Afghanistan\n",
       "3. Angola\n",
       "4. Albania\n",
       "5. United Arab Emirates\n",
       "6. Argentina\n",
       "7. Armenia\n",
       "8. Antigua and Barbuda\n",
       "9. Australia\n",
       "10. Austria\n",
       "11. Azerbaijan\n",
       "12. Burundi\n",
       "13. Belgium\n",
       "14. Benin\n",
       "15. Burkina Faso\n",
       "16. Bangladesh\n",
       "17. Bulgaria\n",
       "18. Bahrain\n",
       "19. Bahamas, The\n",
       "20. Bosnia and Herzegovina\n",
       "21. Belarus\n",
       "22. Belize\n",
       "23. Bermuda\n",
       "24. Bolivia\n",
       "25. Brazil\n",
       "26. Barbados\n",
       "27. Brunei Darussalam\n",
       "28. Bhutan\n",
       "29. Botswana\n",
       "30. Central African Republic\n",
       "31. Canada\n",
       "32. Switzerland\n",
       "33. Chile\n",
       "34. China\n",
       "35. Cote d'Ivoire\n",
       "36. Cameroon\n",
       "37. Congo, Rep.\n",
       "38. Colombia\n",
       "39. Comoros\n",
       "40. Cabo Verde\n",
       "41. Costa Rica\n",
       "42. Cuba\n",
       "43. Cayman Islands\n",
       "44. Cyprus\n",
       "45. Czech Republic\n",
       "46. Germany\n",
       "47. Djibouti\n",
       "48. Denmark\n",
       "49. Dominican Republic\n",
       "50. Algeria\n",
       "51. Ecuador\n",
       "52. Egypt, Arab Rep.\n",
       "53. Eritrea\n",
       "54. Spain\n",
       "55. Estonia\n",
       "56. Ethiopia\n",
       "57. Finland\n",
       "58. Fiji\n",
       "59. France\n",
       "60. Micronesia, Fed. Sts.\n",
       "61. Gabon\n",
       "62. United Kingdom\n",
       "63. Georgia\n",
       "64. Ghana\n",
       "65. Guinea\n",
       "66. Gambia, The\n",
       "67. Guinea-Bissau\n",
       "68. Equatorial Guinea\n",
       "69. Greece\n",
       "70. Grenada\n",
       "71. Greenland\n",
       "72. Guatemala\n",
       "73. Guam\n",
       "74. Guyana\n",
       "75. Hong Kong SAR, China\n",
       "76. Honduras\n",
       "77. Croatia\n",
       "78. Haiti\n",
       "79. Hungary\n",
       "80. Indonesia\n",
       "81. India\n",
       "82. Ireland\n",
       "83. Iran, Islamic Rep.\n",
       "84. Iraq\n",
       "85. Iceland\n",
       "86. Israel\n",
       "87. Italy\n",
       "88. Jamaica\n",
       "89. Jordan\n",
       "90. Japan\n",
       "91. Kazakhstan\n",
       "92. Kenya\n",
       "93. Kyrgyz Republic\n",
       "94. Cambodia\n",
       "95. Kiribati\n",
       "96. Korea, Rep.\n",
       "97. Kuwait\n",
       "98. Lao PDR\n",
       "99. Lebanon\n",
       "100. Liberia\n",
       "101. Libya\n",
       "102. St. Lucia\n",
       "103. Liechtenstein\n",
       "104. Sri Lanka\n",
       "105. Lesotho\n",
       "106. Lithuania\n",
       "107. Luxembourg\n",
       "108. Latvia\n",
       "109. Macao SAR, China\n",
       "110. Morocco\n",
       "111. Moldova\n",
       "112. Madagascar\n",
       "113. Maldives\n",
       "114. Mexico\n",
       "115. Macedonia, FYR\n",
       "116. Mali\n",
       "117. Malta\n",
       "118. Myanmar\n",
       "119. Montenegro\n",
       "120. Mongolia\n",
       "121. Mozambique\n",
       "122. Mauritania\n",
       "123. Mauritius\n",
       "124. Malawi\n",
       "125. Malaysia\n",
       "126. Namibia\n",
       "127. New Caledonia\n",
       "128. Niger\n",
       "129. Nigeria\n",
       "130. Nicaragua\n",
       "131. Netherlands\n",
       "132. Norway\n",
       "133. Nepal\n",
       "134. New Zealand\n",
       "135. Oman\n",
       "136. Pakistan\n",
       "137. Panama\n",
       "138. Peru\n",
       "139. Philippines\n",
       "140. Papua New Guinea\n",
       "141. Poland\n",
       "142. Puerto Rico\n",
       "143. Portugal\n",
       "144. Paraguay\n",
       "145. French Polynesia\n",
       "146. Qatar\n",
       "147. Romania\n",
       "148. Russian Federation\n",
       "149. Rwanda\n",
       "150. Saudi Arabia\n",
       "151. Sudan\n",
       "152. Senegal\n",
       "153. Singapore\n",
       "154. Solomon Islands\n",
       "155. Sierra Leone\n",
       "156. El Salvador\n",
       "157. Somalia\n",
       "158. Serbia\n",
       "159. South Sudan\n",
       "160. Sao Tome and Principe\n",
       "161. Suriname\n",
       "162. Slovak Republic\n",
       "163. Slovenia\n",
       "164. Sweden\n",
       "165. Swaziland\n",
       "166. Seychelles\n",
       "167. Syrian Arab Republic\n",
       "168. Chad\n",
       "169. Togo\n",
       "170. Thailand\n",
       "171. Tajikistan\n",
       "172. Turkmenistan\n",
       "173. Timor-Leste\n",
       "174. Tonga\n",
       "175. Trinidad and Tobago\n",
       "176. Tunisia\n",
       "177. Turkey\n",
       "178. Tanzania\n",
       "179. Uganda\n",
       "180. Ukraine\n",
       "181. Uruguay\n",
       "182. United States\n",
       "183. Uzbekistan\n",
       "184. St. Vincent and the Grenadines\n",
       "185. Venezuela, RB\n",
       "186. Virgin Islands (U.S.)\n",
       "187. Vietnam\n",
       "188. Vanuatu\n",
       "189. West Bank and Gaza\n",
       "190. Samoa\n",
       "191. Yemen, Rep.\n",
       "192. South Africa\n",
       "193. Congo, Dem. Rep.\n",
       "194. Zambia\n",
       "195. Zimbabwe\n",
       "\n",
       "\n",
       "\n",
       "**Levels**: 1. 'Afghanistan'\n",
       "2. 'Albania'\n",
       "3. 'Algeria'\n",
       "4. 'Angola'\n",
       "5. 'Antigua and Barbuda'\n",
       "6. 'Argentina'\n",
       "7. 'Armenia'\n",
       "8. 'Aruba'\n",
       "9. 'Australia'\n",
       "10. 'Austria'\n",
       "11. 'Azerbaijan'\n",
       "12. 'Bahamas, The'\n",
       "13. 'Bahrain'\n",
       "14. 'Bangladesh'\n",
       "15. 'Barbados'\n",
       "16. 'Belarus'\n",
       "17. 'Belgium'\n",
       "18. 'Belize'\n",
       "19. 'Benin'\n",
       "20. 'Bermuda'\n",
       "21. 'Bhutan'\n",
       "22. 'Bolivia'\n",
       "23. 'Bosnia and Herzegovina'\n",
       "24. 'Botswana'\n",
       "25. 'Brazil'\n",
       "26. 'Brunei Darussalam'\n",
       "27. 'Bulgaria'\n",
       "28. 'Burkina Faso'\n",
       "29. 'Burundi'\n",
       "30. 'Cabo Verde'\n",
       "31. 'Cambodia'\n",
       "32. 'Cameroon'\n",
       "33. 'Canada'\n",
       "34. 'Cayman Islands'\n",
       "35. 'Central African Republic'\n",
       "36. 'Chad'\n",
       "37. 'Chile'\n",
       "38. 'China'\n",
       "39. 'Colombia'\n",
       "40. 'Comoros'\n",
       "41. 'Congo, Dem. Rep.'\n",
       "42. 'Congo, Rep.'\n",
       "43. 'Costa Rica'\n",
       "44. 'Cote d\\'Ivoire'\n",
       "45. 'Croatia'\n",
       "46. 'Cuba'\n",
       "47. 'Cyprus'\n",
       "48. 'Czech Republic'\n",
       "49. 'Denmark'\n",
       "50. 'Djibouti'\n",
       "51. 'Dominican Republic'\n",
       "52. 'Ecuador'\n",
       "53. 'Egypt, Arab Rep.'\n",
       "54. 'El Salvador'\n",
       "55. 'Equatorial Guinea'\n",
       "56. 'Eritrea'\n",
       "57. 'Estonia'\n",
       "58. 'Ethiopia'\n",
       "59. 'Fiji'\n",
       "60. 'Finland'\n",
       "61. 'France'\n",
       "62. 'French Polynesia'\n",
       "63. 'Gabon'\n",
       "64. 'Gambia, The'\n",
       "65. 'Georgia'\n",
       "66. 'Germany'\n",
       "67. 'Ghana'\n",
       "68. 'Greece'\n",
       "69. 'Greenland'\n",
       "70. 'Grenada'\n",
       "71. 'Guam'\n",
       "72. 'Guatemala'\n",
       "73. 'Guinea'\n",
       "74. 'Guinea-Bissau'\n",
       "75. 'Guyana'\n",
       "76. 'Haiti'\n",
       "77. 'Honduras'\n",
       "78. 'Hong Kong SAR, China'\n",
       "79. 'Hungary'\n",
       "80. 'Iceland'\n",
       "81. 'India'\n",
       "82. 'Indonesia'\n",
       "83. 'Iran, Islamic Rep.'\n",
       "84. 'Iraq'\n",
       "85. 'Ireland'\n",
       "86. 'Israel'\n",
       "87. 'Italy'\n",
       "88. 'Jamaica'\n",
       "89. 'Japan'\n",
       "90. 'Jordan'\n",
       "91. 'Kazakhstan'\n",
       "92. 'Kenya'\n",
       "93. 'Kiribati'\n",
       "94. 'Korea, Rep.'\n",
       "95. 'Kuwait'\n",
       "96. 'Kyrgyz Republic'\n",
       "97. 'Lao PDR'\n",
       "98. 'Latvia'\n",
       "99. 'Lebanon'\n",
       "100. 'Lesotho'\n",
       "101. 'Liberia'\n",
       "102. 'Libya'\n",
       "103. 'Liechtenstein'\n",
       "104. 'Lithuania'\n",
       "105. 'Luxembourg'\n",
       "106. 'Macao SAR, China'\n",
       "107. 'Macedonia, FYR'\n",
       "108. 'Madagascar'\n",
       "109. 'Malawi'\n",
       "110. 'Malaysia'\n",
       "111. 'Maldives'\n",
       "112. 'Mali'\n",
       "113. 'Malta'\n",
       "114. 'Mauritania'\n",
       "115. 'Mauritius'\n",
       "116. 'Mexico'\n",
       "117. 'Micronesia, Fed. Sts.'\n",
       "118. 'Moldova'\n",
       "119. 'Mongolia'\n",
       "120. 'Montenegro'\n",
       "121. 'Morocco'\n",
       "122. 'Mozambique'\n",
       "123. 'Myanmar'\n",
       "124. 'Namibia'\n",
       "125. 'Nepal'\n",
       "126. 'Netherlands'\n",
       "127. 'New Caledonia'\n",
       "128. 'New Zealand'\n",
       "129. 'Nicaragua'\n",
       "130. 'Niger'\n",
       "131. 'Nigeria'\n",
       "132. 'Norway'\n",
       "133. 'Oman'\n",
       "134. 'Pakistan'\n",
       "135. 'Panama'\n",
       "136. 'Papua New Guinea'\n",
       "137. 'Paraguay'\n",
       "138. 'Peru'\n",
       "139. 'Philippines'\n",
       "140. 'Poland'\n",
       "141. 'Portugal'\n",
       "142. 'Puerto Rico'\n",
       "143. 'Qatar'\n",
       "144. 'Romania'\n",
       "145. 'Russian Federation'\n",
       "146. 'Rwanda'\n",
       "147. 'Samoa'\n",
       "148. 'Sao Tome and Principe'\n",
       "149. 'Saudi Arabia'\n",
       "150. 'Senegal'\n",
       "151. 'Serbia'\n",
       "152. 'Seychelles'\n",
       "153. 'Sierra Leone'\n",
       "154. 'Singapore'\n",
       "155. 'Slovak Republic'\n",
       "156. 'Slovenia'\n",
       "157. 'Solomon Islands'\n",
       "158. 'Somalia'\n",
       "159. 'South Africa'\n",
       "160. 'South Sudan'\n",
       "161. 'Spain'\n",
       "162. 'Sri Lanka'\n",
       "163. 'St. Lucia'\n",
       "164. 'St. Vincent and the Grenadines'\n",
       "165. 'Sudan'\n",
       "166. 'Suriname'\n",
       "167. 'Swaziland'\n",
       "168. 'Sweden'\n",
       "169. 'Switzerland'\n",
       "170. 'Syrian Arab Republic'\n",
       "171. 'Tajikistan'\n",
       "172. 'Tanzania'\n",
       "173. 'Thailand'\n",
       "174. 'Timor-Leste'\n",
       "175. 'Togo'\n",
       "176. 'Tonga'\n",
       "177. 'Trinidad and Tobago'\n",
       "178. 'Tunisia'\n",
       "179. 'Turkey'\n",
       "180. 'Turkmenistan'\n",
       "181. 'Uganda'\n",
       "182. 'Ukraine'\n",
       "183. 'United Arab Emirates'\n",
       "184. 'United Kingdom'\n",
       "185. 'United States'\n",
       "186. 'Uruguay'\n",
       "187. 'Uzbekistan'\n",
       "188. 'Vanuatu'\n",
       "189. 'Venezuela, RB'\n",
       "190. 'Vietnam'\n",
       "191. 'Virgin Islands (U.S.)'\n",
       "192. 'West Bank and Gaza'\n",
       "193. 'Yemen, Rep.'\n",
       "194. 'Zambia'\n",
       "195. 'Zimbabwe'\n",
       "\n",
       "\n"
      ],
      "text/plain": [
       "  [1] Aruba                          Afghanistan                   \n",
       "  [3] Angola                         Albania                       \n",
       "  [5] United Arab Emirates           Argentina                     \n",
       "  [7] Armenia                        Antigua and Barbuda           \n",
       "  [9] Australia                      Austria                       \n",
       " [11] Azerbaijan                     Burundi                       \n",
       " [13] Belgium                        Benin                         \n",
       " [15] Burkina Faso                   Bangladesh                    \n",
       " [17] Bulgaria                       Bahrain                       \n",
       " [19] Bahamas, The                   Bosnia and Herzegovina        \n",
       " [21] Belarus                        Belize                        \n",
       " [23] Bermuda                        Bolivia                       \n",
       " [25] Brazil                         Barbados                      \n",
       " [27] Brunei Darussalam              Bhutan                        \n",
       " [29] Botswana                       Central African Republic      \n",
       " [31] Canada                         Switzerland                   \n",
       " [33] Chile                          China                         \n",
       " [35] Cote d'Ivoire                  Cameroon                      \n",
       " [37] Congo, Rep.                    Colombia                      \n",
       " [39] Comoros                        Cabo Verde                    \n",
       " [41] Costa Rica                     Cuba                          \n",
       " [43] Cayman Islands                 Cyprus                        \n",
       " [45] Czech Republic                 Germany                       \n",
       " [47] Djibouti                       Denmark                       \n",
       " [49] Dominican Republic             Algeria                       \n",
       " [51] Ecuador                        Egypt, Arab Rep.              \n",
       " [53] Eritrea                        Spain                         \n",
       " [55] Estonia                        Ethiopia                      \n",
       " [57] Finland                        Fiji                          \n",
       " [59] France                         Micronesia, Fed. Sts.         \n",
       " [61] Gabon                          United Kingdom                \n",
       " [63] Georgia                        Ghana                         \n",
       " [65] Guinea                         Gambia, The                   \n",
       " [67] Guinea-Bissau                  Equatorial Guinea             \n",
       " [69] Greece                         Grenada                       \n",
       " [71] Greenland                      Guatemala                     \n",
       " [73] Guam                           Guyana                        \n",
       " [75] Hong Kong SAR, China           Honduras                      \n",
       " [77] Croatia                        Haiti                         \n",
       " [79] Hungary                        Indonesia                     \n",
       " [81] India                          Ireland                       \n",
       " [83] Iran, Islamic Rep.             Iraq                          \n",
       " [85] Iceland                        Israel                        \n",
       " [87] Italy                          Jamaica                       \n",
       " [89] Jordan                         Japan                         \n",
       " [91] Kazakhstan                     Kenya                         \n",
       " [93] Kyrgyz Republic                Cambodia                      \n",
       " [95] Kiribati                       Korea, Rep.                   \n",
       " [97] Kuwait                         Lao PDR                       \n",
       " [99] Lebanon                        Liberia                       \n",
       "[101] Libya                          St. Lucia                     \n",
       "[103] Liechtenstein                  Sri Lanka                     \n",
       "[105] Lesotho                        Lithuania                     \n",
       "[107] Luxembourg                     Latvia                        \n",
       "[109] Macao SAR, China               Morocco                       \n",
       "[111] Moldova                        Madagascar                    \n",
       "[113] Maldives                       Mexico                        \n",
       "[115] Macedonia, FYR                 Mali                          \n",
       "[117] Malta                          Myanmar                       \n",
       "[119] Montenegro                     Mongolia                      \n",
       "[121] Mozambique                     Mauritania                    \n",
       "[123] Mauritius                      Malawi                        \n",
       "[125] Malaysia                       Namibia                       \n",
       "[127] New Caledonia                  Niger                         \n",
       "[129] Nigeria                        Nicaragua                     \n",
       "[131] Netherlands                    Norway                        \n",
       "[133] Nepal                          New Zealand                   \n",
       "[135] Oman                           Pakistan                      \n",
       "[137] Panama                         Peru                          \n",
       "[139] Philippines                    Papua New Guinea              \n",
       "[141] Poland                         Puerto Rico                   \n",
       "[143] Portugal                       Paraguay                      \n",
       "[145] French Polynesia               Qatar                         \n",
       "[147] Romania                        Russian Federation            \n",
       "[149] Rwanda                         Saudi Arabia                  \n",
       "[151] Sudan                          Senegal                       \n",
       "[153] Singapore                      Solomon Islands               \n",
       "[155] Sierra Leone                   El Salvador                   \n",
       "[157] Somalia                        Serbia                        \n",
       "[159] South Sudan                    Sao Tome and Principe         \n",
       "[161] Suriname                       Slovak Republic               \n",
       "[163] Slovenia                       Sweden                        \n",
       "[165] Swaziland                      Seychelles                    \n",
       "[167] Syrian Arab Republic           Chad                          \n",
       "[169] Togo                           Thailand                      \n",
       "[171] Tajikistan                     Turkmenistan                  \n",
       "[173] Timor-Leste                    Tonga                         \n",
       "[175] Trinidad and Tobago            Tunisia                       \n",
       "[177] Turkey                         Tanzania                      \n",
       "[179] Uganda                         Ukraine                       \n",
       "[181] Uruguay                        United States                 \n",
       "[183] Uzbekistan                     St. Vincent and the Grenadines\n",
       "[185] Venezuela, RB                  Virgin Islands (U.S.)         \n",
       "[187] Vietnam                        Vanuatu                       \n",
       "[189] West Bank and Gaza             Samoa                         \n",
       "[191] Yemen, Rep.                    South Africa                  \n",
       "[193] Congo, Dem. Rep.               Zambia                        \n",
       "[195] Zimbabwe                      \n",
       "195 Levels: Afghanistan Albania Algeria Angola Antigua and Barbuda ... Zimbabwe"
      ]
     },
     "metadata": {},
     "output_type": "display_data"
    }
   ],
   "source": [
    "# Just First Column with All rows\n",
    "df[, 1]"
   ]
  },
  {
   "cell_type": "code",
   "execution_count": 7,
   "metadata": {},
   "outputs": [
    {
     "data": {
      "text/html": [
       "<table>\n",
       "<thead><tr><th scope=col>Country.Name</th><th scope=col>Birth.rate</th></tr></thead>\n",
       "<tbody>\n",
       "\t<tr><td>Aruba                   </td><td>10.244                  </td></tr>\n",
       "\t<tr><td>Afghanistan             </td><td>35.253                  </td></tr>\n",
       "\t<tr><td>Angola                  </td><td>45.985                  </td></tr>\n",
       "\t<tr><td>Albania                 </td><td>12.877                  </td></tr>\n",
       "\t<tr><td>United Arab Emirates    </td><td>11.044                  </td></tr>\n",
       "\t<tr><td>Argentina               </td><td>17.716                  </td></tr>\n",
       "\t<tr><td>Armenia                 </td><td>13.308                  </td></tr>\n",
       "\t<tr><td>Antigua and Barbuda     </td><td>16.447                  </td></tr>\n",
       "\t<tr><td>Australia               </td><td>13.200                  </td></tr>\n",
       "\t<tr><td>Austria                 </td><td> 9.400                  </td></tr>\n",
       "\t<tr><td>Azerbaijan              </td><td>18.300                  </td></tr>\n",
       "\t<tr><td>Burundi                 </td><td>44.151                  </td></tr>\n",
       "\t<tr><td>Belgium                 </td><td>11.200                  </td></tr>\n",
       "\t<tr><td>Benin                   </td><td>36.440                  </td></tr>\n",
       "\t<tr><td>Burkina Faso            </td><td>40.551                  </td></tr>\n",
       "\t<tr><td>Bangladesh              </td><td>20.142                  </td></tr>\n",
       "\t<tr><td>Bulgaria                </td><td> 9.200                  </td></tr>\n",
       "\t<tr><td>Bahrain                 </td><td>15.040                  </td></tr>\n",
       "\t<tr><td>Bahamas, The            </td><td>15.339                  </td></tr>\n",
       "\t<tr><td>Bosnia and Herzegovina  </td><td> 9.062                  </td></tr>\n",
       "\t<tr><td>Belarus                 </td><td>12.500                  </td></tr>\n",
       "\t<tr><td>Belize                  </td><td>23.092                  </td></tr>\n",
       "\t<tr><td>Bermuda                 </td><td>10.400                  </td></tr>\n",
       "\t<tr><td>Bolivia                 </td><td>24.236                  </td></tr>\n",
       "\t<tr><td>Brazil                  </td><td>14.931                  </td></tr>\n",
       "\t<tr><td>Barbados                </td><td>12.188                  </td></tr>\n",
       "\t<tr><td>Brunei Darussalam       </td><td>16.405                  </td></tr>\n",
       "\t<tr><td>Bhutan                  </td><td>18.134                  </td></tr>\n",
       "\t<tr><td>Botswana                </td><td>25.267                  </td></tr>\n",
       "\t<tr><td>Central African Republic</td><td>34.076                  </td></tr>\n",
       "\t<tr><td>⋮</td><td>⋮</td></tr>\n",
       "\t<tr><td>Seychelles                    </td><td>18.600                        </td></tr>\n",
       "\t<tr><td>Syrian Arab Republic          </td><td>24.043                        </td></tr>\n",
       "\t<tr><td>Chad                          </td><td>45.745                        </td></tr>\n",
       "\t<tr><td>Togo                          </td><td>36.080                        </td></tr>\n",
       "\t<tr><td>Thailand                      </td><td>11.041                        </td></tr>\n",
       "\t<tr><td>Tajikistan                    </td><td>30.792                        </td></tr>\n",
       "\t<tr><td>Turkmenistan                  </td><td>21.322                        </td></tr>\n",
       "\t<tr><td>Timor-Leste                   </td><td>35.755                        </td></tr>\n",
       "\t<tr><td>Tonga                         </td><td>25.409                        </td></tr>\n",
       "\t<tr><td>Trinidad and Tobago           </td><td>14.590                        </td></tr>\n",
       "\t<tr><td>Tunisia                       </td><td>19.800                        </td></tr>\n",
       "\t<tr><td>Turkey                        </td><td>16.836                        </td></tr>\n",
       "\t<tr><td>Tanzania                      </td><td>39.518                        </td></tr>\n",
       "\t<tr><td>Uganda                        </td><td>43.474                        </td></tr>\n",
       "\t<tr><td>Ukraine                       </td><td>11.100                        </td></tr>\n",
       "\t<tr><td>Uruguay                       </td><td>14.374                        </td></tr>\n",
       "\t<tr><td>United States                 </td><td>12.500                        </td></tr>\n",
       "\t<tr><td>Uzbekistan                    </td><td>22.500                        </td></tr>\n",
       "\t<tr><td>St. Vincent and the Grenadines</td><td>16.306                        </td></tr>\n",
       "\t<tr><td>Venezuela, RB                 </td><td>19.842                        </td></tr>\n",
       "\t<tr><td>Virgin Islands (U.S.)         </td><td>10.700                        </td></tr>\n",
       "\t<tr><td>Vietnam                       </td><td>15.537                        </td></tr>\n",
       "\t<tr><td>Vanuatu                       </td><td>26.739                        </td></tr>\n",
       "\t<tr><td>West Bank and Gaza            </td><td>30.394                        </td></tr>\n",
       "\t<tr><td>Samoa                         </td><td>26.172                        </td></tr>\n",
       "\t<tr><td>Yemen, Rep.                   </td><td>32.947                        </td></tr>\n",
       "\t<tr><td>South Africa                  </td><td>20.850                        </td></tr>\n",
       "\t<tr><td>Congo, Dem. Rep.              </td><td>42.394                        </td></tr>\n",
       "\t<tr><td>Zambia                        </td><td>40.471                        </td></tr>\n",
       "\t<tr><td>Zimbabwe                      </td><td>35.715                        </td></tr>\n",
       "</tbody>\n",
       "</table>\n"
      ],
      "text/latex": [
       "\\begin{tabular}{r|ll}\n",
       " Country.Name & Birth.rate\\\\\n",
       "\\hline\n",
       "\t Aruba                    & 10.244                  \\\\\n",
       "\t Afghanistan              & 35.253                  \\\\\n",
       "\t Angola                   & 45.985                  \\\\\n",
       "\t Albania                  & 12.877                  \\\\\n",
       "\t United Arab Emirates     & 11.044                  \\\\\n",
       "\t Argentina                & 17.716                  \\\\\n",
       "\t Armenia                  & 13.308                  \\\\\n",
       "\t Antigua and Barbuda      & 16.447                  \\\\\n",
       "\t Australia                & 13.200                  \\\\\n",
       "\t Austria                  &  9.400                  \\\\\n",
       "\t Azerbaijan               & 18.300                  \\\\\n",
       "\t Burundi                  & 44.151                  \\\\\n",
       "\t Belgium                  & 11.200                  \\\\\n",
       "\t Benin                    & 36.440                  \\\\\n",
       "\t Burkina Faso             & 40.551                  \\\\\n",
       "\t Bangladesh               & 20.142                  \\\\\n",
       "\t Bulgaria                 &  9.200                  \\\\\n",
       "\t Bahrain                  & 15.040                  \\\\\n",
       "\t Bahamas, The             & 15.339                  \\\\\n",
       "\t Bosnia and Herzegovina   &  9.062                  \\\\\n",
       "\t Belarus                  & 12.500                  \\\\\n",
       "\t Belize                   & 23.092                  \\\\\n",
       "\t Bermuda                  & 10.400                  \\\\\n",
       "\t Bolivia                  & 24.236                  \\\\\n",
       "\t Brazil                   & 14.931                  \\\\\n",
       "\t Barbados                 & 12.188                  \\\\\n",
       "\t Brunei Darussalam        & 16.405                  \\\\\n",
       "\t Bhutan                   & 18.134                  \\\\\n",
       "\t Botswana                 & 25.267                  \\\\\n",
       "\t Central African Republic & 34.076                  \\\\\n",
       "\t ⋮ & ⋮\\\\\n",
       "\t Seychelles                     & 18.600                        \\\\\n",
       "\t Syrian Arab Republic           & 24.043                        \\\\\n",
       "\t Chad                           & 45.745                        \\\\\n",
       "\t Togo                           & 36.080                        \\\\\n",
       "\t Thailand                       & 11.041                        \\\\\n",
       "\t Tajikistan                     & 30.792                        \\\\\n",
       "\t Turkmenistan                   & 21.322                        \\\\\n",
       "\t Timor-Leste                    & 35.755                        \\\\\n",
       "\t Tonga                          & 25.409                        \\\\\n",
       "\t Trinidad and Tobago            & 14.590                        \\\\\n",
       "\t Tunisia                        & 19.800                        \\\\\n",
       "\t Turkey                         & 16.836                        \\\\\n",
       "\t Tanzania                       & 39.518                        \\\\\n",
       "\t Uganda                         & 43.474                        \\\\\n",
       "\t Ukraine                        & 11.100                        \\\\\n",
       "\t Uruguay                        & 14.374                        \\\\\n",
       "\t United States                  & 12.500                        \\\\\n",
       "\t Uzbekistan                     & 22.500                        \\\\\n",
       "\t St. Vincent and the Grenadines & 16.306                        \\\\\n",
       "\t Venezuela, RB                  & 19.842                        \\\\\n",
       "\t Virgin Islands (U.S.)          & 10.700                        \\\\\n",
       "\t Vietnam                        & 15.537                        \\\\\n",
       "\t Vanuatu                        & 26.739                        \\\\\n",
       "\t West Bank and Gaza             & 30.394                        \\\\\n",
       "\t Samoa                          & 26.172                        \\\\\n",
       "\t Yemen, Rep.                    & 32.947                        \\\\\n",
       "\t South Africa                   & 20.850                        \\\\\n",
       "\t Congo, Dem. Rep.               & 42.394                        \\\\\n",
       "\t Zambia                         & 40.471                        \\\\\n",
       "\t Zimbabwe                       & 35.715                        \\\\\n",
       "\\end{tabular}\n"
      ],
      "text/markdown": [
       "\n",
       "Country.Name | Birth.rate | \n",
       "|---|---|---|---|---|---|---|---|---|---|---|---|---|---|---|---|---|---|---|---|---|---|---|---|---|---|---|---|---|---|---|---|---|---|---|---|---|---|---|---|---|---|---|---|---|---|---|---|---|---|---|---|---|---|---|---|---|---|---|---|---|\n",
       "| Aruba                    | 10.244                   | \n",
       "| Afghanistan              | 35.253                   | \n",
       "| Angola                   | 45.985                   | \n",
       "| Albania                  | 12.877                   | \n",
       "| United Arab Emirates     | 11.044                   | \n",
       "| Argentina                | 17.716                   | \n",
       "| Armenia                  | 13.308                   | \n",
       "| Antigua and Barbuda      | 16.447                   | \n",
       "| Australia                | 13.200                   | \n",
       "| Austria                  |  9.400                   | \n",
       "| Azerbaijan               | 18.300                   | \n",
       "| Burundi                  | 44.151                   | \n",
       "| Belgium                  | 11.200                   | \n",
       "| Benin                    | 36.440                   | \n",
       "| Burkina Faso             | 40.551                   | \n",
       "| Bangladesh               | 20.142                   | \n",
       "| Bulgaria                 |  9.200                   | \n",
       "| Bahrain                  | 15.040                   | \n",
       "| Bahamas, The             | 15.339                   | \n",
       "| Bosnia and Herzegovina   |  9.062                   | \n",
       "| Belarus                  | 12.500                   | \n",
       "| Belize                   | 23.092                   | \n",
       "| Bermuda                  | 10.400                   | \n",
       "| Bolivia                  | 24.236                   | \n",
       "| Brazil                   | 14.931                   | \n",
       "| Barbados                 | 12.188                   | \n",
       "| Brunei Darussalam        | 16.405                   | \n",
       "| Bhutan                   | 18.134                   | \n",
       "| Botswana                 | 25.267                   | \n",
       "| Central African Republic | 34.076                   | \n",
       "| ⋮ | ⋮ | \n",
       "| Seychelles                     | 18.600                         | \n",
       "| Syrian Arab Republic           | 24.043                         | \n",
       "| Chad                           | 45.745                         | \n",
       "| Togo                           | 36.080                         | \n",
       "| Thailand                       | 11.041                         | \n",
       "| Tajikistan                     | 30.792                         | \n",
       "| Turkmenistan                   | 21.322                         | \n",
       "| Timor-Leste                    | 35.755                         | \n",
       "| Tonga                          | 25.409                         | \n",
       "| Trinidad and Tobago            | 14.590                         | \n",
       "| Tunisia                        | 19.800                         | \n",
       "| Turkey                         | 16.836                         | \n",
       "| Tanzania                       | 39.518                         | \n",
       "| Uganda                         | 43.474                         | \n",
       "| Ukraine                        | 11.100                         | \n",
       "| Uruguay                        | 14.374                         | \n",
       "| United States                  | 12.500                         | \n",
       "| Uzbekistan                     | 22.500                         | \n",
       "| St. Vincent and the Grenadines | 16.306                         | \n",
       "| Venezuela, RB                  | 19.842                         | \n",
       "| Virgin Islands (U.S.)          | 10.700                         | \n",
       "| Vietnam                        | 15.537                         | \n",
       "| Vanuatu                        | 26.739                         | \n",
       "| West Bank and Gaza             | 30.394                         | \n",
       "| Samoa                          | 26.172                         | \n",
       "| Yemen, Rep.                    | 32.947                         | \n",
       "| South Africa                   | 20.850                         | \n",
       "| Congo, Dem. Rep.               | 42.394                         | \n",
       "| Zambia                         | 40.471                         | \n",
       "| Zimbabwe                       | 35.715                         | \n",
       "\n",
       "\n"
      ],
      "text/plain": [
       "    Country.Name                   Birth.rate\n",
       "1   Aruba                          10.244    \n",
       "2   Afghanistan                    35.253    \n",
       "3   Angola                         45.985    \n",
       "4   Albania                        12.877    \n",
       "5   United Arab Emirates           11.044    \n",
       "6   Argentina                      17.716    \n",
       "7   Armenia                        13.308    \n",
       "8   Antigua and Barbuda            16.447    \n",
       "9   Australia                      13.200    \n",
       "10  Austria                         9.400    \n",
       "11  Azerbaijan                     18.300    \n",
       "12  Burundi                        44.151    \n",
       "13  Belgium                        11.200    \n",
       "14  Benin                          36.440    \n",
       "15  Burkina Faso                   40.551    \n",
       "16  Bangladesh                     20.142    \n",
       "17  Bulgaria                        9.200    \n",
       "18  Bahrain                        15.040    \n",
       "19  Bahamas, The                   15.339    \n",
       "20  Bosnia and Herzegovina          9.062    \n",
       "21  Belarus                        12.500    \n",
       "22  Belize                         23.092    \n",
       "23  Bermuda                        10.400    \n",
       "24  Bolivia                        24.236    \n",
       "25  Brazil                         14.931    \n",
       "26  Barbados                       12.188    \n",
       "27  Brunei Darussalam              16.405    \n",
       "28  Bhutan                         18.134    \n",
       "29  Botswana                       25.267    \n",
       "30  Central African Republic       34.076    \n",
       "⋮   ⋮                              ⋮         \n",
       "166 Seychelles                     18.600    \n",
       "167 Syrian Arab Republic           24.043    \n",
       "168 Chad                           45.745    \n",
       "169 Togo                           36.080    \n",
       "170 Thailand                       11.041    \n",
       "171 Tajikistan                     30.792    \n",
       "172 Turkmenistan                   21.322    \n",
       "173 Timor-Leste                    35.755    \n",
       "174 Tonga                          25.409    \n",
       "175 Trinidad and Tobago            14.590    \n",
       "176 Tunisia                        19.800    \n",
       "177 Turkey                         16.836    \n",
       "178 Tanzania                       39.518    \n",
       "179 Uganda                         43.474    \n",
       "180 Ukraine                        11.100    \n",
       "181 Uruguay                        14.374    \n",
       "182 United States                  12.500    \n",
       "183 Uzbekistan                     22.500    \n",
       "184 St. Vincent and the Grenadines 16.306    \n",
       "185 Venezuela, RB                  19.842    \n",
       "186 Virgin Islands (U.S.)          10.700    \n",
       "187 Vietnam                        15.537    \n",
       "188 Vanuatu                        26.739    \n",
       "189 West Bank and Gaza             30.394    \n",
       "190 Samoa                          26.172    \n",
       "191 Yemen, Rep.                    32.947    \n",
       "192 South Africa                   20.850    \n",
       "193 Congo, Dem. Rep.               42.394    \n",
       "194 Zambia                         40.471    \n",
       "195 Zimbabwe                       35.715    "
      ]
     },
     "metadata": {},
     "output_type": "display_data"
    }
   ],
   "source": [
    "# First and Third Column with All rows\n",
    "df[,c(1,3)]\n"
   ]
  },
  {
   "cell_type": "code",
   "execution_count": 59,
   "metadata": {},
   "outputs": [
    {
     "data": {
      "text/html": [
       "'numeric'"
      ],
      "text/latex": [
       "'numeric'"
      ],
      "text/markdown": [
       "'numeric'"
      ],
      "text/plain": [
       "[1] \"numeric\""
      ]
     },
     "metadata": {},
     "output_type": "display_data"
    },
    {
     "data": {
      "text/html": [
       "'factor'"
      ],
      "text/latex": [
       "'factor'"
      ],
      "text/markdown": [
       "'factor'"
      ],
      "text/plain": [
       "[1] \"factor\""
      ]
     },
     "metadata": {},
     "output_type": "display_data"
    }
   ],
   "source": [
    "#data type\n",
    "class(data$Internet.users)\n",
    "class(data$Income.Group)"
   ]
  },
  {
   "cell_type": "code",
   "execution_count": 8,
   "metadata": {},
   "outputs": [
    {
     "data": {
      "text/html": [
       "<ol class=list-inline>\n",
       "\t<li>High income</li>\n",
       "\t<li>Low income</li>\n",
       "\t<li>Upper middle income</li>\n",
       "\t<li>Lower middle income</li>\n",
       "</ol>\n",
       "\n",
       "<details>\n",
       "\t<summary style=display:list-item;cursor:pointer>\n",
       "\t\t<strong>Levels</strong>:\n",
       "\t</summary>\n",
       "\t<ol class=list-inline>\n",
       "\t\t<li>'High income'</li>\n",
       "\t\t<li>'Low income'</li>\n",
       "\t\t<li>'Lower middle income'</li>\n",
       "\t\t<li>'Upper middle income'</li>\n",
       "\t</ol>\n",
       "</details>"
      ],
      "text/latex": [
       "\\begin{enumerate*}\n",
       "\\item High income\n",
       "\\item Low income\n",
       "\\item Upper middle income\n",
       "\\item Lower middle income\n",
       "\\end{enumerate*}\n",
       "\n",
       "\\emph{Levels}: \\begin{enumerate*}\n",
       "\\item 'High income'\n",
       "\\item 'Low income'\n",
       "\\item 'Lower middle income'\n",
       "\\item 'Upper middle income'\n",
       "\\end{enumerate*}\n"
      ],
      "text/markdown": [
       "1. High income\n",
       "2. Low income\n",
       "3. Upper middle income\n",
       "4. Lower middle income\n",
       "\n",
       "\n",
       "\n",
       "**Levels**: 1. 'High income'\n",
       "2. 'Low income'\n",
       "3. 'Lower middle income'\n",
       "4. 'Upper middle income'\n",
       "\n",
       "\n"
      ],
      "text/plain": [
       "[1] High income         Low income          Upper middle income\n",
       "[4] Lower middle income\n",
       "Levels: High income Low income Lower middle income Upper middle income"
      ]
     },
     "metadata": {},
     "output_type": "display_data"
    },
    {
     "data": {
      "text/html": [
       "<ol class=list-inline>\n",
       "\t<li>78.9</li>\n",
       "\t<li>5.9</li>\n",
       "\t<li>19.1</li>\n",
       "\t<li>57.2</li>\n",
       "\t<li>88</li>\n",
       "\t<li>59.9</li>\n",
       "\t<li>41.9</li>\n",
       "\t<li>63.4</li>\n",
       "\t<li>83</li>\n",
       "\t<li>80.6188</li>\n",
       "\t<li>58.7</li>\n",
       "\t<li>1.3</li>\n",
       "\t<li>82.1702</li>\n",
       "\t<li>4.9</li>\n",
       "\t<li>9.1</li>\n",
       "\t<li>6.63</li>\n",
       "\t<li>53.0615</li>\n",
       "\t<li>90.0000397</li>\n",
       "\t<li>72</li>\n",
       "\t<li>57.79</li>\n",
       "\t<li>54.17</li>\n",
       "\t<li>33.6</li>\n",
       "\t<li>95.3</li>\n",
       "\t<li>36.94</li>\n",
       "\t<li>51.04</li>\n",
       "\t<li>73</li>\n",
       "\t<li>64.5</li>\n",
       "\t<li>29.9</li>\n",
       "\t<li>15</li>\n",
       "\t<li>3.5</li>\n",
       "\t<li>85.8</li>\n",
       "\t<li>86.34</li>\n",
       "\t<li>66.5</li>\n",
       "\t<li>45.8</li>\n",
       "\t<li>8.4</li>\n",
       "\t<li>6.4</li>\n",
       "\t<li>6.6</li>\n",
       "\t<li>51.7</li>\n",
       "\t<li>6.5</li>\n",
       "\t<li>37.5</li>\n",
       "\t<li>45.96</li>\n",
       "\t<li>27.93</li>\n",
       "\t<li>74.1</li>\n",
       "\t<li>65.4548</li>\n",
       "\t<li>74.1104</li>\n",
       "\t<li>84.17</li>\n",
       "\t<li>9.5</li>\n",
       "\t<li>94.6297</li>\n",
       "\t<li>45.9</li>\n",
       "\t<li>16.5</li>\n",
       "\t<li>40.35368423</li>\n",
       "\t<li>29.4</li>\n",
       "\t<li>0.9</li>\n",
       "\t<li>71.635</li>\n",
       "\t<li>79.4</li>\n",
       "\t<li>1.9</li>\n",
       "\t<li>91.5144</li>\n",
       "\t<li>37.1</li>\n",
       "\t<li>81.9198</li>\n",
       "\t<li>27.8</li>\n",
       "\t<li>9.2</li>\n",
       "\t<li>89.8441</li>\n",
       "\t<li>43.3</li>\n",
       "\t<li>12.3</li>\n",
       "\t<li>1.6</li>\n",
       "\t<li>14</li>\n",
       "\t<li>3.1</li>\n",
       "\t<li>16.4</li>\n",
       "\t<li>59.8663</li>\n",
       "\t<li>35</li>\n",
       "\t<li>65.8</li>\n",
       "\t<li>19.7</li>\n",
       "\t<li>65.4</li>\n",
       "\t<li>74.2</li>\n",
       "\t<li>17.8</li>\n",
       "\t<li>66.7476</li>\n",
       "\t<li>10.6</li>\n",
       "\t<li>72.6439</li>\n",
       "\t<li>14.94</li>\n",
       "\t<li>15.1</li>\n",
       "\t<li>78.2477</li>\n",
       "\t<li>29.95</li>\n",
       "\t<li>96.5468</li>\n",
       "\t<li>70.8</li>\n",
       "\t<li>58.4593</li>\n",
       "\t<li>41</li>\n",
       "\t<li>89.71</li>\n",
       "\t<li>54</li>\n",
       "\t<li>39</li>\n",
       "\t<li>23</li>\n",
       "\t<li>6.8</li>\n",
       "\t<li>11.5</li>\n",
       "\t<li>84.77</li>\n",
       "\t<li>75.46</li>\n",
       "\t<li>12.5</li>\n",
       "\t<li>70.5</li>\n",
       "\t<li>3.2</li>\n",
       "\t<li>46.2</li>\n",
       "\t<li>93.8</li>\n",
       "\t<li>21.9</li>\n",
       "\t<li>5</li>\n",
       "\t<li>68.4529</li>\n",
       "\t<li>93.7765</li>\n",
       "\t<li>75.2344</li>\n",
       "\t<li>56</li>\n",
       "\t<li>45</li>\n",
       "\t<li>3</li>\n",
       "\t<li>44.1</li>\n",
       "\t<li>43.46</li>\n",
       "\t<li>65.24</li>\n",
       "\t<li>68.9138</li>\n",
       "\t<li>60.31</li>\n",
       "\t<li>20</li>\n",
       "\t<li>5.4</li>\n",
       "\t<li>6.2</li>\n",
       "\t<li>5.05</li>\n",
       "\t<li>66.97</li>\n",
       "\t<li>13.9</li>\n",
       "\t<li>66</li>\n",
       "\t<li>1.7</li>\n",
       "\t<li>38</li>\n",
       "\t<li>15.5</li>\n",
       "\t<li>93.9564</li>\n",
       "\t<li>95.0534</li>\n",
       "\t<li>13.3</li>\n",
       "\t<li>82.78</li>\n",
       "\t<li>66.45</li>\n",
       "\t<li>10.9</li>\n",
       "\t<li>44.03</li>\n",
       "\t<li>39.2</li>\n",
       "\t<li>37</li>\n",
       "\t<li>62.8492</li>\n",
       "\t<li>73.9</li>\n",
       "\t<li>62.0956</li>\n",
       "\t<li>36.9</li>\n",
       "\t<li>56.8</li>\n",
       "\t<li>85.3</li>\n",
       "\t<li>49.7645</li>\n",
       "\t<li>67.97</li>\n",
       "\t<li>9</li>\n",
       "\t<li>60.5</li>\n",
       "\t<li>22.7</li>\n",
       "\t<li>13.1</li>\n",
       "\t<li>81</li>\n",
       "\t<li>8</li>\n",
       "\t<li>23.1093</li>\n",
       "\t<li>1.5</li>\n",
       "\t<li>51.5</li>\n",
       "\t<li>14.1</li>\n",
       "\t<li>37.4</li>\n",
       "\t<li>77.8826</li>\n",
       "\t<li>72.6756</li>\n",
       "\t<li>94.7836</li>\n",
       "\t<li>24.7</li>\n",
       "\t<li>50.4</li>\n",
       "\t<li>26.2</li>\n",
       "\t<li>2.3</li>\n",
       "\t<li>4.5</li>\n",
       "\t<li>28.94</li>\n",
       "\t<li>16</li>\n",
       "\t<li>9.6</li>\n",
       "\t<li>1.1</li>\n",
       "\t<li>63.8</li>\n",
       "\t<li>43.8</li>\n",
       "\t<li>46.25</li>\n",
       "\t<li>4.4</li>\n",
       "\t<li>16.2</li>\n",
       "\t<li>57.69</li>\n",
       "\t<li>84.2</li>\n",
       "\t<li>38.2</li>\n",
       "\t<li>52</li>\n",
       "\t<li>54.9</li>\n",
       "\t<li>45.3</li>\n",
       "\t<li>43.9</li>\n",
       "\t<li>11.3</li>\n",
       "\t<li>46.6</li>\n",
       "\t<li>15.3</li>\n",
       "\t<li>46.5</li>\n",
       "\t<li>2.2</li>\n",
       "\t<li>15.4</li>\n",
       "\t<li>18.5</li>\n",
       "</ol>\n"
      ],
      "text/latex": [
       "\\begin{enumerate*}\n",
       "\\item 78.9\n",
       "\\item 5.9\n",
       "\\item 19.1\n",
       "\\item 57.2\n",
       "\\item 88\n",
       "\\item 59.9\n",
       "\\item 41.9\n",
       "\\item 63.4\n",
       "\\item 83\n",
       "\\item 80.6188\n",
       "\\item 58.7\n",
       "\\item 1.3\n",
       "\\item 82.1702\n",
       "\\item 4.9\n",
       "\\item 9.1\n",
       "\\item 6.63\n",
       "\\item 53.0615\n",
       "\\item 90.0000397\n",
       "\\item 72\n",
       "\\item 57.79\n",
       "\\item 54.17\n",
       "\\item 33.6\n",
       "\\item 95.3\n",
       "\\item 36.94\n",
       "\\item 51.04\n",
       "\\item 73\n",
       "\\item 64.5\n",
       "\\item 29.9\n",
       "\\item 15\n",
       "\\item 3.5\n",
       "\\item 85.8\n",
       "\\item 86.34\n",
       "\\item 66.5\n",
       "\\item 45.8\n",
       "\\item 8.4\n",
       "\\item 6.4\n",
       "\\item 6.6\n",
       "\\item 51.7\n",
       "\\item 6.5\n",
       "\\item 37.5\n",
       "\\item 45.96\n",
       "\\item 27.93\n",
       "\\item 74.1\n",
       "\\item 65.4548\n",
       "\\item 74.1104\n",
       "\\item 84.17\n",
       "\\item 9.5\n",
       "\\item 94.6297\n",
       "\\item 45.9\n",
       "\\item 16.5\n",
       "\\item 40.35368423\n",
       "\\item 29.4\n",
       "\\item 0.9\n",
       "\\item 71.635\n",
       "\\item 79.4\n",
       "\\item 1.9\n",
       "\\item 91.5144\n",
       "\\item 37.1\n",
       "\\item 81.9198\n",
       "\\item 27.8\n",
       "\\item 9.2\n",
       "\\item 89.8441\n",
       "\\item 43.3\n",
       "\\item 12.3\n",
       "\\item 1.6\n",
       "\\item 14\n",
       "\\item 3.1\n",
       "\\item 16.4\n",
       "\\item 59.8663\n",
       "\\item 35\n",
       "\\item 65.8\n",
       "\\item 19.7\n",
       "\\item 65.4\n",
       "\\item 74.2\n",
       "\\item 17.8\n",
       "\\item 66.7476\n",
       "\\item 10.6\n",
       "\\item 72.6439\n",
       "\\item 14.94\n",
       "\\item 15.1\n",
       "\\item 78.2477\n",
       "\\item 29.95\n",
       "\\item 96.5468\n",
       "\\item 70.8\n",
       "\\item 58.4593\n",
       "\\item 41\n",
       "\\item 89.71\n",
       "\\item 54\n",
       "\\item 39\n",
       "\\item 23\n",
       "\\item 6.8\n",
       "\\item 11.5\n",
       "\\item 84.77\n",
       "\\item 75.46\n",
       "\\item 12.5\n",
       "\\item 70.5\n",
       "\\item 3.2\n",
       "\\item 46.2\n",
       "\\item 93.8\n",
       "\\item 21.9\n",
       "\\item 5\n",
       "\\item 68.4529\n",
       "\\item 93.7765\n",
       "\\item 75.2344\n",
       "\\item 56\n",
       "\\item 45\n",
       "\\item 3\n",
       "\\item 44.1\n",
       "\\item 43.46\n",
       "\\item 65.24\n",
       "\\item 68.9138\n",
       "\\item 60.31\n",
       "\\item 20\n",
       "\\item 5.4\n",
       "\\item 6.2\n",
       "\\item 5.05\n",
       "\\item 66.97\n",
       "\\item 13.9\n",
       "\\item 66\n",
       "\\item 1.7\n",
       "\\item 38\n",
       "\\item 15.5\n",
       "\\item 93.9564\n",
       "\\item 95.0534\n",
       "\\item 13.3\n",
       "\\item 82.78\n",
       "\\item 66.45\n",
       "\\item 10.9\n",
       "\\item 44.03\n",
       "\\item 39.2\n",
       "\\item 37\n",
       "\\item 62.8492\n",
       "\\item 73.9\n",
       "\\item 62.0956\n",
       "\\item 36.9\n",
       "\\item 56.8\n",
       "\\item 85.3\n",
       "\\item 49.7645\n",
       "\\item 67.97\n",
       "\\item 9\n",
       "\\item 60.5\n",
       "\\item 22.7\n",
       "\\item 13.1\n",
       "\\item 81\n",
       "\\item 8\n",
       "\\item 23.1093\n",
       "\\item 1.5\n",
       "\\item 51.5\n",
       "\\item 14.1\n",
       "\\item 37.4\n",
       "\\item 77.8826\n",
       "\\item 72.6756\n",
       "\\item 94.7836\n",
       "\\item 24.7\n",
       "\\item 50.4\n",
       "\\item 26.2\n",
       "\\item 2.3\n",
       "\\item 4.5\n",
       "\\item 28.94\n",
       "\\item 16\n",
       "\\item 9.6\n",
       "\\item 1.1\n",
       "\\item 63.8\n",
       "\\item 43.8\n",
       "\\item 46.25\n",
       "\\item 4.4\n",
       "\\item 16.2\n",
       "\\item 57.69\n",
       "\\item 84.2\n",
       "\\item 38.2\n",
       "\\item 52\n",
       "\\item 54.9\n",
       "\\item 45.3\n",
       "\\item 43.9\n",
       "\\item 11.3\n",
       "\\item 46.6\n",
       "\\item 15.3\n",
       "\\item 46.5\n",
       "\\item 2.2\n",
       "\\item 15.4\n",
       "\\item 18.5\n",
       "\\end{enumerate*}\n"
      ],
      "text/markdown": [
       "1. 78.9\n",
       "2. 5.9\n",
       "3. 19.1\n",
       "4. 57.2\n",
       "5. 88\n",
       "6. 59.9\n",
       "7. 41.9\n",
       "8. 63.4\n",
       "9. 83\n",
       "10. 80.6188\n",
       "11. 58.7\n",
       "12. 1.3\n",
       "13. 82.1702\n",
       "14. 4.9\n",
       "15. 9.1\n",
       "16. 6.63\n",
       "17. 53.0615\n",
       "18. 90.0000397\n",
       "19. 72\n",
       "20. 57.79\n",
       "21. 54.17\n",
       "22. 33.6\n",
       "23. 95.3\n",
       "24. 36.94\n",
       "25. 51.04\n",
       "26. 73\n",
       "27. 64.5\n",
       "28. 29.9\n",
       "29. 15\n",
       "30. 3.5\n",
       "31. 85.8\n",
       "32. 86.34\n",
       "33. 66.5\n",
       "34. 45.8\n",
       "35. 8.4\n",
       "36. 6.4\n",
       "37. 6.6\n",
       "38. 51.7\n",
       "39. 6.5\n",
       "40. 37.5\n",
       "41. 45.96\n",
       "42. 27.93\n",
       "43. 74.1\n",
       "44. 65.4548\n",
       "45. 74.1104\n",
       "46. 84.17\n",
       "47. 9.5\n",
       "48. 94.6297\n",
       "49. 45.9\n",
       "50. 16.5\n",
       "51. 40.35368423\n",
       "52. 29.4\n",
       "53. 0.9\n",
       "54. 71.635\n",
       "55. 79.4\n",
       "56. 1.9\n",
       "57. 91.5144\n",
       "58. 37.1\n",
       "59. 81.9198\n",
       "60. 27.8\n",
       "61. 9.2\n",
       "62. 89.8441\n",
       "63. 43.3\n",
       "64. 12.3\n",
       "65. 1.6\n",
       "66. 14\n",
       "67. 3.1\n",
       "68. 16.4\n",
       "69. 59.8663\n",
       "70. 35\n",
       "71. 65.8\n",
       "72. 19.7\n",
       "73. 65.4\n",
       "74. 74.2\n",
       "75. 17.8\n",
       "76. 66.7476\n",
       "77. 10.6\n",
       "78. 72.6439\n",
       "79. 14.94\n",
       "80. 15.1\n",
       "81. 78.2477\n",
       "82. 29.95\n",
       "83. 96.5468\n",
       "84. 70.8\n",
       "85. 58.4593\n",
       "86. 41\n",
       "87. 89.71\n",
       "88. 54\n",
       "89. 39\n",
       "90. 23\n",
       "91. 6.8\n",
       "92. 11.5\n",
       "93. 84.77\n",
       "94. 75.46\n",
       "95. 12.5\n",
       "96. 70.5\n",
       "97. 3.2\n",
       "98. 46.2\n",
       "99. 93.8\n",
       "100. 21.9\n",
       "101. 5\n",
       "102. 68.4529\n",
       "103. 93.7765\n",
       "104. 75.2344\n",
       "105. 56\n",
       "106. 45\n",
       "107. 3\n",
       "108. 44.1\n",
       "109. 43.46\n",
       "110. 65.24\n",
       "111. 68.9138\n",
       "112. 60.31\n",
       "113. 20\n",
       "114. 5.4\n",
       "115. 6.2\n",
       "116. 5.05\n",
       "117. 66.97\n",
       "118. 13.9\n",
       "119. 66\n",
       "120. 1.7\n",
       "121. 38\n",
       "122. 15.5\n",
       "123. 93.9564\n",
       "124. 95.0534\n",
       "125. 13.3\n",
       "126. 82.78\n",
       "127. 66.45\n",
       "128. 10.9\n",
       "129. 44.03\n",
       "130. 39.2\n",
       "131. 37\n",
       "132. 62.8492\n",
       "133. 73.9\n",
       "134. 62.0956\n",
       "135. 36.9\n",
       "136. 56.8\n",
       "137. 85.3\n",
       "138. 49.7645\n",
       "139. 67.97\n",
       "140. 9\n",
       "141. 60.5\n",
       "142. 22.7\n",
       "143. 13.1\n",
       "144. 81\n",
       "145. 8\n",
       "146. 23.1093\n",
       "147. 1.5\n",
       "148. 51.5\n",
       "149. 14.1\n",
       "150. 37.4\n",
       "151. 77.8826\n",
       "152. 72.6756\n",
       "153. 94.7836\n",
       "154. 24.7\n",
       "155. 50.4\n",
       "156. 26.2\n",
       "157. 2.3\n",
       "158. 4.5\n",
       "159. 28.94\n",
       "160. 16\n",
       "161. 9.6\n",
       "162. 1.1\n",
       "163. 63.8\n",
       "164. 43.8\n",
       "165. 46.25\n",
       "166. 4.4\n",
       "167. 16.2\n",
       "168. 57.69\n",
       "169. 84.2\n",
       "170. 38.2\n",
       "171. 52\n",
       "172. 54.9\n",
       "173. 45.3\n",
       "174. 43.9\n",
       "175. 11.3\n",
       "176. 46.6\n",
       "177. 15.3\n",
       "178. 46.5\n",
       "179. 2.2\n",
       "180. 15.4\n",
       "181. 18.5\n",
       "\n",
       "\n"
      ],
      "text/plain": [
       "  [1] 78.90000  5.90000 19.10000 57.20000 88.00000 59.90000 41.90000 63.40000\n",
       "  [9] 83.00000 80.61880 58.70000  1.30000 82.17020  4.90000  9.10000  6.63000\n",
       " [17] 53.06150 90.00004 72.00000 57.79000 54.17000 33.60000 95.30000 36.94000\n",
       " [25] 51.04000 73.00000 64.50000 29.90000 15.00000  3.50000 85.80000 86.34000\n",
       " [33] 66.50000 45.80000  8.40000  6.40000  6.60000 51.70000  6.50000 37.50000\n",
       " [41] 45.96000 27.93000 74.10000 65.45480 74.11040 84.17000  9.50000 94.62970\n",
       " [49] 45.90000 16.50000 40.35368 29.40000  0.90000 71.63500 79.40000  1.90000\n",
       " [57] 91.51440 37.10000 81.91980 27.80000  9.20000 89.84410 43.30000 12.30000\n",
       " [65]  1.60000 14.00000  3.10000 16.40000 59.86630 35.00000 65.80000 19.70000\n",
       " [73] 65.40000 74.20000 17.80000 66.74760 10.60000 72.64390 14.94000 15.10000\n",
       " [81] 78.24770 29.95000 96.54680 70.80000 58.45930 41.00000 89.71000 54.00000\n",
       " [89] 39.00000 23.00000  6.80000 11.50000 84.77000 75.46000 12.50000 70.50000\n",
       " [97]  3.20000 46.20000 93.80000 21.90000  5.00000 68.45290 93.77650 75.23440\n",
       "[105] 56.00000 45.00000  3.00000 44.10000 43.46000 65.24000 68.91380 60.31000\n",
       "[113] 20.00000  5.40000  6.20000  5.05000 66.97000 13.90000 66.00000  1.70000\n",
       "[121] 38.00000 15.50000 93.95640 95.05340 13.30000 82.78000 66.45000 10.90000\n",
       "[129] 44.03000 39.20000 37.00000 62.84920 73.90000 62.09560 36.90000 56.80000\n",
       "[137] 85.30000 49.76450 67.97000  9.00000 60.50000 22.70000 13.10000 81.00000\n",
       "[145]  8.00000 23.10930  1.50000 51.50000 14.10000 37.40000 77.88260 72.67560\n",
       "[153] 94.78360 24.70000 50.40000 26.20000  2.30000  4.50000 28.94000 16.00000\n",
       "[161]  9.60000  1.10000 63.80000 43.80000 46.25000  4.40000 16.20000 57.69000\n",
       "[169] 84.20000 38.20000 52.00000 54.90000 45.30000 43.90000 11.30000 46.60000\n",
       "[177] 15.30000 46.50000  2.20000 15.40000 18.50000"
      ]
     },
     "metadata": {},
     "output_type": "display_data"
    }
   ],
   "source": [
    "#Unique values in a column\n",
    "unique(data$Income.Group)\n",
    "unique(data$Internet.users)"
   ]
  },
  {
   "cell_type": "code",
   "execution_count": 9,
   "metadata": {},
   "outputs": [
    {
     "data": {
      "text/html": [
       "181"
      ],
      "text/latex": [
       "181"
      ],
      "text/markdown": [
       "181"
      ],
      "text/plain": [
       "[1] 181"
      ]
     },
     "metadata": {},
     "output_type": "display_data"
    }
   ],
   "source": [
    "#Count of unique values in a column\n",
    "length(unique(data$Internet.users))\n",
    "\n"
   ]
  },
  {
   "cell_type": "code",
   "execution_count": 10,
   "metadata": {},
   "outputs": [
    {
     "data": {
      "text/plain": [
       "\n",
       "                   Afghanistan                        Albania \n",
       "                             1                              1 \n",
       "                       Algeria                         Angola \n",
       "                             1                              1 \n",
       "           Antigua and Barbuda                      Argentina \n",
       "                             1                              1 \n",
       "                       Armenia                          Aruba \n",
       "                             1                              1 \n",
       "                     Australia                        Austria \n",
       "                             1                              1 \n",
       "                    Azerbaijan                   Bahamas, The \n",
       "                             1                              1 \n",
       "                       Bahrain                     Bangladesh \n",
       "                             1                              1 \n",
       "                      Barbados                        Belarus \n",
       "                             1                              1 \n",
       "                       Belgium                         Belize \n",
       "                             1                              1 \n",
       "                         Benin                        Bermuda \n",
       "                             1                              1 \n",
       "                        Bhutan                        Bolivia \n",
       "                             1                              1 \n",
       "        Bosnia and Herzegovina                       Botswana \n",
       "                             1                              1 \n",
       "                        Brazil              Brunei Darussalam \n",
       "                             1                              1 \n",
       "                      Bulgaria                   Burkina Faso \n",
       "                             1                              1 \n",
       "                       Burundi                     Cabo Verde \n",
       "                             1                              1 \n",
       "                      Cambodia                       Cameroon \n",
       "                             1                              1 \n",
       "                        Canada                 Cayman Islands \n",
       "                             1                              1 \n",
       "      Central African Republic                           Chad \n",
       "                             1                              1 \n",
       "                         Chile                          China \n",
       "                             1                              1 \n",
       "                      Colombia                        Comoros \n",
       "                             1                              1 \n",
       "              Congo, Dem. Rep.                    Congo, Rep. \n",
       "                             1                              1 \n",
       "                    Costa Rica                  Cote d'Ivoire \n",
       "                             1                              1 \n",
       "                       Croatia                           Cuba \n",
       "                             1                              1 \n",
       "                        Cyprus                 Czech Republic \n",
       "                             1                              1 \n",
       "                       Denmark                       Djibouti \n",
       "                             1                              1 \n",
       "            Dominican Republic                        Ecuador \n",
       "                             1                              1 \n",
       "              Egypt, Arab Rep.                    El Salvador \n",
       "                             1                              1 \n",
       "             Equatorial Guinea                        Eritrea \n",
       "                             1                              1 \n",
       "                       Estonia                       Ethiopia \n",
       "                             1                              1 \n",
       "                          Fiji                        Finland \n",
       "                             1                              1 \n",
       "                        France               French Polynesia \n",
       "                             1                              1 \n",
       "                         Gabon                    Gambia, The \n",
       "                             1                              1 \n",
       "                       Georgia                        Germany \n",
       "                             1                              1 \n",
       "                         Ghana                         Greece \n",
       "                             1                              1 \n",
       "                     Greenland                        Grenada \n",
       "                             1                              1 \n",
       "                          Guam                      Guatemala \n",
       "                             1                              1 \n",
       "                        Guinea                  Guinea-Bissau \n",
       "                             1                              1 \n",
       "                        Guyana                          Haiti \n",
       "                             1                              1 \n",
       "                      Honduras           Hong Kong SAR, China \n",
       "                             1                              1 \n",
       "                       Hungary                        Iceland \n",
       "                             1                              1 \n",
       "                         India                      Indonesia \n",
       "                             1                              1 \n",
       "            Iran, Islamic Rep.                           Iraq \n",
       "                             1                              1 \n",
       "                       Ireland                         Israel \n",
       "                             1                              1 \n",
       "                         Italy                        Jamaica \n",
       "                             1                              1 \n",
       "                         Japan                         Jordan \n",
       "                             1                              1 \n",
       "                    Kazakhstan                          Kenya \n",
       "                             1                              1 \n",
       "                      Kiribati                    Korea, Rep. \n",
       "                             1                              1 \n",
       "                        Kuwait                Kyrgyz Republic \n",
       "                             1                              1 \n",
       "                       Lao PDR                         Latvia \n",
       "                             1                              1 \n",
       "                       Lebanon                        Lesotho \n",
       "                             1                              1 \n",
       "                       Liberia                          Libya \n",
       "                             1                              1 \n",
       "                 Liechtenstein                      Lithuania \n",
       "                             1                              1 \n",
       "                    Luxembourg               Macao SAR, China \n",
       "                             1                              1 \n",
       "                Macedonia, FYR                     Madagascar \n",
       "                             1                              1 \n",
       "                        Malawi                       Malaysia \n",
       "                             1                              1 \n",
       "                      Maldives                           Mali \n",
       "                             1                              1 \n",
       "                         Malta                     Mauritania \n",
       "                             1                              1 \n",
       "                     Mauritius                         Mexico \n",
       "                             1                              1 \n",
       "         Micronesia, Fed. Sts.                        Moldova \n",
       "                             1                              1 \n",
       "                      Mongolia                     Montenegro \n",
       "                             1                              1 \n",
       "                       Morocco                     Mozambique \n",
       "                             1                              1 \n",
       "                       Myanmar                        Namibia \n",
       "                             1                              1 \n",
       "                         Nepal                    Netherlands \n",
       "                             1                              1 \n",
       "                 New Caledonia                    New Zealand \n",
       "                             1                              1 \n",
       "                     Nicaragua                          Niger \n",
       "                             1                              1 \n",
       "                       Nigeria                         Norway \n",
       "                             1                              1 \n",
       "                          Oman                       Pakistan \n",
       "                             1                              1 \n",
       "                        Panama               Papua New Guinea \n",
       "                             1                              1 \n",
       "                      Paraguay                           Peru \n",
       "                             1                              1 \n",
       "                   Philippines                         Poland \n",
       "                             1                              1 \n",
       "                      Portugal                    Puerto Rico \n",
       "                             1                              1 \n",
       "                         Qatar                        Romania \n",
       "                             1                              1 \n",
       "            Russian Federation                         Rwanda \n",
       "                             1                              1 \n",
       "                         Samoa          Sao Tome and Principe \n",
       "                             1                              1 \n",
       "                  Saudi Arabia                        Senegal \n",
       "                             1                              1 \n",
       "                        Serbia                     Seychelles \n",
       "                             1                              1 \n",
       "                  Sierra Leone                      Singapore \n",
       "                             1                              1 \n",
       "               Slovak Republic                       Slovenia \n",
       "                             1                              1 \n",
       "               Solomon Islands                        Somalia \n",
       "                             1                              1 \n",
       "                  South Africa                    South Sudan \n",
       "                             1                              1 \n",
       "                         Spain                      Sri Lanka \n",
       "                             1                              1 \n",
       "                     St. Lucia St. Vincent and the Grenadines \n",
       "                             1                              1 \n",
       "                         Sudan                       Suriname \n",
       "                             1                              1 \n",
       "                     Swaziland                         Sweden \n",
       "                             1                              1 \n",
       "                   Switzerland           Syrian Arab Republic \n",
       "                             1                              1 \n",
       "                    Tajikistan                       Tanzania \n",
       "                             1                              1 \n",
       "                      Thailand                    Timor-Leste \n",
       "                             1                              1 \n",
       "                          Togo                          Tonga \n",
       "                             1                              1 \n",
       "           Trinidad and Tobago                        Tunisia \n",
       "                             1                              1 \n",
       "                        Turkey                   Turkmenistan \n",
       "                             1                              1 \n",
       "                        Uganda                        Ukraine \n",
       "                             1                              1 \n",
       "          United Arab Emirates                 United Kingdom \n",
       "                             1                              1 \n",
       "                 United States                        Uruguay \n",
       "                             1                              1 \n",
       "                    Uzbekistan                        Vanuatu \n",
       "                             1                              1 \n",
       "                 Venezuela, RB                        Vietnam \n",
       "                             1                              1 \n",
       "         Virgin Islands (U.S.)             West Bank and Gaza \n",
       "                             1                              1 \n",
       "                   Yemen, Rep.                         Zambia \n",
       "                             1                              1 \n",
       "                      Zimbabwe \n",
       "                             1 "
      ]
     },
     "metadata": {},
     "output_type": "display_data"
    }
   ],
   "source": [
    "#Distribution of unique values in a column\n",
    "table(data$Country.Name)"
   ]
  },
  {
   "cell_type": "code",
   "execution_count": 67,
   "metadata": {},
   "outputs": [
    {
     "data": {
      "text/html": [
       "<dl class=dl-horizontal>\n",
       "\t<dt>High income</dt>\n",
       "\t\t<dd>67</dd>\n",
       "\t<dt>Low income</dt>\n",
       "\t\t<dd>30</dd>\n",
       "\t<dt>Lower middle income</dt>\n",
       "\t\t<dd>50</dd>\n",
       "\t<dt>Upper middle income</dt>\n",
       "\t\t<dd>48</dd>\n",
       "</dl>\n"
      ],
      "text/latex": [
       "\\begin{description*}\n",
       "\\item[High income] 67\n",
       "\\item[Low income] 30\n",
       "\\item[Lower middle income] 50\n",
       "\\item[Upper middle income] 48\n",
       "\\end{description*}\n"
      ],
      "text/markdown": [
       "High income\n",
       ":   67Low income\n",
       ":   30Lower middle income\n",
       ":   50Upper middle income\n",
       ":   48\n",
       "\n"
      ],
      "text/plain": [
       "        High income          Low income Lower middle income Upper middle income \n",
       "                 67                  30                  50                  48 "
      ]
     },
     "metadata": {},
     "output_type": "display_data"
    }
   ],
   "source": [
    "#Summary of a varaible \n",
    "summary(data$Income.Group)\n"
   ]
  },
  {
   "cell_type": "code",
   "execution_count": 68,
   "metadata": {},
   "outputs": [
    {
     "data": {
      "text/html": [
       "25"
      ],
      "text/latex": [
       "25"
      ],
      "text/markdown": [
       "25"
      ],
      "text/plain": [
       "[1] 25"
      ]
     },
     "metadata": {},
     "output_type": "display_data"
    }
   ],
   "source": [
    "#squaring the number\n",
    "5^2"
   ]
  },
  {
   "cell_type": "code",
   "execution_count": 69,
   "metadata": {},
   "outputs": [
    {
     "data": {
      "text/html": [
       "1"
      ],
      "text/latex": [
       "1"
      ],
      "text/markdown": [
       "1"
      ],
      "text/plain": [
       "[1] 1"
      ]
     },
     "metadata": {},
     "output_type": "display_data"
    }
   ],
   "source": [
    "#Modulo\n",
    "7%%2"
   ]
  },
  {
   "cell_type": "code",
   "execution_count": 70,
   "metadata": {},
   "outputs": [
    {
     "data": {
      "text/html": [
       "42.0764708919487"
      ],
      "text/latex": [
       "42.0764708919487"
      ],
      "text/markdown": [
       "42.0764708919487"
      ],
      "text/plain": [
       "[1] 42.07647"
      ]
     },
     "metadata": {},
     "output_type": "display_data"
    }
   ],
   "source": [
    "#Mean\n",
    "mean(data$Internet.users)"
   ]
  },
  {
   "cell_type": "code",
   "execution_count": 71,
   "metadata": {},
   "outputs": [
    {
     "data": {
      "text/html": [
       "41"
      ],
      "text/latex": [
       "41"
      ],
      "text/markdown": [
       "41"
      ],
      "text/plain": [
       "[1] 41"
      ]
     },
     "metadata": {},
     "output_type": "display_data"
    }
   ],
   "source": [
    "#Median\n",
    "median(data$Internet.users)"
   ]
  },
  {
   "cell_type": "code",
   "execution_count": 72,
   "metadata": {},
   "outputs": [
    {
     "data": {
      "text/html": [
       "29.0307884248304"
      ],
      "text/latex": [
       "29.0307884248304"
      ],
      "text/markdown": [
       "29.0307884248304"
      ],
      "text/plain": [
       "[1] 29.03079"
      ]
     },
     "metadata": {},
     "output_type": "display_data"
    }
   ],
   "source": [
    "#Standard deviation\n",
    "sd(data$Internet.users)"
   ]
  },
  {
   "cell_type": "code",
   "execution_count": 73,
   "metadata": {},
   "outputs": [
    {
     "data": {
      "text/html": [
       "842.786676567266"
      ],
      "text/latex": [
       "842.786676567266"
      ],
      "text/markdown": [
       "842.786676567266"
      ],
      "text/plain": [
       "[1] 842.7867"
      ]
     },
     "metadata": {},
     "output_type": "display_data"
    }
   ],
   "source": [
    "#Variance of the column\n",
    "var(data$Internet.users)\n"
   ]
  },
  {
   "cell_type": "code",
   "execution_count": 74,
   "metadata": {},
   "outputs": [
    {
     "data": {
      "text/html": [
       "8204.91182393"
      ],
      "text/latex": [
       "8204.91182393"
      ],
      "text/markdown": [
       "8204.91182393"
      ],
      "text/plain": [
       "[1] 8204.912"
      ]
     },
     "metadata": {},
     "output_type": "display_data"
    }
   ],
   "source": [
    "#Add all the values of column\n",
    "sum(data$Internet.users)"
   ]
  },
  {
   "cell_type": "code",
   "execution_count": 76,
   "metadata": {
    "collapsed": true
   },
   "outputs": [],
   "source": [
    "# Writing a csv (output)\n",
    "write.csv(data, \"data_output_pract.csv\", row.names = F)"
   ]
  },
  {
   "cell_type": "code",
   "execution_count": null,
   "metadata": {
    "collapsed": true
   },
   "outputs": [],
   "source": [
    "    # Writing a xlsx file\n",
    "write.xlsx(data, \"data_excelwork.xlsx\", row.names = F)"
   ]
  },
  {
   "cell_type": "code",
   "execution_count": 80,
   "metadata": {
    "collapsed": true
   },
   "outputs": [],
   "source": [
    "df2=read.csv(\"data_output_pract.csv\")"
   ]
  },
  {
   "cell_type": "code",
   "execution_count": 81,
   "metadata": {},
   "outputs": [
    {
     "data": {
      "text/html": [
       "<table>\n",
       "<thead><tr><th scope=col>Country.Name</th><th scope=col>Country.Code</th><th scope=col>Birth.rate</th><th scope=col>Internet.users</th><th scope=col>Income.Group</th></tr></thead>\n",
       "<tbody>\n",
       "\t<tr><td>Aruba               </td><td>ABW                 </td><td>10.244              </td><td>78.9                </td><td>High income         </td></tr>\n",
       "\t<tr><td>Afghanistan         </td><td>AFG                 </td><td>35.253              </td><td> 5.9                </td><td>Low income          </td></tr>\n",
       "\t<tr><td>Angola              </td><td>AGO                 </td><td>45.985              </td><td>19.1                </td><td>Upper middle income </td></tr>\n",
       "\t<tr><td>Albania             </td><td>ALB                 </td><td>12.877              </td><td>57.2                </td><td>Upper middle income </td></tr>\n",
       "\t<tr><td>United Arab Emirates</td><td>ARE                 </td><td>11.044              </td><td>88.0                </td><td>High income         </td></tr>\n",
       "\t<tr><td>Argentina           </td><td>ARG                 </td><td>17.716              </td><td>59.9                </td><td>High income         </td></tr>\n",
       "</tbody>\n",
       "</table>\n"
      ],
      "text/latex": [
       "\\begin{tabular}{r|lllll}\n",
       " Country.Name & Country.Code & Birth.rate & Internet.users & Income.Group\\\\\n",
       "\\hline\n",
       "\t Aruba                & ABW                  & 10.244               & 78.9                 & High income         \\\\\n",
       "\t Afghanistan          & AFG                  & 35.253               &  5.9                 & Low income          \\\\\n",
       "\t Angola               & AGO                  & 45.985               & 19.1                 & Upper middle income \\\\\n",
       "\t Albania              & ALB                  & 12.877               & 57.2                 & Upper middle income \\\\\n",
       "\t United Arab Emirates & ARE                  & 11.044               & 88.0                 & High income         \\\\\n",
       "\t Argentina            & ARG                  & 17.716               & 59.9                 & High income         \\\\\n",
       "\\end{tabular}\n"
      ],
      "text/markdown": [
       "\n",
       "Country.Name | Country.Code | Birth.rate | Internet.users | Income.Group | \n",
       "|---|---|---|---|---|---|\n",
       "| Aruba                | ABW                  | 10.244               | 78.9                 | High income          | \n",
       "| Afghanistan          | AFG                  | 35.253               |  5.9                 | Low income           | \n",
       "| Angola               | AGO                  | 45.985               | 19.1                 | Upper middle income  | \n",
       "| Albania              | ALB                  | 12.877               | 57.2                 | Upper middle income  | \n",
       "| United Arab Emirates | ARE                  | 11.044               | 88.0                 | High income          | \n",
       "| Argentina            | ARG                  | 17.716               | 59.9                 | High income          | \n",
       "\n",
       "\n"
      ],
      "text/plain": [
       "  Country.Name         Country.Code Birth.rate Internet.users\n",
       "1 Aruba                ABW          10.244     78.9          \n",
       "2 Afghanistan          AFG          35.253      5.9          \n",
       "3 Angola               AGO          45.985     19.1          \n",
       "4 Albania              ALB          12.877     57.2          \n",
       "5 United Arab Emirates ARE          11.044     88.0          \n",
       "6 Argentina            ARG          17.716     59.9          \n",
       "  Income.Group       \n",
       "1 High income        \n",
       "2 Low income         \n",
       "3 Upper middle income\n",
       "4 Upper middle income\n",
       "5 High income        \n",
       "6 High income        "
      ]
     },
     "metadata": {},
     "output_type": "display_data"
    }
   ],
   "source": [
    "head(df2)"
   ]
  },
  {
   "cell_type": "code",
   "execution_count": null,
   "metadata": {
    "collapsed": true
   },
   "outputs": [],
   "source": []
  },
  {
   "cell_type": "code",
   "execution_count": 85,
   "metadata": {},
   "outputs": [
    {
     "data": {
      "text/html": [
       "<ol class=list-inline>\n",
       "\t<li>2</li>\n",
       "\t<li>3</li>\n",
       "\t<li>4</li>\n",
       "\t<li>6</li>\n",
       "</ol>\n"
      ],
      "text/latex": [
       "\\begin{enumerate*}\n",
       "\\item 2\n",
       "\\item 3\n",
       "\\item 4\n",
       "\\item 6\n",
       "\\end{enumerate*}\n"
      ],
      "text/markdown": [
       "1. 2\n",
       "2. 3\n",
       "3. 4\n",
       "4. 6\n",
       "\n",
       "\n"
      ],
      "text/plain": [
       "[1] 2 3 4 6"
      ]
     },
     "metadata": {},
     "output_type": "display_data"
    }
   ],
   "source": [
    "#Create vector\n",
    "vec_V1 = c(2,3,4,6)\n",
    "vec_V1"
   ]
  },
  {
   "cell_type": "code",
   "execution_count": 86,
   "metadata": {},
   "outputs": [
    {
     "data": {
      "text/html": [
       "<ol>\n",
       "\t<li>'India'</li>\n",
       "\t<li>5</li>\n",
       "\t<li>6</li>\n",
       "\t<li>7</li>\n",
       "</ol>\n"
      ],
      "text/latex": [
       "\\begin{enumerate}\n",
       "\\item 'India'\n",
       "\\item 5\n",
       "\\item 6\n",
       "\\item 7\n",
       "\\end{enumerate}\n"
      ],
      "text/markdown": [
       "1. 'India'\n",
       "2. 5\n",
       "3. 6\n",
       "4. 7\n",
       "\n",
       "\n"
      ],
      "text/plain": [
       "[[1]]\n",
       "[1] \"India\"\n",
       "\n",
       "[[2]]\n",
       "[1] 5\n",
       "\n",
       "[[3]]\n",
       "[1] 6\n",
       "\n",
       "[[4]]\n",
       "[1] 7\n"
      ]
     },
     "metadata": {},
     "output_type": "display_data"
    }
   ],
   "source": [
    "#Create list\n",
    "lis = list(\"India\",5,6,7)\n",
    "lis"
   ]
  },
  {
   "cell_type": "code",
   "execution_count": 88,
   "metadata": {
    "collapsed": true
   },
   "outputs": [],
   "source": [
    "# Create a matrix\n",
    "sample_matrix = matrix(1:9, byrow = T, nrow = 3) # This inserts elements by rows"
   ]
  },
  {
   "cell_type": "code",
   "execution_count": 89,
   "metadata": {},
   "outputs": [
    {
     "data": {
      "text/html": [
       "<table>\n",
       "<tbody>\n",
       "\t<tr><td>1</td><td>2</td><td>3</td></tr>\n",
       "\t<tr><td>4</td><td>5</td><td>6</td></tr>\n",
       "\t<tr><td>7</td><td>8</td><td>9</td></tr>\n",
       "</tbody>\n",
       "</table>\n"
      ],
      "text/latex": [
       "\\begin{tabular}{lll}\n",
       "\t 1 & 2 & 3\\\\\n",
       "\t 4 & 5 & 6\\\\\n",
       "\t 7 & 8 & 9\\\\\n",
       "\\end{tabular}\n"
      ],
      "text/markdown": [
       "\n",
       "| 1 | 2 | 3 | \n",
       "| 4 | 5 | 6 | \n",
       "| 7 | 8 | 9 | \n",
       "\n",
       "\n"
      ],
      "text/plain": [
       "     [,1] [,2] [,3]\n",
       "[1,] 1    2    3   \n",
       "[2,] 4    5    6   \n",
       "[3,] 7    8    9   "
      ]
     },
     "metadata": {},
     "output_type": "display_data"
    }
   ],
   "source": [
    "sample_matrix"
   ]
  },
  {
   "cell_type": "code",
   "execution_count": 90,
   "metadata": {},
   "outputs": [
    {
     "name": "stderr",
     "output_type": "stream",
     "text": [
      "Warning message in matrix(1:10, byrow = F, ncol = 3):\n",
      "“data length [10] is not a sub-multiple or multiple of the number of rows [4]”"
     ]
    },
    {
     "data": {
      "text/html": [
       "<table>\n",
       "<tbody>\n",
       "\t<tr><td>1 </td><td>5 </td><td> 9</td></tr>\n",
       "\t<tr><td>2 </td><td>6 </td><td>10</td></tr>\n",
       "\t<tr><td>3 </td><td>7 </td><td> 1</td></tr>\n",
       "\t<tr><td>4 </td><td>8 </td><td> 2</td></tr>\n",
       "</tbody>\n",
       "</table>\n"
      ],
      "text/latex": [
       "\\begin{tabular}{lll}\n",
       "\t 1  & 5  &  9\\\\\n",
       "\t 2  & 6  & 10\\\\\n",
       "\t 3  & 7  &  1\\\\\n",
       "\t 4  & 8  &  2\\\\\n",
       "\\end{tabular}\n"
      ],
      "text/markdown": [
       "\n",
       "| 1  | 5  |  9 | \n",
       "| 2  | 6  | 10 | \n",
       "| 3  | 7  |  1 | \n",
       "| 4  | 8  |  2 | \n",
       "\n",
       "\n"
      ],
      "text/plain": [
       "     [,1] [,2] [,3]\n",
       "[1,] 1    5     9  \n",
       "[2,] 2    6    10  \n",
       "[3,] 3    7     1  \n",
       "[4,] 4    8     2  "
      ]
     },
     "metadata": {},
     "output_type": "display_data"
    }
   ],
   "source": [
    "matrix(1:10, byrow = F, ncol = 3) # This inserts elements by columns # data Recyling "
   ]
  },
  {
   "cell_type": "code",
   "execution_count": 91,
   "metadata": {},
   "outputs": [
    {
     "data": {
      "text/html": [
       "<table>\n",
       "<thead><tr><th scope=col>One</th><th scope=col>Two</th><th scope=col>Three</th></tr></thead>\n",
       "<tbody>\n",
       "\t<tr><td>1</td><td>2</td><td>3</td></tr>\n",
       "\t<tr><td>4</td><td>5</td><td>6</td></tr>\n",
       "\t<tr><td>7</td><td>8</td><td>9</td></tr>\n",
       "</tbody>\n",
       "</table>\n"
      ],
      "text/latex": [
       "\\begin{tabular}{lll}\n",
       " One & Two & Three\\\\\n",
       "\\hline\n",
       "\t 1 & 2 & 3\\\\\n",
       "\t 4 & 5 & 6\\\\\n",
       "\t 7 & 8 & 9\\\\\n",
       "\\end{tabular}\n"
      ],
      "text/markdown": [
       "\n",
       "One | Two | Three | \n",
       "|---|---|---|\n",
       "| 1 | 2 | 3 | \n",
       "| 4 | 5 | 6 | \n",
       "| 7 | 8 | 9 | \n",
       "\n",
       "\n"
      ],
      "text/plain": [
       "     One Two Three\n",
       "[1,] 1   2   3    \n",
       "[2,] 4   5   6    \n",
       "[3,] 7   8   9    "
      ]
     },
     "metadata": {},
     "output_type": "display_data"
    }
   ],
   "source": [
    "# Naming a matrix\n",
    "colnames(sample_matrix) = c(\"One\",\"Two\",\"Three\")\n",
    "sample_matrix"
   ]
  },
  {
   "cell_type": "code",
   "execution_count": 94,
   "metadata": {},
   "outputs": [
    {
     "data": {
      "text/html": [
       "<table>\n",
       "<thead><tr><th></th><th scope=col>One</th><th scope=col>Two</th><th scope=col>Three</th></tr></thead>\n",
       "<tbody>\n",
       "\t<tr><th scope=row>X</th><td>1</td><td>2</td><td>3</td></tr>\n",
       "\t<tr><th scope=row>Y</th><td>4</td><td>5</td><td>6</td></tr>\n",
       "\t<tr><th scope=row>Z</th><td>7</td><td>8</td><td>9</td></tr>\n",
       "</tbody>\n",
       "</table>\n"
      ],
      "text/latex": [
       "\\begin{tabular}{r|lll}\n",
       "  & One & Two & Three\\\\\n",
       "\\hline\n",
       "\tX & 1 & 2 & 3\\\\\n",
       "\tY & 4 & 5 & 6\\\\\n",
       "\tZ & 7 & 8 & 9\\\\\n",
       "\\end{tabular}\n"
      ],
      "text/markdown": [
       "\n",
       "| <!--/--> | One | Two | Three | \n",
       "|---|---|---|\n",
       "| X | 1 | 2 | 3 | \n",
       "| Y | 4 | 5 | 6 | \n",
       "| Z | 7 | 8 | 9 | \n",
       "\n",
       "\n"
      ],
      "text/plain": [
       "  One Two Three\n",
       "X 1   2   3    \n",
       "Y 4   5   6    \n",
       "Z 7   8   9    "
      ]
     },
     "metadata": {},
     "output_type": "display_data"
    }
   ],
   "source": [
    "rownames(sample_matrix)<-c(\"X\",'Y','Z')\n",
    "sample_matrix"
   ]
  },
  {
   "cell_type": "code",
   "execution_count": 95,
   "metadata": {},
   "outputs": [
    {
     "data": {
      "text/html": [
       "<table>\n",
       "<thead><tr><th></th><th scope=col>X</th><th scope=col>Y</th><th scope=col>Z</th></tr></thead>\n",
       "<tbody>\n",
       "\t<tr><th scope=row>One</th><td>1</td><td>4</td><td>7</td></tr>\n",
       "\t<tr><th scope=row>Two</th><td>2</td><td>5</td><td>8</td></tr>\n",
       "\t<tr><th scope=row>Three</th><td>3</td><td>6</td><td>9</td></tr>\n",
       "</tbody>\n",
       "</table>\n"
      ],
      "text/latex": [
       "\\begin{tabular}{r|lll}\n",
       "  & X & Y & Z\\\\\n",
       "\\hline\n",
       "\tOne & 1 & 4 & 7\\\\\n",
       "\tTwo & 2 & 5 & 8\\\\\n",
       "\tThree & 3 & 6 & 9\\\\\n",
       "\\end{tabular}\n"
      ],
      "text/markdown": [
       "\n",
       "| <!--/--> | X | Y | Z | \n",
       "|---|---|---|\n",
       "| One | 1 | 4 | 7 | \n",
       "| Two | 2 | 5 | 8 | \n",
       "| Three | 3 | 6 | 9 | \n",
       "\n",
       "\n"
      ],
      "text/plain": [
       "      X Y Z\n",
       "One   1 4 7\n",
       "Two   2 5 8\n",
       "Three 3 6 9"
      ]
     },
     "metadata": {},
     "output_type": "display_data"
    }
   ],
   "source": [
    "#transpose matrix\n",
    "t(sample_matrix)\n"
   ]
  },
  {
   "cell_type": "code",
   "execution_count": 96,
   "metadata": {
    "collapsed": true
   },
   "outputs": [],
   "source": [
    "#Let us learn how to create data frame\n",
    "df = data.frame(age = c(2, 3, 4, 5), Gender = c(\"M\", \"F\", \"F\", \"M\"), Income = c(5,6,7,3))\n"
   ]
  },
  {
   "cell_type": "code",
   "execution_count": 38,
   "metadata": {},
   "outputs": [
    {
     "data": {
      "text/html": [
       "<table>\n",
       "<thead><tr><th scope=col>age</th><th scope=col>Gender</th><th scope=col>Income</th></tr></thead>\n",
       "<tbody>\n",
       "\t<tr><td>2</td><td>M</td><td>5</td></tr>\n",
       "\t<tr><td>3</td><td>F</td><td>6</td></tr>\n",
       "\t<tr><td>4</td><td>F</td><td>7</td></tr>\n",
       "\t<tr><td>5</td><td>M</td><td>3</td></tr>\n",
       "</tbody>\n",
       "</table>\n"
      ],
      "text/latex": [
       "\\begin{tabular}{r|lll}\n",
       " age & Gender & Income\\\\\n",
       "\\hline\n",
       "\t 2 & M & 5\\\\\n",
       "\t 3 & F & 6\\\\\n",
       "\t 4 & F & 7\\\\\n",
       "\t 5 & M & 3\\\\\n",
       "\\end{tabular}\n"
      ],
      "text/markdown": [
       "\n",
       "age | Gender | Income | \n",
       "|---|---|---|---|\n",
       "| 2 | M | 5 | \n",
       "| 3 | F | 6 | \n",
       "| 4 | F | 7 | \n",
       "| 5 | M | 3 | \n",
       "\n",
       "\n"
      ],
      "text/plain": [
       "  age Gender Income\n",
       "1 2   M      5     \n",
       "2 3   F      6     \n",
       "3 4   F      7     \n",
       "4 5   M      3     "
      ]
     },
     "metadata": {},
     "output_type": "display_data"
    }
   ],
   "source": [
    "head(df)"
   ]
  },
  {
   "cell_type": "code",
   "execution_count": 99,
   "metadata": {},
   "outputs": [
    {
     "data": {
      "text/html": [
       "<table>\n",
       "<thead><tr><th scope=col>age</th><th scope=col>Gen</th><th scope=col>Income</th></tr></thead>\n",
       "<tbody>\n",
       "\t<tr><td>2</td><td>M</td><td>5</td></tr>\n",
       "\t<tr><td>3</td><td>F</td><td>6</td></tr>\n",
       "\t<tr><td>4</td><td>F</td><td>7</td></tr>\n",
       "\t<tr><td>5</td><td>M</td><td>3</td></tr>\n",
       "</tbody>\n",
       "</table>\n"
      ],
      "text/latex": [
       "\\begin{tabular}{r|lll}\n",
       " age & Gen & Income\\\\\n",
       "\\hline\n",
       "\t 2 & M & 5\\\\\n",
       "\t 3 & F & 6\\\\\n",
       "\t 4 & F & 7\\\\\n",
       "\t 5 & M & 3\\\\\n",
       "\\end{tabular}\n"
      ],
      "text/markdown": [
       "\n",
       "age | Gen | Income | \n",
       "|---|---|---|---|\n",
       "| 2 | M | 5 | \n",
       "| 3 | F | 6 | \n",
       "| 4 | F | 7 | \n",
       "| 5 | M | 3 | \n",
       "\n",
       "\n"
      ],
      "text/plain": [
       "  age Gen Income\n",
       "1 2   M   5     \n",
       "2 3   F   6     \n",
       "3 4   F   7     \n",
       "4 5   M   3     "
      ]
     },
     "metadata": {},
     "output_type": "display_data"
    }
   ],
   "source": [
    "#Rename variable\n",
    "names(df)[2]=\"Gen\"\n",
    "head(df)"
   ]
  },
  {
   "cell_type": "code",
   "execution_count": 102,
   "metadata": {},
   "outputs": [
    {
     "data": {
      "text/html": [
       "<ol class=list-inline>\n",
       "\t<li>2</li>\n",
       "\t<li>3</li>\n",
       "\t<li>4</li>\n",
       "\t<li>6</li>\n",
       "</ol>\n"
      ],
      "text/latex": [
       "\\begin{enumerate*}\n",
       "\\item 2\n",
       "\\item 3\n",
       "\\item 4\n",
       "\\item 6\n",
       "\\end{enumerate*}\n"
      ],
      "text/markdown": [
       "1. 2\n",
       "2. 3\n",
       "3. 4\n",
       "4. 6\n",
       "\n",
       "\n"
      ],
      "text/plain": [
       "[1] 2 3 4 6"
      ]
     },
     "metadata": {},
     "output_type": "display_data"
    }
   ],
   "source": [
    "#convert vector into dataframes\n",
    "vec_V1\n",
    "#Method Number 1\n",
    "df_vec_1=data.frame(vec_V1)\n"
   ]
  },
  {
   "cell_type": "code",
   "execution_count": 103,
   "metadata": {},
   "outputs": [
    {
     "data": {
      "text/html": [
       "TRUE"
      ],
      "text/latex": [
       "TRUE"
      ],
      "text/markdown": [
       "TRUE"
      ],
      "text/plain": [
       "[1] TRUE"
      ]
     },
     "metadata": {},
     "output_type": "display_data"
    }
   ],
   "source": [
    "is.data.frame(df_vec_1)"
   ]
  },
  {
   "cell_type": "code",
   "execution_count": 104,
   "metadata": {
    "collapsed": true
   },
   "outputs": [],
   "source": [
    "# Method Number 2\n",
    "df_vec_2=as.data.frame(vec_V1)"
   ]
  },
  {
   "cell_type": "code",
   "execution_count": 105,
   "metadata": {},
   "outputs": [
    {
     "data": {
      "text/html": [
       "TRUE"
      ],
      "text/latex": [
       "TRUE"
      ],
      "text/markdown": [
       "TRUE"
      ],
      "text/plain": [
       "[1] TRUE"
      ]
     },
     "metadata": {},
     "output_type": "display_data"
    }
   ],
   "source": [
    "is.data.frame(df_vec_2)"
   ]
  },
  {
   "cell_type": "code",
   "execution_count": 107,
   "metadata": {},
   "outputs": [
    {
     "data": {
      "text/html": [
       "<table>\n",
       "<thead><tr><th scope=col>Country.Name</th><th scope=col>Country.Code</th><th scope=col>Birth.rate</th><th scope=col>Internet.users</th><th scope=col>Income.Group</th></tr></thead>\n",
       "<tbody>\n",
       "\t<tr><td>Aruba      </td><td>ABW        </td><td>10.244     </td><td>78.9       </td><td>High income</td></tr>\n",
       "\t<tr><td>Afghanistan</td><td>AFG        </td><td>35.253     </td><td> 5.9       </td><td>Low income </td></tr>\n",
       "</tbody>\n",
       "</table>\n"
      ],
      "text/latex": [
       "\\begin{tabular}{r|lllll}\n",
       " Country.Name & Country.Code & Birth.rate & Internet.users & Income.Group\\\\\n",
       "\\hline\n",
       "\t Aruba       & ABW         & 10.244      & 78.9        & High income\\\\\n",
       "\t Afghanistan & AFG         & 35.253      &  5.9        & Low income \\\\\n",
       "\\end{tabular}\n"
      ],
      "text/markdown": [
       "\n",
       "Country.Name | Country.Code | Birth.rate | Internet.users | Income.Group | \n",
       "|---|---|\n",
       "| Aruba       | ABW         | 10.244      | 78.9        | High income | \n",
       "| Afghanistan | AFG         | 35.253      |  5.9        | Low income  | \n",
       "\n",
       "\n"
      ],
      "text/plain": [
       "  Country.Name Country.Code Birth.rate Internet.users Income.Group\n",
       "1 Aruba        ABW          10.244     78.9           High income \n",
       "2 Afghanistan  AFG          35.253      5.9           Low income  "
      ]
     },
     "metadata": {},
     "output_type": "display_data"
    }
   ],
   "source": [
    "head(data,n=2)"
   ]
  },
  {
   "cell_type": "code",
   "execution_count": 108,
   "metadata": {
    "collapsed": true
   },
   "outputs": [],
   "source": [
    "NewData_V1 = subset(data, select = c(\"Country.Name\",\"Country.Code\",\"Birth.rate\",\"Income.Group\"))"
   ]
  },
  {
   "cell_type": "code",
   "execution_count": 109,
   "metadata": {},
   "outputs": [
    {
     "data": {
      "text/html": [
       "<table>\n",
       "<thead><tr><th scope=col>Country.Name</th><th scope=col>Country.Code</th><th scope=col>Birth.rate</th><th scope=col>Income.Group</th></tr></thead>\n",
       "<tbody>\n",
       "\t<tr><td>Aruba               </td><td>ABW                 </td><td>10.244              </td><td>High income         </td></tr>\n",
       "\t<tr><td>Afghanistan         </td><td>AFG                 </td><td>35.253              </td><td>Low income          </td></tr>\n",
       "\t<tr><td>Angola              </td><td>AGO                 </td><td>45.985              </td><td>Upper middle income </td></tr>\n",
       "\t<tr><td>Albania             </td><td>ALB                 </td><td>12.877              </td><td>Upper middle income </td></tr>\n",
       "\t<tr><td>United Arab Emirates</td><td>ARE                 </td><td>11.044              </td><td>High income         </td></tr>\n",
       "\t<tr><td>Argentina           </td><td>ARG                 </td><td>17.716              </td><td>High income         </td></tr>\n",
       "</tbody>\n",
       "</table>\n"
      ],
      "text/latex": [
       "\\begin{tabular}{r|llll}\n",
       " Country.Name & Country.Code & Birth.rate & Income.Group\\\\\n",
       "\\hline\n",
       "\t Aruba                & ABW                  & 10.244               & High income         \\\\\n",
       "\t Afghanistan          & AFG                  & 35.253               & Low income          \\\\\n",
       "\t Angola               & AGO                  & 45.985               & Upper middle income \\\\\n",
       "\t Albania              & ALB                  & 12.877               & Upper middle income \\\\\n",
       "\t United Arab Emirates & ARE                  & 11.044               & High income         \\\\\n",
       "\t Argentina            & ARG                  & 17.716               & High income         \\\\\n",
       "\\end{tabular}\n"
      ],
      "text/markdown": [
       "\n",
       "Country.Name | Country.Code | Birth.rate | Income.Group | \n",
       "|---|---|---|---|---|---|\n",
       "| Aruba                | ABW                  | 10.244               | High income          | \n",
       "| Afghanistan          | AFG                  | 35.253               | Low income           | \n",
       "| Angola               | AGO                  | 45.985               | Upper middle income  | \n",
       "| Albania              | ALB                  | 12.877               | Upper middle income  | \n",
       "| United Arab Emirates | ARE                  | 11.044               | High income          | \n",
       "| Argentina            | ARG                  | 17.716               | High income          | \n",
       "\n",
       "\n"
      ],
      "text/plain": [
       "  Country.Name         Country.Code Birth.rate Income.Group       \n",
       "1 Aruba                ABW          10.244     High income        \n",
       "2 Afghanistan          AFG          35.253     Low income         \n",
       "3 Angola               AGO          45.985     Upper middle income\n",
       "4 Albania              ALB          12.877     Upper middle income\n",
       "5 United Arab Emirates ARE          11.044     High income        \n",
       "6 Argentina            ARG          17.716     High income        "
      ]
     },
     "metadata": {},
     "output_type": "display_data"
    }
   ],
   "source": [
    "head(NewData_V1)"
   ]
  },
  {
   "cell_type": "code",
   "execution_count": 114,
   "metadata": {
    "collapsed": true
   },
   "outputs": [],
   "source": [
    "#selecting the rows with condition\n",
    "data_rowLevel = data[which(data$Income.Group ==\"High income\"),]\n",
    "Birth.rate"
   ]
  },
  {
   "cell_type": "code",
   "execution_count": 120,
   "metadata": {},
   "outputs": [
    {
     "data": {
      "text/html": [
       "<table>\n",
       "<thead><tr><th></th><th scope=col>Country.Name</th><th scope=col>Country.Code</th><th scope=col>Birth.rate</th><th scope=col>Internet.users</th><th scope=col>Income.Group</th></tr></thead>\n",
       "<tbody>\n",
       "\t<tr><th scope=row>3</th><td>Angola             </td><td>AGO                </td><td>45.985             </td><td>19.1               </td><td>Upper middle income</td></tr>\n",
       "\t<tr><th scope=row>12</th><td>Burundi            </td><td>BDI                </td><td>44.151             </td><td> 1.3               </td><td>Low income         </td></tr>\n",
       "\t<tr><th scope=row>15</th><td>Burkina Faso       </td><td>BFA                </td><td>40.551             </td><td> 9.1               </td><td>Low income         </td></tr>\n",
       "\t<tr><th scope=row>66</th><td>Gambia, The        </td><td>GMB                </td><td>42.525             </td><td>14.0               </td><td>Low income         </td></tr>\n",
       "\t<tr><th scope=row>116</th><td>Mali               </td><td>MLI                </td><td>44.138             </td><td> 3.5               </td><td>Low income         </td></tr>\n",
       "\t<tr><th scope=row>128</th><td>Niger              </td><td>NER                </td><td>49.661             </td><td> 1.7               </td><td>Low income         </td></tr>\n",
       "</tbody>\n",
       "</table>\n"
      ],
      "text/latex": [
       "\\begin{tabular}{r|lllll}\n",
       "  & Country.Name & Country.Code & Birth.rate & Internet.users & Income.Group\\\\\n",
       "\\hline\n",
       "\t3 & Angola              & AGO                 & 45.985              & 19.1                & Upper middle income\\\\\n",
       "\t12 & Burundi             & BDI                 & 44.151              &  1.3                & Low income         \\\\\n",
       "\t15 & Burkina Faso        & BFA                 & 40.551              &  9.1                & Low income         \\\\\n",
       "\t66 & Gambia, The         & GMB                 & 42.525              & 14.0                & Low income         \\\\\n",
       "\t116 & Mali                & MLI                 & 44.138              &  3.5                & Low income         \\\\\n",
       "\t128 & Niger               & NER                 & 49.661              &  1.7                & Low income         \\\\\n",
       "\\end{tabular}\n"
      ],
      "text/markdown": [
       "\n",
       "| <!--/--> | Country.Name | Country.Code | Birth.rate | Internet.users | Income.Group | \n",
       "|---|---|---|---|---|---|\n",
       "| 3 | Angola              | AGO                 | 45.985              | 19.1                | Upper middle income | \n",
       "| 12 | Burundi             | BDI                 | 44.151              |  1.3                | Low income          | \n",
       "| 15 | Burkina Faso        | BFA                 | 40.551              |  9.1                | Low income          | \n",
       "| 66 | Gambia, The         | GMB                 | 42.525              | 14.0                | Low income          | \n",
       "| 116 | Mali                | MLI                 | 44.138              |  3.5                | Low income          | \n",
       "| 128 | Niger               | NER                 | 49.661              |  1.7                | Low income          | \n",
       "\n",
       "\n"
      ],
      "text/plain": [
       "    Country.Name Country.Code Birth.rate Internet.users Income.Group       \n",
       "3   Angola       AGO          45.985     19.1           Upper middle income\n",
       "12  Burundi      BDI          44.151      1.3           Low income         \n",
       "15  Burkina Faso BFA          40.551      9.1           Low income         \n",
       "66  Gambia, The  GMB          42.525     14.0           Low income         \n",
       "116 Mali         MLI          44.138      3.5           Low income         \n",
       "128 Niger        NER          49.661      1.7           Low income         "
      ]
     },
     "metadata": {},
     "output_type": "display_data"
    }
   ],
   "source": [
    "# Selecting the colname with the condition \n",
    "#data_colLevel=data[data$Birth.rate > 40,]\n",
    "head(data_colLevel)"
   ]
  },
  {
   "cell_type": "code",
   "execution_count": 121,
   "metadata": {},
   "outputs": [
    {
     "data": {
      "text/html": [
       "<table>\n",
       "<thead><tr><th></th><th scope=col>Country.Name</th><th scope=col>Country.Code</th><th scope=col>Birth.rate</th><th scope=col>Internet.users</th><th scope=col>Income.Group</th></tr></thead>\n",
       "<tbody>\n",
       "\t<tr><th scope=row>1</th><td>Aruba               </td><td>ABW                 </td><td>10.244              </td><td>78.9000             </td><td>High income         </td></tr>\n",
       "\t<tr><th scope=row>5</th><td>United Arab Emirates</td><td>ARE                 </td><td>11.044              </td><td>88.0000             </td><td>High income         </td></tr>\n",
       "\t<tr><th scope=row>6</th><td>Argentina           </td><td>ARG                 </td><td>17.716              </td><td>59.9000             </td><td>High income         </td></tr>\n",
       "\t<tr><th scope=row>8</th><td>Antigua and Barbuda </td><td>ATG                 </td><td>16.447              </td><td>63.4000             </td><td>High income         </td></tr>\n",
       "\t<tr><th scope=row>9</th><td>Australia           </td><td>AUS                 </td><td>13.200              </td><td>83.0000             </td><td>High income         </td></tr>\n",
       "\t<tr><th scope=row>10</th><td>Austria             </td><td>AUT                 </td><td> 9.400              </td><td>80.6188             </td><td>High income         </td></tr>\n",
       "</tbody>\n",
       "</table>\n"
      ],
      "text/latex": [
       "\\begin{tabular}{r|lllll}\n",
       "  & Country.Name & Country.Code & Birth.rate & Internet.users & Income.Group\\\\\n",
       "\\hline\n",
       "\t1 & Aruba                & ABW                  & 10.244               & 78.9000              & High income         \\\\\n",
       "\t5 & United Arab Emirates & ARE                  & 11.044               & 88.0000              & High income         \\\\\n",
       "\t6 & Argentina            & ARG                  & 17.716               & 59.9000              & High income         \\\\\n",
       "\t8 & Antigua and Barbuda  & ATG                  & 16.447               & 63.4000              & High income         \\\\\n",
       "\t9 & Australia            & AUS                  & 13.200               & 83.0000              & High income         \\\\\n",
       "\t10 & Austria              & AUT                  &  9.400               & 80.6188              & High income         \\\\\n",
       "\\end{tabular}\n"
      ],
      "text/markdown": [
       "\n",
       "| <!--/--> | Country.Name | Country.Code | Birth.rate | Internet.users | Income.Group | \n",
       "|---|---|---|---|---|---|\n",
       "| 1 | Aruba                | ABW                  | 10.244               | 78.9000              | High income          | \n",
       "| 5 | United Arab Emirates | ARE                  | 11.044               | 88.0000              | High income          | \n",
       "| 6 | Argentina            | ARG                  | 17.716               | 59.9000              | High income          | \n",
       "| 8 | Antigua and Barbuda  | ATG                  | 16.447               | 63.4000              | High income          | \n",
       "| 9 | Australia            | AUS                  | 13.200               | 83.0000              | High income          | \n",
       "| 10 | Austria              | AUT                  |  9.400               | 80.6188              | High income          | \n",
       "\n",
       "\n"
      ],
      "text/plain": [
       "   Country.Name         Country.Code Birth.rate Internet.users Income.Group\n",
       "1  Aruba                ABW          10.244     78.9000        High income \n",
       "5  United Arab Emirates ARE          11.044     88.0000        High income \n",
       "6  Argentina            ARG          17.716     59.9000        High income \n",
       "8  Antigua and Barbuda  ATG          16.447     63.4000        High income \n",
       "9  Australia            AUS          13.200     83.0000        High income \n",
       "10 Austria              AUT           9.400     80.6188        High income "
      ]
     },
     "metadata": {},
     "output_type": "display_data"
    }
   ],
   "source": [
    "head(data_rowLevel)"
   ]
  },
  {
   "cell_type": "code",
   "execution_count": 125,
   "metadata": {
    "collapsed": true
   },
   "outputs": [],
   "source": [
    "#convert each varaible\n",
    "#data$cyl = as.factor(data$cyl)\n",
    "#data$vs = as.factor(data$vs)"
   ]
  },
  {
   "cell_type": "code",
   "execution_count": null,
   "metadata": {
    "collapsed": true
   },
   "outputs": [],
   "source": [
    "#Convert n number of variables at a time\n",
    "for(i in c(2,8:11)){\n",
    "  data[,i] = as.factor(data[,i])\n",
    "}"
   ]
  },
  {
   "cell_type": "code",
   "execution_count": null,
   "metadata": {
    "collapsed": true
   },
   "outputs": [],
   "source": [
    "#Convert numeric to categorical/binning\n",
    "data$mpgcat[data$mpg >= 10 & data$mpg <= 16] = \"Low\"\n",
    "data$mpgcat[data$mpg > 16 & data$mpg <= 20] = \"Medium\"\n",
    "data$mpgcat[data$mpg > 20] = \"High\""
   ]
  },
  {
   "cell_type": "code",
   "execution_count": null,
   "metadata": {
    "collapsed": true
   },
   "outputs": [],
   "source": [
    "#Convert categorical into numeric\n",
    "voice = c(rep(\"Meduim\", 30), rep(\"Poor\", 30), rep(\"Rich\", 40))\n",
    "voice_factor = factor(voice, labels = (1:length(levels(factor(voice)))))\n",
    "voice_numeric = as.numeric(voice_factor)\n"
   ]
  },
  {
   "cell_type": "code",
   "execution_count": null,
   "metadata": {
    "collapsed": true
   },
   "outputs": [],
   "source": [
    "#Sorting in ascending order\n",
    "data = data[order(-data$cyl),]"
   ]
  },
  {
   "cell_type": "code",
   "execution_count": null,
   "metadata": {
    "collapsed": true
   },
   "outputs": [],
   "source": [
    "\n",
    "#Sorting in descending order\n",
    "data = data[order(-data$mpg, -data$gear),]"
   ]
  },
  {
   "cell_type": "code",
   "execution_count": null,
   "metadata": {
    "collapsed": true
   },
   "outputs": [],
   "source": [
    "\n",
    "#Merging Two dataframes\n",
    "df1 = data.frame(CustomerId = c(1:6), Product = c(rep(\"Toaster\", 3), rep(\"Radio\", 3)))\n",
    "df2 = data.frame(CustomerId = c(2, 4, 6), State = c(rep(\"Alabama\", 2), rep(\"Ohio\", 1)))\n",
    "MergedData = merge(df1, df2, by = \"CustomerId\")"
   ]
  },
  {
   "cell_type": "code",
   "execution_count": 1,
   "metadata": {},
   "outputs": [
    {
     "ename": "ERROR",
     "evalue": "Error in merge(df1, df2, by = \"CustomerId\", all.x = TRUE): object 'df1' not found\n",
     "execution_count": 1,
     "output_type": "error",
     "traceback": [
      "Error in merge(df1, df2, by = \"CustomerId\", all.x = TRUE): object 'df1' not found\nTraceback:\n",
      "1. merge(df1, df2, by = \"CustomerId\", all.x = TRUE)"
     ]
    }
   ],
   "source": [
    "\n",
    "#Joins\n",
    "LeftJoin = merge(df1, df2, by = \"CustomerId\", all.x = TRUE) #vlookup\n",
    "RightJoin = merge(df1, df2, by = \"CustomerId\", all.y = TRUE)\n",
    "CrossJoin = merge(df1, df2, by = NULL)\n"
   ]
  },
  {
   "cell_type": "code",
   "execution_count": null,
   "metadata": {
    "collapsed": true
   },
   "outputs": [],
   "source": [
    "#Aggregating\n",
    "data = mtcars\n",
    "aggregate(data, by = list(data$gear), mean)\n",
    "\n",
    "aggregate(data, by = list(data$cyl, data$vs), mean)\n",
    "aggregate(data, by = list(data$cyl), sd)"
   ]
  },
  {
   "cell_type": "code",
   "execution_count": null,
   "metadata": {
    "collapsed": true
   },
   "outputs": [],
   "source": [
    "#Gives the observation which have cyl value 6\n",
    "grep(6, data$cyl)\n",
    "grep(14.3, data$mpg)"
   ]
  },
  {
   "cell_type": "code",
   "execution_count": null,
   "metadata": {
    "collapsed": true
   },
   "outputs": [],
   "source": [
    "#Repalcing one/multiple characters by other\n",
    "text=\"I/work/in/India\"\n",
    "\n",
    "gsub(\"/\", \"#\", text)"
   ]
  },
  {
   "cell_type": "code",
   "execution_count": null,
   "metadata": {
    "collapsed": true
   },
   "outputs": [],
   "source": [
    "x = c(\"This is a sentence about axis\",\n",
    "       \"A second pattern is also listed here\")\n",
    "\n",
    "sub(\"is\", \"XY\", x) #only first occurence\n",
    "gsub(\"is\", \"XY\", x) #All occurence"
   ]
  },
  {
   "cell_type": "code",
   "execution_count": null,
   "metadata": {
    "collapsed": true
   },
   "outputs": [],
   "source": [
    "#remove column by its name\n",
    "data$mpg = NULL"
   ]
  },
  {
   "cell_type": "code",
   "execution_count": 2,
   "metadata": {
    "collapsed": true
   },
   "outputs": [],
   "source": [
    "#convert row.names into a column\n",
    "data = cbind(rownames(data), data)\n",
    "rownames(data) = NULL\n",
    "colnames(data)[1] = \"CarNames\""
   ]
  },
  {
   "cell_type": "code",
   "execution_count": null,
   "metadata": {
    "collapsed": true
   },
   "outputs": [],
   "source": [
    "write.csv(data, \"data_transform.csv\", row.names = F)"
   ]
  },
  {
   "cell_type": "code",
   "execution_count": null,
   "metadata": {
    "collapsed": true
   },
   "outputs": [],
   "source": [
    "###loops\n",
    "# Lets define vector\n",
    "Player1 = c(16, 9, 13, 5, 2, 17, 14)\n",
    "for (i in Player1) {\n",
    "  print(i)\n",
    "  print(i+2)\n",
    "}\n"
   ]
  },
  {
   "cell_type": "code",
   "execution_count": 8,
   "metadata": {
    "collapsed": true
   },
   "outputs": [],
   "source": [
    "german = read.csv(\"German.csv\")\n"
   ]
  },
  {
   "cell_type": "code",
   "execution_count": 9,
   "metadata": {},
   "outputs": [
    {
     "data": {
      "text/html": [
       "<table>\n",
       "<thead><tr><th scope=col>default</th><th scope=col>account_check_status</th><th scope=col>duration_in_month</th><th scope=col>credit_history</th><th scope=col>purpose</th><th scope=col>credit_amount</th><th scope=col>savings</th><th scope=col>present_emp_since</th><th scope=col>installment_as_income_perc</th><th scope=col>personal_status_sex</th><th scope=col>⋯</th><th scope=col>present_res_since</th><th scope=col>property</th><th scope=col>age</th><th scope=col>other_installment_plans</th><th scope=col>housing</th><th scope=col>credits_this_bank</th><th scope=col>job</th><th scope=col>people_under_maintenance</th><th scope=col>telephone</th><th scope=col>foreign_worker</th></tr></thead>\n",
       "<tbody>\n",
       "\t<tr><td>0                                                                                                       </td><td><span style=white-space:pre-wrap>&lt; 0 DM             </span>                                          </td><td> 6                                                                                                      </td><td>critical account/ other credits existing (not at this bank)                                             </td><td><span style=white-space:pre-wrap>domestic appliances         </span>                                    </td><td>1169                                                                                                    </td><td>unknown/ no savings account                                                                             </td><td><span style=white-space:pre-wrap>.. &gt;= 7 years     </span>                                           </td><td>4                                                                                                       </td><td><span style=white-space:pre-wrap>male : single                      </span>                             </td><td>⋯                                                                                                       </td><td>4                                                                                                       </td><td><span style=white-space:pre-wrap>real estate                                                     </span></td><td>67                                                                                                      </td><td>none                                                                                                    </td><td><span style=white-space:pre-wrap>own     </span>                                                        </td><td>2                                                                                                       </td><td>skilled employee / official                                                                             </td><td>1                                                                                                       </td><td>yes, registered under the customers name                                                                </td><td>yes                                                                                                     </td></tr>\n",
       "\t<tr><td>1                                                                                                       </td><td><span style=white-space:pre-wrap>0 &lt;= ... &lt; 200 DM  </span>                                       </td><td>48                                                                                                      </td><td><span style=white-space:pre-wrap>existing credits paid back duly till now                   </span>     </td><td><span style=white-space:pre-wrap>domestic appliances         </span>                                    </td><td>5951                                                                                                    </td><td><span style=white-space:pre-wrap>... &lt; 100 DM               </span>                                  </td><td>1 &lt;= ... &lt; 4 years                                                                                </td><td>2                                                                                                       </td><td>female : divorced/separated/married                                                                     </td><td>⋯                                                                                                       </td><td>2                                                                                                       </td><td><span style=white-space:pre-wrap>real estate                                                     </span></td><td>22                                                                                                      </td><td>none                                                                                                    </td><td><span style=white-space:pre-wrap>own     </span>                                                        </td><td>1                                                                                                       </td><td>skilled employee / official                                                                             </td><td>1                                                                                                       </td><td><span style=white-space:pre-wrap>none                                     </span>                       </td><td>yes                                                                                                     </td></tr>\n",
       "\t<tr><td>0                                                                                                       </td><td>no checking account                                                                                     </td><td>12                                                                                                      </td><td>critical account/ other credits existing (not at this bank)                                             </td><td>(vacation - does not exist?)                                                                            </td><td>2096                                                                                                    </td><td><span style=white-space:pre-wrap>... &lt; 100 DM               </span>                                  </td><td>4 &lt;= ... &lt; 7 years                                                                                </td><td>2                                                                                                       </td><td><span style=white-space:pre-wrap>male : single                      </span>                             </td><td>⋯                                                                                                       </td><td>3                                                                                                       </td><td><span style=white-space:pre-wrap>real estate                                                     </span></td><td>49                                                                                                      </td><td>none                                                                                                    </td><td><span style=white-space:pre-wrap>own     </span>                                                        </td><td>1                                                                                                       </td><td><span style=white-space:pre-wrap>unskilled - resident       </span>                                     </td><td>2                                                                                                       </td><td><span style=white-space:pre-wrap>none                                     </span>                       </td><td>yes                                                                                                     </td></tr>\n",
       "\t<tr><td>0                                                                                                  </td><td><span style=white-space:pre-wrap>&lt; 0 DM             </span>                                     </td><td>42                                                                                                 </td><td><span style=white-space:pre-wrap>existing credits paid back duly till now                   </span></td><td><span style=white-space:pre-wrap>radio/television            </span>                               </td><td>7882                                                                                               </td><td><span style=white-space:pre-wrap>... &lt; 100 DM               </span>                             </td><td>4 &lt;= ... &lt; 7 years                                                                           </td><td>2                                                                                                  </td><td><span style=white-space:pre-wrap>male : single                      </span>                        </td><td>⋯                                                                                                  </td><td>4                                                                                                  </td><td>if not A121 : building society savings agreement/ life insurance                                   </td><td>45                                                                                                 </td><td>none                                                                                               </td><td>for free                                                                                           </td><td>1                                                                                                  </td><td>skilled employee / official                                                                        </td><td>2                                                                                                  </td><td><span style=white-space:pre-wrap>none                                     </span>                  </td><td>yes                                                                                                </td></tr>\n",
       "\t<tr><td>1                                                                                                       </td><td><span style=white-space:pre-wrap>&lt; 0 DM             </span>                                          </td><td>24                                                                                                      </td><td><span style=white-space:pre-wrap>delay in paying off in the past                            </span>     </td><td><span style=white-space:pre-wrap>car (new)                   </span>                                    </td><td>4870                                                                                                    </td><td><span style=white-space:pre-wrap>... &lt; 100 DM               </span>                                  </td><td>1 &lt;= ... &lt; 4 years                                                                                </td><td>3                                                                                                       </td><td><span style=white-space:pre-wrap>male : single                      </span>                             </td><td>⋯                                                                                                       </td><td>4                                                                                                       </td><td><span style=white-space:pre-wrap>unknown / no property                                           </span></td><td>53                                                                                                      </td><td>none                                                                                                    </td><td>for free                                                                                                </td><td>2                                                                                                       </td><td>skilled employee / official                                                                             </td><td>2                                                                                                       </td><td><span style=white-space:pre-wrap>none                                     </span>                       </td><td>yes                                                                                                     </td></tr>\n",
       "\t<tr><td>0                                                                                                       </td><td>no checking account                                                                                     </td><td>36                                                                                                      </td><td><span style=white-space:pre-wrap>existing credits paid back duly till now                   </span>     </td><td>(vacation - does not exist?)                                                                            </td><td>9055                                                                                                    </td><td>unknown/ no savings account                                                                             </td><td>1 &lt;= ... &lt; 4 years                                                                                </td><td>2                                                                                                       </td><td><span style=white-space:pre-wrap>male : single                      </span>                             </td><td>⋯                                                                                                       </td><td>4                                                                                                       </td><td><span style=white-space:pre-wrap>unknown / no property                                           </span></td><td>35                                                                                                      </td><td>none                                                                                                    </td><td>for free                                                                                                </td><td>1                                                                                                       </td><td><span style=white-space:pre-wrap>unskilled - resident       </span>                                     </td><td>2                                                                                                       </td><td>yes, registered under the customers name                                                                </td><td>yes                                                                                                     </td></tr>\n",
       "</tbody>\n",
       "</table>\n"
      ],
      "text/latex": [
       "\\begin{tabular}{r|lllllllllllllllllllll}\n",
       " default & account\\_check\\_status & duration\\_in\\_month & credit\\_history & purpose & credit\\_amount & savings & present\\_emp\\_since & installment\\_as\\_income\\_perc & personal\\_status\\_sex & ⋯ & present\\_res\\_since & property & age & other\\_installment\\_plans & housing & credits\\_this\\_bank & job & people\\_under\\_maintenance & telephone & foreign\\_worker\\\\\n",
       "\\hline\n",
       "\t 0                                                                & < 0 DM                                                           &  6                                                               & critical account/ other credits existing (not at this bank)      & domestic appliances                                              & 1169                                                             & unknown/ no savings account                                      & .. >= 7 years                                                    & 4                                                                & male : single                                                    & ⋯                                                                & 4                                                                & real estate                                                      & 67                                                               & none                                                             & own                                                              & 2                                                                & skilled employee / official                                      & 1                                                                & yes, registered under the customers name                         & yes                                                             \\\\\n",
       "\t 1                                                                & 0 <= ... < 200 DM                                                & 48                                                               & existing credits paid back duly till now                         & domestic appliances                                              & 5951                                                             & ... < 100 DM                                                     & 1 <= ... < 4 years                                               & 2                                                                & female : divorced/separated/married                              & ⋯                                                                & 2                                                                & real estate                                                      & 22                                                               & none                                                             & own                                                              & 1                                                                & skilled employee / official                                      & 1                                                                & none                                                             & yes                                                             \\\\\n",
       "\t 0                                                                & no checking account                                              & 12                                                               & critical account/ other credits existing (not at this bank)      & (vacation - does not exist?)                                     & 2096                                                             & ... < 100 DM                                                     & 4 <= ... < 7 years                                               & 2                                                                & male : single                                                    & ⋯                                                                & 3                                                                & real estate                                                      & 49                                                               & none                                                             & own                                                              & 1                                                                & unskilled - resident                                             & 2                                                                & none                                                             & yes                                                             \\\\\n",
       "\t 0                                                                & < 0 DM                                                           & 42                                                               & existing credits paid back duly till now                         & radio/television                                                 & 7882                                                             & ... < 100 DM                                                     & 4 <= ... < 7 years                                               & 2                                                                & male : single                                                    & ⋯                                                                & 4                                                                & if not A121 : building society savings agreement/ life insurance & 45                                                               & none                                                             & for free                                                         & 1                                                                & skilled employee / official                                      & 2                                                                & none                                                             & yes                                                             \\\\\n",
       "\t 1                                                                & < 0 DM                                                           & 24                                                               & delay in paying off in the past                                  & car (new)                                                        & 4870                                                             & ... < 100 DM                                                     & 1 <= ... < 4 years                                               & 3                                                                & male : single                                                    & ⋯                                                                & 4                                                                & unknown / no property                                            & 53                                                               & none                                                             & for free                                                         & 2                                                                & skilled employee / official                                      & 2                                                                & none                                                             & yes                                                             \\\\\n",
       "\t 0                                                                & no checking account                                              & 36                                                               & existing credits paid back duly till now                         & (vacation - does not exist?)                                     & 9055                                                             & unknown/ no savings account                                      & 1 <= ... < 4 years                                               & 2                                                                & male : single                                                    & ⋯                                                                & 4                                                                & unknown / no property                                            & 35                                                               & none                                                             & for free                                                         & 1                                                                & unskilled - resident                                             & 2                                                                & yes, registered under the customers name                         & yes                                                             \\\\\n",
       "\\end{tabular}\n"
      ],
      "text/markdown": [
       "\n",
       "default | account_check_status | duration_in_month | credit_history | purpose | credit_amount | savings | present_emp_since | installment_as_income_perc | personal_status_sex | ⋯ | present_res_since | property | age | other_installment_plans | housing | credits_this_bank | job | people_under_maintenance | telephone | foreign_worker | \n",
       "|---|---|---|---|---|---|\n",
       "| 0                                                                | < 0 DM                                                           |  6                                                               | critical account/ other credits existing (not at this bank)      | domestic appliances                                              | 1169                                                             | unknown/ no savings account                                      | .. >= 7 years                                                    | 4                                                                | male : single                                                    | ⋯                                                                | 4                                                                | real estate                                                      | 67                                                               | none                                                             | own                                                              | 2                                                                | skilled employee / official                                      | 1                                                                | yes, registered under the customers name                         | yes                                                              | \n",
       "| 1                                                                | 0 <= ... < 200 DM                                                | 48                                                               | existing credits paid back duly till now                         | domestic appliances                                              | 5951                                                             | ... < 100 DM                                                     | 1 <= ... < 4 years                                               | 2                                                                | female : divorced/separated/married                              | ⋯                                                                | 2                                                                | real estate                                                      | 22                                                               | none                                                             | own                                                              | 1                                                                | skilled employee / official                                      | 1                                                                | none                                                             | yes                                                              | \n",
       "| 0                                                                | no checking account                                              | 12                                                               | critical account/ other credits existing (not at this bank)      | (vacation - does not exist?)                                     | 2096                                                             | ... < 100 DM                                                     | 4 <= ... < 7 years                                               | 2                                                                | male : single                                                    | ⋯                                                                | 3                                                                | real estate                                                      | 49                                                               | none                                                             | own                                                              | 1                                                                | unskilled - resident                                             | 2                                                                | none                                                             | yes                                                              | \n",
       "| 0                                                                | < 0 DM                                                           | 42                                                               | existing credits paid back duly till now                         | radio/television                                                 | 7882                                                             | ... < 100 DM                                                     | 4 <= ... < 7 years                                               | 2                                                                | male : single                                                    | ⋯                                                                | 4                                                                | if not A121 : building society savings agreement/ life insurance | 45                                                               | none                                                             | for free                                                         | 1                                                                | skilled employee / official                                      | 2                                                                | none                                                             | yes                                                              | \n",
       "| 1                                                                | < 0 DM                                                           | 24                                                               | delay in paying off in the past                                  | car (new)                                                        | 4870                                                             | ... < 100 DM                                                     | 1 <= ... < 4 years                                               | 3                                                                | male : single                                                    | ⋯                                                                | 4                                                                | unknown / no property                                            | 53                                                               | none                                                             | for free                                                         | 2                                                                | skilled employee / official                                      | 2                                                                | none                                                             | yes                                                              | \n",
       "| 0                                                                | no checking account                                              | 36                                                               | existing credits paid back duly till now                         | (vacation - does not exist?)                                     | 9055                                                             | unknown/ no savings account                                      | 1 <= ... < 4 years                                               | 2                                                                | male : single                                                    | ⋯                                                                | 4                                                                | unknown / no property                                            | 35                                                               | none                                                             | for free                                                         | 1                                                                | unskilled - resident                                             | 2                                                                | yes, registered under the customers name                         | yes                                                              | \n",
       "\n",
       "\n"
      ],
      "text/plain": [
       "  default account_check_status duration_in_month\n",
       "1 0       < 0 DM                6               \n",
       "2 1       0 <= ... < 200 DM    48               \n",
       "3 0       no checking account  12               \n",
       "4 0       < 0 DM               42               \n",
       "5 1       < 0 DM               24               \n",
       "6 0       no checking account  36               \n",
       "  credit_history                                             \n",
       "1 critical account/ other credits existing (not at this bank)\n",
       "2 existing credits paid back duly till now                   \n",
       "3 critical account/ other credits existing (not at this bank)\n",
       "4 existing credits paid back duly till now                   \n",
       "5 delay in paying off in the past                            \n",
       "6 existing credits paid back duly till now                   \n",
       "  purpose                      credit_amount savings                    \n",
       "1 domestic appliances          1169          unknown/ no savings account\n",
       "2 domestic appliances          5951          ... < 100 DM               \n",
       "3 (vacation - does not exist?) 2096          ... < 100 DM               \n",
       "4 radio/television             7882          ... < 100 DM               \n",
       "5 car (new)                    4870          ... < 100 DM               \n",
       "6 (vacation - does not exist?) 9055          unknown/ no savings account\n",
       "  present_emp_since  installment_as_income_perc\n",
       "1 .. >= 7 years      4                         \n",
       "2 1 <= ... < 4 years 2                         \n",
       "3 4 <= ... < 7 years 2                         \n",
       "4 4 <= ... < 7 years 2                         \n",
       "5 1 <= ... < 4 years 3                         \n",
       "6 1 <= ... < 4 years 2                         \n",
       "  personal_status_sex                 ⋯ present_res_since\n",
       "1 male : single                       ⋯ 4                \n",
       "2 female : divorced/separated/married ⋯ 2                \n",
       "3 male : single                       ⋯ 3                \n",
       "4 male : single                       ⋯ 4                \n",
       "5 male : single                       ⋯ 4                \n",
       "6 male : single                       ⋯ 4                \n",
       "  property                                                         age\n",
       "1 real estate                                                      67 \n",
       "2 real estate                                                      22 \n",
       "3 real estate                                                      49 \n",
       "4 if not A121 : building society savings agreement/ life insurance 45 \n",
       "5 unknown / no property                                            53 \n",
       "6 unknown / no property                                            35 \n",
       "  other_installment_plans housing  credits_this_bank\n",
       "1 none                    own      2                \n",
       "2 none                    own      1                \n",
       "3 none                    own      1                \n",
       "4 none                    for free 1                \n",
       "5 none                    for free 2                \n",
       "6 none                    for free 1                \n",
       "  job                         people_under_maintenance\n",
       "1 skilled employee / official 1                       \n",
       "2 skilled employee / official 1                       \n",
       "3 unskilled - resident        2                       \n",
       "4 skilled employee / official 2                       \n",
       "5 skilled employee / official 2                       \n",
       "6 unskilled - resident        2                       \n",
       "  telephone                                 foreign_worker\n",
       "1 yes, registered under the customers name  yes           \n",
       "2 none                                      yes           \n",
       "3 none                                      yes           \n",
       "4 none                                      yes           \n",
       "5 none                                      yes           \n",
       "6 yes, registered under the customers name  yes           "
      ]
     },
     "metadata": {},
     "output_type": "display_data"
    }
   ],
   "source": [
    "head(german)"
   ]
  },
  {
   "cell_type": "code",
   "execution_count": 10,
   "metadata": {
    "collapsed": true
   },
   "outputs": [],
   "source": [
    "german = read.csv(\"German.csv\",header=T)"
   ]
  },
  {
   "cell_type": "code",
   "execution_count": 11,
   "metadata": {},
   "outputs": [
    {
     "data": {
      "text/html": [
       "<table>\n",
       "<thead><tr><th scope=col>default</th><th scope=col>account_check_status</th><th scope=col>duration_in_month</th><th scope=col>credit_history</th><th scope=col>purpose</th><th scope=col>credit_amount</th><th scope=col>savings</th><th scope=col>present_emp_since</th><th scope=col>installment_as_income_perc</th><th scope=col>personal_status_sex</th><th scope=col>⋯</th><th scope=col>present_res_since</th><th scope=col>property</th><th scope=col>age</th><th scope=col>other_installment_plans</th><th scope=col>housing</th><th scope=col>credits_this_bank</th><th scope=col>job</th><th scope=col>people_under_maintenance</th><th scope=col>telephone</th><th scope=col>foreign_worker</th></tr></thead>\n",
       "<tbody>\n",
       "\t<tr><td>0                                                                                                       </td><td><span style=white-space:pre-wrap>&lt; 0 DM             </span>                                          </td><td> 6                                                                                                      </td><td>critical account/ other credits existing (not at this bank)                                             </td><td><span style=white-space:pre-wrap>domestic appliances         </span>                                    </td><td>1169                                                                                                    </td><td>unknown/ no savings account                                                                             </td><td><span style=white-space:pre-wrap>.. &gt;= 7 years     </span>                                           </td><td>4                                                                                                       </td><td><span style=white-space:pre-wrap>male : single                      </span>                             </td><td>⋯                                                                                                       </td><td>4                                                                                                       </td><td><span style=white-space:pre-wrap>real estate                                                     </span></td><td>67                                                                                                      </td><td>none                                                                                                    </td><td><span style=white-space:pre-wrap>own     </span>                                                        </td><td>2                                                                                                       </td><td>skilled employee / official                                                                             </td><td>1                                                                                                       </td><td>yes, registered under the customers name                                                                </td><td>yes                                                                                                     </td></tr>\n",
       "\t<tr><td>1                                                                                                       </td><td><span style=white-space:pre-wrap>0 &lt;= ... &lt; 200 DM  </span>                                       </td><td>48                                                                                                      </td><td><span style=white-space:pre-wrap>existing credits paid back duly till now                   </span>     </td><td><span style=white-space:pre-wrap>domestic appliances         </span>                                    </td><td>5951                                                                                                    </td><td><span style=white-space:pre-wrap>... &lt; 100 DM               </span>                                  </td><td>1 &lt;= ... &lt; 4 years                                                                                </td><td>2                                                                                                       </td><td>female : divorced/separated/married                                                                     </td><td>⋯                                                                                                       </td><td>2                                                                                                       </td><td><span style=white-space:pre-wrap>real estate                                                     </span></td><td>22                                                                                                      </td><td>none                                                                                                    </td><td><span style=white-space:pre-wrap>own     </span>                                                        </td><td>1                                                                                                       </td><td>skilled employee / official                                                                             </td><td>1                                                                                                       </td><td><span style=white-space:pre-wrap>none                                     </span>                       </td><td>yes                                                                                                     </td></tr>\n",
       "\t<tr><td>0                                                                                                       </td><td>no checking account                                                                                     </td><td>12                                                                                                      </td><td>critical account/ other credits existing (not at this bank)                                             </td><td>(vacation - does not exist?)                                                                            </td><td>2096                                                                                                    </td><td><span style=white-space:pre-wrap>... &lt; 100 DM               </span>                                  </td><td>4 &lt;= ... &lt; 7 years                                                                                </td><td>2                                                                                                       </td><td><span style=white-space:pre-wrap>male : single                      </span>                             </td><td>⋯                                                                                                       </td><td>3                                                                                                       </td><td><span style=white-space:pre-wrap>real estate                                                     </span></td><td>49                                                                                                      </td><td>none                                                                                                    </td><td><span style=white-space:pre-wrap>own     </span>                                                        </td><td>1                                                                                                       </td><td><span style=white-space:pre-wrap>unskilled - resident       </span>                                     </td><td>2                                                                                                       </td><td><span style=white-space:pre-wrap>none                                     </span>                       </td><td>yes                                                                                                     </td></tr>\n",
       "\t<tr><td>0                                                                                                  </td><td><span style=white-space:pre-wrap>&lt; 0 DM             </span>                                     </td><td>42                                                                                                 </td><td><span style=white-space:pre-wrap>existing credits paid back duly till now                   </span></td><td><span style=white-space:pre-wrap>radio/television            </span>                               </td><td>7882                                                                                               </td><td><span style=white-space:pre-wrap>... &lt; 100 DM               </span>                             </td><td>4 &lt;= ... &lt; 7 years                                                                           </td><td>2                                                                                                  </td><td><span style=white-space:pre-wrap>male : single                      </span>                        </td><td>⋯                                                                                                  </td><td>4                                                                                                  </td><td>if not A121 : building society savings agreement/ life insurance                                   </td><td>45                                                                                                 </td><td>none                                                                                               </td><td>for free                                                                                           </td><td>1                                                                                                  </td><td>skilled employee / official                                                                        </td><td>2                                                                                                  </td><td><span style=white-space:pre-wrap>none                                     </span>                  </td><td>yes                                                                                                </td></tr>\n",
       "\t<tr><td>1                                                                                                       </td><td><span style=white-space:pre-wrap>&lt; 0 DM             </span>                                          </td><td>24                                                                                                      </td><td><span style=white-space:pre-wrap>delay in paying off in the past                            </span>     </td><td><span style=white-space:pre-wrap>car (new)                   </span>                                    </td><td>4870                                                                                                    </td><td><span style=white-space:pre-wrap>... &lt; 100 DM               </span>                                  </td><td>1 &lt;= ... &lt; 4 years                                                                                </td><td>3                                                                                                       </td><td><span style=white-space:pre-wrap>male : single                      </span>                             </td><td>⋯                                                                                                       </td><td>4                                                                                                       </td><td><span style=white-space:pre-wrap>unknown / no property                                           </span></td><td>53                                                                                                      </td><td>none                                                                                                    </td><td>for free                                                                                                </td><td>2                                                                                                       </td><td>skilled employee / official                                                                             </td><td>2                                                                                                       </td><td><span style=white-space:pre-wrap>none                                     </span>                       </td><td>yes                                                                                                     </td></tr>\n",
       "\t<tr><td>0                                                                                                       </td><td>no checking account                                                                                     </td><td>36                                                                                                      </td><td><span style=white-space:pre-wrap>existing credits paid back duly till now                   </span>     </td><td>(vacation - does not exist?)                                                                            </td><td>9055                                                                                                    </td><td>unknown/ no savings account                                                                             </td><td>1 &lt;= ... &lt; 4 years                                                                                </td><td>2                                                                                                       </td><td><span style=white-space:pre-wrap>male : single                      </span>                             </td><td>⋯                                                                                                       </td><td>4                                                                                                       </td><td><span style=white-space:pre-wrap>unknown / no property                                           </span></td><td>35                                                                                                      </td><td>none                                                                                                    </td><td>for free                                                                                                </td><td>1                                                                                                       </td><td><span style=white-space:pre-wrap>unskilled - resident       </span>                                     </td><td>2                                                                                                       </td><td>yes, registered under the customers name                                                                </td><td>yes                                                                                                     </td></tr>\n",
       "</tbody>\n",
       "</table>\n"
      ],
      "text/latex": [
       "\\begin{tabular}{r|lllllllllllllllllllll}\n",
       " default & account\\_check\\_status & duration\\_in\\_month & credit\\_history & purpose & credit\\_amount & savings & present\\_emp\\_since & installment\\_as\\_income\\_perc & personal\\_status\\_sex & ⋯ & present\\_res\\_since & property & age & other\\_installment\\_plans & housing & credits\\_this\\_bank & job & people\\_under\\_maintenance & telephone & foreign\\_worker\\\\\n",
       "\\hline\n",
       "\t 0                                                                & < 0 DM                                                           &  6                                                               & critical account/ other credits existing (not at this bank)      & domestic appliances                                              & 1169                                                             & unknown/ no savings account                                      & .. >= 7 years                                                    & 4                                                                & male : single                                                    & ⋯                                                                & 4                                                                & real estate                                                      & 67                                                               & none                                                             & own                                                              & 2                                                                & skilled employee / official                                      & 1                                                                & yes, registered under the customers name                         & yes                                                             \\\\\n",
       "\t 1                                                                & 0 <= ... < 200 DM                                                & 48                                                               & existing credits paid back duly till now                         & domestic appliances                                              & 5951                                                             & ... < 100 DM                                                     & 1 <= ... < 4 years                                               & 2                                                                & female : divorced/separated/married                              & ⋯                                                                & 2                                                                & real estate                                                      & 22                                                               & none                                                             & own                                                              & 1                                                                & skilled employee / official                                      & 1                                                                & none                                                             & yes                                                             \\\\\n",
       "\t 0                                                                & no checking account                                              & 12                                                               & critical account/ other credits existing (not at this bank)      & (vacation - does not exist?)                                     & 2096                                                             & ... < 100 DM                                                     & 4 <= ... < 7 years                                               & 2                                                                & male : single                                                    & ⋯                                                                & 3                                                                & real estate                                                      & 49                                                               & none                                                             & own                                                              & 1                                                                & unskilled - resident                                             & 2                                                                & none                                                             & yes                                                             \\\\\n",
       "\t 0                                                                & < 0 DM                                                           & 42                                                               & existing credits paid back duly till now                         & radio/television                                                 & 7882                                                             & ... < 100 DM                                                     & 4 <= ... < 7 years                                               & 2                                                                & male : single                                                    & ⋯                                                                & 4                                                                & if not A121 : building society savings agreement/ life insurance & 45                                                               & none                                                             & for free                                                         & 1                                                                & skilled employee / official                                      & 2                                                                & none                                                             & yes                                                             \\\\\n",
       "\t 1                                                                & < 0 DM                                                           & 24                                                               & delay in paying off in the past                                  & car (new)                                                        & 4870                                                             & ... < 100 DM                                                     & 1 <= ... < 4 years                                               & 3                                                                & male : single                                                    & ⋯                                                                & 4                                                                & unknown / no property                                            & 53                                                               & none                                                             & for free                                                         & 2                                                                & skilled employee / official                                      & 2                                                                & none                                                             & yes                                                             \\\\\n",
       "\t 0                                                                & no checking account                                              & 36                                                               & existing credits paid back duly till now                         & (vacation - does not exist?)                                     & 9055                                                             & unknown/ no savings account                                      & 1 <= ... < 4 years                                               & 2                                                                & male : single                                                    & ⋯                                                                & 4                                                                & unknown / no property                                            & 35                                                               & none                                                             & for free                                                         & 1                                                                & unskilled - resident                                             & 2                                                                & yes, registered under the customers name                         & yes                                                             \\\\\n",
       "\\end{tabular}\n"
      ],
      "text/markdown": [
       "\n",
       "default | account_check_status | duration_in_month | credit_history | purpose | credit_amount | savings | present_emp_since | installment_as_income_perc | personal_status_sex | ⋯ | present_res_since | property | age | other_installment_plans | housing | credits_this_bank | job | people_under_maintenance | telephone | foreign_worker | \n",
       "|---|---|---|---|---|---|\n",
       "| 0                                                                | < 0 DM                                                           |  6                                                               | critical account/ other credits existing (not at this bank)      | domestic appliances                                              | 1169                                                             | unknown/ no savings account                                      | .. >= 7 years                                                    | 4                                                                | male : single                                                    | ⋯                                                                | 4                                                                | real estate                                                      | 67                                                               | none                                                             | own                                                              | 2                                                                | skilled employee / official                                      | 1                                                                | yes, registered under the customers name                         | yes                                                              | \n",
       "| 1                                                                | 0 <= ... < 200 DM                                                | 48                                                               | existing credits paid back duly till now                         | domestic appliances                                              | 5951                                                             | ... < 100 DM                                                     | 1 <= ... < 4 years                                               | 2                                                                | female : divorced/separated/married                              | ⋯                                                                | 2                                                                | real estate                                                      | 22                                                               | none                                                             | own                                                              | 1                                                                | skilled employee / official                                      | 1                                                                | none                                                             | yes                                                              | \n",
       "| 0                                                                | no checking account                                              | 12                                                               | critical account/ other credits existing (not at this bank)      | (vacation - does not exist?)                                     | 2096                                                             | ... < 100 DM                                                     | 4 <= ... < 7 years                                               | 2                                                                | male : single                                                    | ⋯                                                                | 3                                                                | real estate                                                      | 49                                                               | none                                                             | own                                                              | 1                                                                | unskilled - resident                                             | 2                                                                | none                                                             | yes                                                              | \n",
       "| 0                                                                | < 0 DM                                                           | 42                                                               | existing credits paid back duly till now                         | radio/television                                                 | 7882                                                             | ... < 100 DM                                                     | 4 <= ... < 7 years                                               | 2                                                                | male : single                                                    | ⋯                                                                | 4                                                                | if not A121 : building society savings agreement/ life insurance | 45                                                               | none                                                             | for free                                                         | 1                                                                | skilled employee / official                                      | 2                                                                | none                                                             | yes                                                              | \n",
       "| 1                                                                | < 0 DM                                                           | 24                                                               | delay in paying off in the past                                  | car (new)                                                        | 4870                                                             | ... < 100 DM                                                     | 1 <= ... < 4 years                                               | 3                                                                | male : single                                                    | ⋯                                                                | 4                                                                | unknown / no property                                            | 53                                                               | none                                                             | for free                                                         | 2                                                                | skilled employee / official                                      | 2                                                                | none                                                             | yes                                                              | \n",
       "| 0                                                                | no checking account                                              | 36                                                               | existing credits paid back duly till now                         | (vacation - does not exist?)                                     | 9055                                                             | unknown/ no savings account                                      | 1 <= ... < 4 years                                               | 2                                                                | male : single                                                    | ⋯                                                                | 4                                                                | unknown / no property                                            | 35                                                               | none                                                             | for free                                                         | 1                                                                | unskilled - resident                                             | 2                                                                | yes, registered under the customers name                         | yes                                                              | \n",
       "\n",
       "\n"
      ],
      "text/plain": [
       "  default account_check_status duration_in_month\n",
       "1 0       < 0 DM                6               \n",
       "2 1       0 <= ... < 200 DM    48               \n",
       "3 0       no checking account  12               \n",
       "4 0       < 0 DM               42               \n",
       "5 1       < 0 DM               24               \n",
       "6 0       no checking account  36               \n",
       "  credit_history                                             \n",
       "1 critical account/ other credits existing (not at this bank)\n",
       "2 existing credits paid back duly till now                   \n",
       "3 critical account/ other credits existing (not at this bank)\n",
       "4 existing credits paid back duly till now                   \n",
       "5 delay in paying off in the past                            \n",
       "6 existing credits paid back duly till now                   \n",
       "  purpose                      credit_amount savings                    \n",
       "1 domestic appliances          1169          unknown/ no savings account\n",
       "2 domestic appliances          5951          ... < 100 DM               \n",
       "3 (vacation - does not exist?) 2096          ... < 100 DM               \n",
       "4 radio/television             7882          ... < 100 DM               \n",
       "5 car (new)                    4870          ... < 100 DM               \n",
       "6 (vacation - does not exist?) 9055          unknown/ no savings account\n",
       "  present_emp_since  installment_as_income_perc\n",
       "1 .. >= 7 years      4                         \n",
       "2 1 <= ... < 4 years 2                         \n",
       "3 4 <= ... < 7 years 2                         \n",
       "4 4 <= ... < 7 years 2                         \n",
       "5 1 <= ... < 4 years 3                         \n",
       "6 1 <= ... < 4 years 2                         \n",
       "  personal_status_sex                 ⋯ present_res_since\n",
       "1 male : single                       ⋯ 4                \n",
       "2 female : divorced/separated/married ⋯ 2                \n",
       "3 male : single                       ⋯ 3                \n",
       "4 male : single                       ⋯ 4                \n",
       "5 male : single                       ⋯ 4                \n",
       "6 male : single                       ⋯ 4                \n",
       "  property                                                         age\n",
       "1 real estate                                                      67 \n",
       "2 real estate                                                      22 \n",
       "3 real estate                                                      49 \n",
       "4 if not A121 : building society savings agreement/ life insurance 45 \n",
       "5 unknown / no property                                            53 \n",
       "6 unknown / no property                                            35 \n",
       "  other_installment_plans housing  credits_this_bank\n",
       "1 none                    own      2                \n",
       "2 none                    own      1                \n",
       "3 none                    own      1                \n",
       "4 none                    for free 1                \n",
       "5 none                    for free 2                \n",
       "6 none                    for free 1                \n",
       "  job                         people_under_maintenance\n",
       "1 skilled employee / official 1                       \n",
       "2 skilled employee / official 1                       \n",
       "3 unskilled - resident        2                       \n",
       "4 skilled employee / official 2                       \n",
       "5 skilled employee / official 2                       \n",
       "6 unskilled - resident        2                       \n",
       "  telephone                                 foreign_worker\n",
       "1 yes, registered under the customers name  yes           \n",
       "2 none                                      yes           \n",
       "3 none                                      yes           \n",
       "4 none                                      yes           \n",
       "5 none                                      yes           \n",
       "6 yes, registered under the customers name  yes           "
      ]
     },
     "metadata": {},
     "output_type": "display_data"
    }
   ],
   "source": [
    "head(german)"
   ]
  },
  {
   "cell_type": "code",
   "execution_count": 14,
   "metadata": {
    "collapsed": true
   },
   "outputs": [],
   "source": [
    "#use if condition in for loop\n",
    "for(i in 1:nrow(german)){\n",
    "  if(german$present_emp_since[i] == 4){\n",
    "    german$newcol[i] = 1\n",
    "  } else {german$newcol[i] = 0}\n",
    "}"
   ]
  },
  {
   "cell_type": "code",
   "execution_count": 15,
   "metadata": {
    "collapsed": true
   },
   "outputs": [],
   "source": [
    "\n",
    "#ifelse condition\n",
    "german$account_check_status = ifelse(german$present_emp_since == 4, 1, 0)"
   ]
  },
  {
   "cell_type": "code",
   "execution_count": 16,
   "metadata": {},
   "outputs": [
    {
     "name": "stderr",
     "output_type": "stream",
     "text": [
      "Warning message in mean.default(newX[, i], ...):\n",
      "“argument is not numeric or logical: returning NA”Warning message in mean.default(newX[, i], ...):\n",
      "“argument is not numeric or logical: returning NA”Warning message in mean.default(newX[, i], ...):\n",
      "“argument is not numeric or logical: returning NA”Warning message in mean.default(newX[, i], ...):\n",
      "“argument is not numeric or logical: returning NA”Warning message in mean.default(newX[, i], ...):\n",
      "“argument is not numeric or logical: returning NA”Warning message in mean.default(newX[, i], ...):\n",
      "“argument is not numeric or logical: returning NA”Warning message in mean.default(newX[, i], ...):\n",
      "“argument is not numeric or logical: returning NA”Warning message in mean.default(newX[, i], ...):\n",
      "“argument is not numeric or logical: returning NA”Warning message in mean.default(newX[, i], ...):\n",
      "“argument is not numeric or logical: returning NA”Warning message in mean.default(newX[, i], ...):\n",
      "“argument is not numeric or logical: returning NA”"
     ]
    },
    {
     "data": {
      "text/html": [
       "<dl class=dl-horizontal>\n",
       "\t<dt>1</dt>\n",
       "\t\t<dd>&lt;NA&gt;</dd>\n",
       "\t<dt>2</dt>\n",
       "\t\t<dd>&lt;NA&gt;</dd>\n",
       "\t<dt>3</dt>\n",
       "\t\t<dd>&lt;NA&gt;</dd>\n",
       "\t<dt>4</dt>\n",
       "\t\t<dd>&lt;NA&gt;</dd>\n",
       "\t<dt>5</dt>\n",
       "\t\t<dd>&lt;NA&gt;</dd>\n",
       "\t<dt>6</dt>\n",
       "\t\t<dd>&lt;NA&gt;</dd>\n",
       "\t<dt>7</dt>\n",
       "\t\t<dd>&lt;NA&gt;</dd>\n",
       "\t<dt>8</dt>\n",
       "\t\t<dd>&lt;NA&gt;</dd>\n",
       "\t<dt>9</dt>\n",
       "\t\t<dd>&lt;NA&gt;</dd>\n",
       "\t<dt>10</dt>\n",
       "\t\t<dd>&lt;NA&gt;</dd>\n",
       "</dl>\n"
      ],
      "text/latex": [
       "\\begin{description*}\n",
       "\\item[1] <NA>\n",
       "\\item[2] <NA>\n",
       "\\item[3] <NA>\n",
       "\\item[4] <NA>\n",
       "\\item[5] <NA>\n",
       "\\item[6] <NA>\n",
       "\\item[7] <NA>\n",
       "\\item[8] <NA>\n",
       "\\item[9] <NA>\n",
       "\\item[10] <NA>\n",
       "\\end{description*}\n"
      ],
      "text/markdown": [
       "1\n",
       ":   &lt;NA&gt;2\n",
       ":   &lt;NA&gt;3\n",
       ":   &lt;NA&gt;4\n",
       ":   &lt;NA&gt;5\n",
       ":   &lt;NA&gt;6\n",
       ":   &lt;NA&gt;7\n",
       ":   &lt;NA&gt;8\n",
       ":   &lt;NA&gt;9\n",
       ":   &lt;NA&gt;10\n",
       ":   &lt;NA&gt;\n",
       "\n"
      ],
      "text/plain": [
       " 1  2  3  4  5  6  7  8  9 10 \n",
       "NA NA NA NA NA NA NA NA NA NA "
      ]
     },
     "metadata": {},
     "output_type": "display_data"
    },
    {
     "data": {
      "text/html": [
       "<dl class=dl-horizontal>\n",
       "\t<dt>1</dt>\n",
       "\t\t<dd>'0'</dd>\n",
       "\t<dt>2</dt>\n",
       "\t\t<dd>'48'</dd>\n",
       "\t<dt>3</dt>\n",
       "\t\t<dd>'0'</dd>\n",
       "\t<dt>4</dt>\n",
       "\t\t<dd>'42'</dd>\n",
       "\t<dt>5</dt>\n",
       "\t\t<dd>'24'</dd>\n",
       "\t<dt>6</dt>\n",
       "\t\t<dd>'0'</dd>\n",
       "\t<dt>7</dt>\n",
       "\t\t<dd>'24'</dd>\n",
       "\t<dt>8</dt>\n",
       "\t\t<dd>'36'</dd>\n",
       "\t<dt>9</dt>\n",
       "\t\t<dd>'12'</dd>\n",
       "\t<dt>10</dt>\n",
       "\t\t<dd>'30'</dd>\n",
       "</dl>\n"
      ],
      "text/latex": [
       "\\begin{description*}\n",
       "\\item[1] '0'\n",
       "\\item[2] '48'\n",
       "\\item[3] '0'\n",
       "\\item[4] '42'\n",
       "\\item[5] '24'\n",
       "\\item[6] '0'\n",
       "\\item[7] '24'\n",
       "\\item[8] '36'\n",
       "\\item[9] '12'\n",
       "\\item[10] '30'\n",
       "\\end{description*}\n"
      ],
      "text/markdown": [
       "1\n",
       ":   '0'2\n",
       ":   '48'3\n",
       ":   '0'4\n",
       ":   '42'5\n",
       ":   '24'6\n",
       ":   '0'7\n",
       ":   '24'8\n",
       ":   '36'9\n",
       ":   '12'10\n",
       ":   '30'\n",
       "\n"
      ],
      "text/plain": [
       "   1    2    3    4    5    6    7    8    9   10 \n",
       " \"0\" \"48\"  \"0\" \"42\" \"24\"  \"0\" \"24\" \"36\" \"12\" \"30\" "
      ]
     },
     "metadata": {},
     "output_type": "display_data"
    },
    {
     "name": "stderr",
     "output_type": "stream",
     "text": [
      "Warning message in var(if (is.vector(x) || is.factor(x)) x else as.double(x), na.rm = na.rm):\n",
      "“NAs introduced by coercion”Warning message in var(if (is.vector(x) || is.factor(x)) x else as.double(x), na.rm = na.rm):\n",
      "“NAs introduced by coercion”"
     ]
    },
    {
     "data": {
      "text/html": [
       "<dl class=dl-horizontal>\n",
       "\t<dt>default</dt>\n",
       "\t\t<dd>0.458486870270251</dd>\n",
       "\t<dt>account_check_status</dt>\n",
       "\t\t<dd>0</dd>\n",
       "\t<dt>duration_in_month</dt>\n",
       "\t\t<dd>12.0588144527564</dd>\n",
       "\t<dt>credit_history</dt>\n",
       "\t\t<dd>&lt;NA&gt;</dd>\n",
       "\t<dt>purpose</dt>\n",
       "\t\t<dd>&lt;NA&gt;</dd>\n",
       "</dl>\n"
      ],
      "text/latex": [
       "\\begin{description*}\n",
       "\\item[default] 0.458486870270251\n",
       "\\item[account\\textbackslash{}\\_check\\textbackslash{}\\_status] 0\n",
       "\\item[duration\\textbackslash{}\\_in\\textbackslash{}\\_month] 12.0588144527564\n",
       "\\item[credit\\textbackslash{}\\_history] <NA>\n",
       "\\item[purpose] <NA>\n",
       "\\end{description*}\n"
      ],
      "text/markdown": [
       "default\n",
       ":   0.458486870270251account_check_status\n",
       ":   0duration_in_month\n",
       ":   12.0588144527564credit_history\n",
       ":   &lt;NA&gt;purpose\n",
       ":   &lt;NA&gt;\n",
       "\n"
      ],
      "text/plain": [
       "             default account_check_status    duration_in_month \n",
       "           0.4584869            0.0000000           12.0588145 \n",
       "      credit_history              purpose \n",
       "                  NA                   NA "
      ]
     },
     "metadata": {},
     "output_type": "display_data"
    },
    {
     "name": "stderr",
     "output_type": "stream",
     "text": [
      "Warning message in FUN(newX[, i], ...):\n",
      "“NAs introduced by coercion”Warning message in FUN(newX[, i], ...):\n",
      "“NAs introduced by coercion”"
     ]
    },
    {
     "data": {
      "text/html": [
       "<dl class=dl-horizontal>\n",
       "\t<dt>default</dt>\n",
       "\t\t<dd>0.21021021021021</dd>\n",
       "\t<dt>account_check_status</dt>\n",
       "\t\t<dd>0</dd>\n",
       "\t<dt>duration_in_month</dt>\n",
       "\t\t<dd>145.415006006006</dd>\n",
       "\t<dt>credit_history</dt>\n",
       "\t\t<dd>&lt;NA&gt;</dd>\n",
       "\t<dt>purpose</dt>\n",
       "\t\t<dd>&lt;NA&gt;</dd>\n",
       "</dl>\n"
      ],
      "text/latex": [
       "\\begin{description*}\n",
       "\\item[default] 0.21021021021021\n",
       "\\item[account\\textbackslash{}\\_check\\textbackslash{}\\_status] 0\n",
       "\\item[duration\\textbackslash{}\\_in\\textbackslash{}\\_month] 145.415006006006\n",
       "\\item[credit\\textbackslash{}\\_history] <NA>\n",
       "\\item[purpose] <NA>\n",
       "\\end{description*}\n"
      ],
      "text/markdown": [
       "default\n",
       ":   0.21021021021021account_check_status\n",
       ":   0duration_in_month\n",
       ":   145.415006006006credit_history\n",
       ":   &lt;NA&gt;purpose\n",
       ":   &lt;NA&gt;\n",
       "\n"
      ],
      "text/plain": [
       "             default account_check_status    duration_in_month \n",
       "           0.2102102            0.0000000          145.4150060 \n",
       "      credit_history              purpose \n",
       "                  NA                   NA "
      ]
     },
     "metadata": {},
     "output_type": "display_data"
    }
   ],
   "source": [
    "###Apply family\n",
    "#apply function\n",
    "apply(german[1:10,1:9], 1, mean)\n",
    "apply(german[1:10, 1:5], 1, median)\n",
    "\n",
    "apply(german[,1:5], 2, sd)\n",
    "apply(german[,1:5], 2, var)"
   ]
  },
  {
   "cell_type": "code",
   "execution_count": null,
   "metadata": {
    "collapsed": true
   },
   "outputs": [],
   "source": [
    "# german[2,4] = NA\n",
    "# \n",
    "# df = data.frame(apply(german, 2, function(x){sum(is.na(x))}))\n",
    "# apply(german[,1:10], 2, function(x){sum(is.na(x))})"
   ]
  },
  {
   "cell_type": "code",
   "execution_count": null,
   "metadata": {
    "collapsed": true
   },
   "outputs": [],
   "source": [
    "\n",
    "#create your own function\n",
    "m = matrix(data = cbind(rnorm(30, 0), rnorm(30, 2), rnorm(30, 5)), nrow = 30,\n",
    "           ncol = 3)\n",
    "apply(m, 2, function(x) length(x[x<0]))\n"
   ]
  },
  {
   "cell_type": "code",
   "execution_count": null,
   "metadata": {
    "collapsed": true
   },
   "outputs": [],
   "source": [
    "#lapply\n",
    "lapply(german[,1:9], mean)\n"
   ]
  },
  {
   "cell_type": "code",
   "execution_count": null,
   "metadata": {
    "collapsed": true
   },
   "outputs": [],
   "source": [
    "#sapply\n",
    "# Find the square of each number using sapply and lapply\n",
    "temp = c(10, 20, 30, 40, 50)"
   ]
  },
  {
   "cell_type": "code",
   "execution_count": 17,
   "metadata": {},
   "outputs": [
    {
     "ename": "ERROR",
     "evalue": "Error in lapply(X = X, FUN = FUN, ...): object 'temp' not found\n",
     "execution_count": 17,
     "output_type": "error",
     "traceback": [
      "Error in lapply(X = X, FUN = FUN, ...): object 'temp' not found\nTraceback:\n",
      "1. sapply(temp, function(x) {\n .     x * x\n . })",
      "2. lapply(X = X, FUN = FUN, ...)"
     ]
    }
   ],
   "source": [
    "sapply(temp, function(x){x * x}) #return vector\n",
    "#lapply(german[,1:9], mean)\n",
    "lapply(temp, function(x){x * x}) #return list\n"
   ]
  },
  {
   "cell_type": "code",
   "execution_count": null,
   "metadata": {
    "collapsed": true
   },
   "outputs": [],
   "source": [
    "\n",
    "unlist(lapply(temp, function(x){x * x}))"
   ]
  },
  {
   "cell_type": "code",
   "execution_count": null,
   "metadata": {
    "collapsed": true
   },
   "outputs": [],
   "source": []
  },
  {
   "cell_type": "code",
   "execution_count": null,
   "metadata": {
    "collapsed": true
   },
   "outputs": [],
   "source": []
  }
 ],
 "metadata": {
  "kernelspec": {
   "display_name": "R",
   "language": "R",
   "name": "ir"
  },
  "language_info": {
   "codemirror_mode": "r",
   "file_extension": ".r",
   "mimetype": "text/x-r-source",
   "name": "R",
   "pygments_lexer": "r",
   "version": "3.5.1"
  }
 },
 "nbformat": 4,
 "nbformat_minor": 2
}
