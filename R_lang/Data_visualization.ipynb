{
 "cells": [
  {
   "cell_type": "markdown",
   "metadata": {},
   "source": [
    "#### Reference R Programming Course by Kirill Eremenko and www.superdatascience.com\n",
    "##### Comments:\n",
    "- Seasons are labeled based on the first year in the season\n",
    "- E.g. the 2012-2013 season is preseneted as simply 2012\n",
    "- Notes and Corrections to the data:\n",
    "- Kevin Durant: 2006 - College Data Used\n",
    "- Kevin Durant: 2005 - Proxied With 2006 Data\n",
    "- Derrick Rose: 2012 - Did Not Play\n",
    "- Derrick Rose: 2007 - College Data Used\n",
    "- Derrick Rose: 2006 - Proxied With 2007 Data\n",
    "- Derrick Rose: 2005 - Proxied With 2007 Data\n"
   ]
  },
  {
   "cell_type": "code",
   "execution_count": 1,
   "metadata": {},
   "outputs": [],
   "source": [
    "\n",
    "#Seasons\n",
    "Seasons <- c(\"2005\",\"2006\",\"2007\",\"2008\",\"2009\",\"2010\",\"2011\",\"2012\",\"2013\",\"2014\")\n",
    "\n",
    "#Players\n",
    "Players <- c(\"KobeBryant\",\"JoeJohnson\",\"LeBronJames\",\"CarmeloAnthony\",\"DwightHoward\",\"ChrisBosh\",\"ChrisPaul\",\"KevinDurant\",\"DerrickRose\",\"DwayneWade\")\n"
   ]
  },
  {
   "cell_type": "code",
   "execution_count": 9,
   "metadata": {},
   "outputs": [],
   "source": []
  },
  {
   "cell_type": "code",
   "execution_count": null,
   "metadata": {},
   "outputs": [],
   "source": []
  }
 ],
 "metadata": {
  "kernelspec": {
   "display_name": "R",
   "language": "R",
   "name": "ir"
  },
  "language_info": {
   "codemirror_mode": "r",
   "file_extension": ".r",
   "mimetype": "text/x-r-source",
   "name": "R",
   "pygments_lexer": "r",
   "version": "3.5.1"
  }
 },
 "nbformat": 4,
 "nbformat_minor": 2
}
