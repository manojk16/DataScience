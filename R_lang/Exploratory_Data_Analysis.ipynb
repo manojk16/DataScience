{
 "cells": [
  {
   "cell_type": "code",
   "execution_count": 2,
   "metadata": {},
   "outputs": [],
   "source": [
    "#remove all the objects stored\n",
    "rm(list=ls())\n"
   ]
  },
  {
   "cell_type": "code",
   "execution_count": null,
   "metadata": {},
   "outputs": [],
   "source": [
    "#Create vector\n",
    "vec_V1 = c(2,3,4,6)"
   ]
  },
  {
   "cell_type": "code",
   "execution_count": null,
   "metadata": {},
   "outputs": [],
   "source": [
    "#Create list\n",
    "lis = list(\"India\",5,6,7)\n",
    "class(lis)"
   ]
  },
  {
   "cell_type": "code",
   "execution_count": null,
   "metadata": {},
   "outputs": [],
   "source": [
    " # Create a matrix\n",
    "sample_matrix = matrix(1:9, byrow = T, nrow = 3) # This inserts elements by rows\n",
    "sample_matrix"
   ]
  },
  {
   "cell_type": "code",
   "execution_count": null,
   "metadata": {},
   "outputs": [],
   "source": [
    "\n",
    "matrix(1:10, byrow = F, ncol = 3) # This inserts elements by columns\n",
    "sample_matrix\n"
   ]
  },
  {
   "cell_type": "code",
   "execution_count": null,
   "metadata": {},
   "outputs": [],
   "source": [
    "# Naming a matrix\n",
    "colnames(sample_matrix) = c(\"One\",\"Two\",\"Three\")\n",
    "sample_matrix"
   ]
  },
  {
   "cell_type": "code",
   "execution_count": null,
   "metadata": {},
   "outputs": [],
   "source": [
    "#transpose matrix\n",
    "t(sample_matrix)\n",
    "sample_matrix"
   ]
  },
  {
   "cell_type": "code",
   "execution_count": null,
   "metadata": {},
   "outputs": [],
   "source": [
    "#Let us learn how to create data frame\n",
    "df = data.frame(age = c(2, 3, 4, 5), Gender = c(\"M\", \"F\", \"F\", \"M\"), Income = c(5,6,7,3))"
   ]
  },
  {
   "cell_type": "code",
   "execution_count": null,
   "metadata": {},
   "outputs": [],
   "source": [
    "#Rename varaible\n",
    "names(df)[2] = \"Gen\""
   ]
  },
  {
   "cell_type": "code",
   "execution_count": null,
   "metadata": {},
   "outputs": [],
   "source": [
    "#convert vector into dataframes\n",
    "df_vec = as.data.frame(vec_V1) "
   ]
  },
  {
   "cell_type": "code",
   "execution_count": null,
   "metadata": {},
   "outputs": [],
   "source": [
    "#Selecting variables from the dataset and making a new dataset\n",
    "data = mtcars\n",
    "NewData_V1 = subset(data, select = c(\"mpg\",\"cyl\",\"hp\",\"am\"))"
   ]
  },
  {
   "cell_type": "code",
   "execution_count": null,
   "metadata": {},
   "outputs": [],
   "source": [
    "#selecting the rows with condition\n",
    "data_rowLevel = data[which(data$mpg == 21.4),]\n",
    "data_rowLevel"
   ]
  },
  {
   "cell_type": "code",
   "execution_count": null,
   "metadata": {},
   "outputs": [],
   "source": [
    "#Creating new variable\n",
    "data$LogMPG = with(data, log(mpg))\n",
    "data\n",
    "data$abc = with(data, cyl)\n",
    "data"
   ]
  },
  {
   "cell_type": "code",
   "execution_count": null,
   "metadata": {},
   "outputs": [],
   "source": [
    "\n",
    "# Adding rows of two data frame\n",
    "d1 = data.frame(a = c(3,4,5,6), b = c(4,5,6,6)) #Let us create two data frame to merge\n",
    "d2 = data.frame(a = c(5,6,7,8), b = c(4,5,7,8))\n"
   ]
  },
  {
   "cell_type": "code",
   "execution_count": null,
   "metadata": {},
   "outputs": [],
   "source": [
    "d3 = rbind(d1,d2)\n",
    "d3"
   ]
  },
  {
   "cell_type": "code",
   "execution_count": null,
   "metadata": {},
   "outputs": [],
   "source": [
    "#Adding columns \n",
    "d3 = cbind(d1, d2)\n",
    "d3"
   ]
  },
  {
   "cell_type": "code",
   "execution_count": 5,
   "metadata": {},
   "outputs": [],
   "source": [
    "#Data types\n",
    "data = mtcars\n",
    "head(data)\n",
    "data$cyl"
   ]
  },
  {
   "cell_type": "code",
   "execution_count": null,
   "metadata": {},
   "outputs": [],
   "source": [
    "#convert each varaible\n",
    "data$cyl = as.factor(data$cyl)\n",
    "data$cyl\n",
    "is.numeric(data$cyl)\n",
    "is.factor(data$cy)\n",
    "data$vs = as.factor(data$vs)\n"
   ]
  },
  {
   "cell_type": "code",
   "execution_count": null,
   "metadata": {},
   "outputs": [],
   "source": [
    "#Convert n number of variables at a time\n",
    "for(i in c(2,8:11)){\n",
    "  data[,i] = as.factor(data[,i])\n",
    "}"
   ]
  },
  {
   "cell_type": "code",
   "execution_count": null,
   "metadata": {},
   "outputs": [],
   "source": [
    "#Convert numeric to categorical/binning\n",
    "data$mpgcat[data$mpg >= 10 & data$mpg <= 16] = \"Low\"\n",
    "data$mpgcat[data$mpg > 16 & data$mpg <= 20] = \"Medium\"\n",
    "data$mpgcat[data$mpg > 20] = \"High\"\n"
   ]
  },
  {
   "cell_type": "code",
   "execution_count": null,
   "metadata": {},
   "outputs": [],
   "source": [
    "\n",
    "#Convert categorical into numeric\n",
    "voice = c(rep(\"Meduim\", 30), rep(\"Poor\", 30), rep(\"Rich\", 40))\n",
    "voice_factor = factor(voice, labels = (1:length(levels(factor(voice)))))\n",
    "voice_numeric = as.numeric(voice_factor)\n"
   ]
  },
  {
   "cell_type": "code",
   "execution_count": null,
   "metadata": {},
   "outputs": [],
   "source": [
    "\n",
    "#Sorting in ascending order\n",
    "data = data[order(data$cyl),]\n",
    "head(data,n=20)\n"
   ]
  },
  {
   "cell_type": "code",
   "execution_count": null,
   "metadata": {},
   "outputs": [],
   "source": [
    "#Sorting in descending order\n",
    "data = data[order(-data$mpg),]# Negative Sign Shows the \n",
    "head(data,n=20)"
   ]
  },
  {
   "cell_type": "code",
   "execution_count": null,
   "metadata": {},
   "outputs": [],
   "source": [
    "#Merging Two dataframes\n",
    "df1 = data.frame(CustomerId = c(1:6), Product = c(rep(\"Toaster\", 3), rep(\"Radio\", 3)))\n",
    "df2 = data.frame(CustomerId = c(2, 4, 6), State = c(rep(\"Alabama\", 2), rep(\"Ohio\", 1)))\n",
    "df1\n",
    "df2\n",
    "MergedData = merge(df1, df2, by = \"CustomerId\")\n",
    "MergedData"
   ]
  },
  {
   "cell_type": "code",
   "execution_count": null,
   "metadata": {},
   "outputs": [],
   "source": [
    "\n",
    "#Joins\n",
    "LeftJoin = merge(df1, df2, by = \"CustomerId\", all.x = TRUE) #vlookup\n",
    "LeftJoin\n",
    "RightJoin = merge(df1, df2, by = \"CustomerId\",all.y = TRUE)\n",
    "RightJoin\n",
    "CrossJoin = merge(df1, df2, by = NULL)\n",
    "CrossJoin\n"
   ]
  },
  {
   "cell_type": "code",
   "execution_count": null,
   "metadata": {},
   "outputs": [],
   "source": [
    "#Aggregating\n",
    "data = mtcars\n",
    "\n",
    "aggregate(data, by = list(data$gear), mean) #Compute Summary Statistics of Data Subsets\n",
    "\n",
    "aggregate(data, by = list(data$cyl, data$vs), mean)\n",
    "aggregate(data, by = list(data$cyl), sd)\n"
   ]
  },
  {
   "cell_type": "code",
   "execution_count": null,
   "metadata": {},
   "outputs": [],
   "source": [
    "#Gives the observation which have cyl value 6\n",
    "grep(6, data$cyl)\n",
    "data[c(1,2,4,6,10,11,30),]\n",
    "grep(14.3, data$mpg)\n"
   ]
  },
  {
   "cell_type": "code",
   "execution_count": null,
   "metadata": {},
   "outputs": [],
   "source": [
    "#Repalcing one/multiple characters by other\n",
    "text=\"I/work/in/India\"\n",
    "text_1=\"I work in Bengaluru, This city too congested\"\n",
    "gsub(\"city\",\"BLR\",text_1)\n",
    "gsub(\"/\", \"#\", text)\n",
    "\n",
    "x = c(\"This is a sentence about axis\",\n",
    "       \"A second pattern is also listed here\")\n",
    "\n",
    "sub(\"is\", \"XY\", x) #only first occurence\n",
    "gsub(\"is\", \"XY\", x) #All occurence\n"
   ]
  },
  {
   "cell_type": "code",
   "execution_count": null,
   "metadata": {},
   "outputs": [],
   "source": [
    "#remove column by its name\n",
    "data$mpg = NULL\n",
    "rm(list=ls())\n",
    "\n",
    "data=mtcars\n",
    "data"
   ]
  },
  {
   "cell_type": "code",
   "execution_count": null,
   "metadata": {},
   "outputs": [],
   "source": [
    "#convert row.names into a column\n",
    "data = cbind(rownames(data), data)\n",
    "data\n",
    "rownames(data) = NULL\n",
    "data\n",
    "colnames(data)[1] = \"CarNames\"\n",
    "data\n",
    "write.csv(data, \"data_transform.csv\", row.names = F)"
   ]
  },
  {
   "cell_type": "code",
   "execution_count": 8,
   "metadata": {},
   "outputs": [
    {
     "name": "stdout",
     "output_type": "stream",
     "text": [
      "[1] 16\n",
      "[1] 18\n",
      "[1] 9\n",
      "[1] 11\n",
      "[1] 13\n",
      "[1] 15\n",
      "[1] 5\n",
      "[1] 7\n",
      "[1] 2\n",
      "[1] 4\n",
      "[1] 17\n",
      "[1] 19\n",
      "[1] 14\n",
      "[1] 16\n"
     ]
    }
   ],
   "source": [
    "# Lets define vector\n",
    "Player1 = c(16, 9, 13, 5, 2, 17, 14)\n",
    "\n",
    "for (i in Player1) {\n",
    "  print(i)\n",
    "  print(i+2)\n",
    "}\n"
   ]
  },
  {
   "cell_type": "code",
   "execution_count": 40,
   "metadata": {},
   "outputs": [],
   "source": [
    "mov = read.csv(\"Movie_Ratings.csv\", header = T)"
   ]
  },
  {
   "cell_type": "code",
   "execution_count": 34,
   "metadata": {},
   "outputs": [
    {
     "data": {
      "text/html": [
       "<table>\n",
       "<thead><tr><th scope=col>Film</th><th scope=col>Genre</th><th scope=col>Rotten.Tomatoes.Ratings..</th><th scope=col>Audience.Ratings..</th><th scope=col>Budget..million...</th><th scope=col>Year.of.release</th></tr></thead>\n",
       "<tbody>\n",
       "\t<tr><td>(500) Days of Summer </td><td>Comedy               </td><td>87                   </td><td>81                   </td><td>  8                  </td><td>2009                 </td></tr>\n",
       "\t<tr><td>10,000 B.C.          </td><td>Adventure            </td><td> 9                   </td><td>44                   </td><td>105                  </td><td>2008                 </td></tr>\n",
       "\t<tr><td>12 Rounds            </td><td>Action               </td><td>30                   </td><td>52                   </td><td> 20                  </td><td>2009                 </td></tr>\n",
       "\t<tr><td>127 Hours            </td><td>Adventure            </td><td>93                   </td><td>84                   </td><td> 18                  </td><td>2010                 </td></tr>\n",
       "\t<tr><td>17 Again             </td><td>Comedy               </td><td>55                   </td><td>70                   </td><td> 20                  </td><td>2009                 </td></tr>\n",
       "\t<tr><td>2012                 </td><td>Action               </td><td>39                   </td><td>63                   </td><td>200                  </td><td>2009                 </td></tr>\n",
       "</tbody>\n",
       "</table>\n"
      ],
      "text/latex": [
       "\\begin{tabular}{r|llllll}\n",
       " Film & Genre & Rotten.Tomatoes.Ratings.. & Audience.Ratings.. & Budget..million... & Year.of.release\\\\\n",
       "\\hline\n",
       "\t (500) Days of Summer  & Comedy                & 87                    & 81                    &   8                   & 2009                 \\\\\n",
       "\t 10,000 B.C.           & Adventure             &  9                    & 44                    & 105                   & 2008                 \\\\\n",
       "\t 12 Rounds             & Action                & 30                    & 52                    &  20                   & 2009                 \\\\\n",
       "\t 127 Hours             & Adventure             & 93                    & 84                    &  18                   & 2010                 \\\\\n",
       "\t 17 Again              & Comedy                & 55                    & 70                    &  20                   & 2009                 \\\\\n",
       "\t 2012                  & Action                & 39                    & 63                    & 200                   & 2009                 \\\\\n",
       "\\end{tabular}\n"
      ],
      "text/markdown": [
       "\n",
       "Film | Genre | Rotten.Tomatoes.Ratings.. | Audience.Ratings.. | Budget..million... | Year.of.release | \n",
       "|---|---|---|---|---|---|\n",
       "| (500) Days of Summer  | Comedy                | 87                    | 81                    |   8                   | 2009                  | \n",
       "| 10,000 B.C.           | Adventure             |  9                    | 44                    | 105                   | 2008                  | \n",
       "| 12 Rounds             | Action                | 30                    | 52                    |  20                   | 2009                  | \n",
       "| 127 Hours             | Adventure             | 93                    | 84                    |  18                   | 2010                  | \n",
       "| 17 Again              | Comedy                | 55                    | 70                    |  20                   | 2009                  | \n",
       "| 2012                  | Action                | 39                    | 63                    | 200                   | 2009                  | \n",
       "\n",
       "\n"
      ],
      "text/plain": [
       "  Film                  Genre     Rotten.Tomatoes.Ratings.. Audience.Ratings..\n",
       "1 (500) Days of Summer  Comedy    87                        81                \n",
       "2 10,000 B.C.           Adventure  9                        44                \n",
       "3 12 Rounds             Action    30                        52                \n",
       "4 127 Hours             Adventure 93                        84                \n",
       "5 17 Again              Comedy    55                        70                \n",
       "6 2012                  Action    39                        63                \n",
       "  Budget..million... Year.of.release\n",
       "1   8                2009           \n",
       "2 105                2008           \n",
       "3  20                2009           \n",
       "4  18                2010           \n",
       "5  20                2009           \n",
       "6 200                2009           "
      ]
     },
     "metadata": {},
     "output_type": "display_data"
    },
    {
     "name": "stdout",
     "output_type": "stream",
     "text": [
      "'data.frame':\t562 obs. of  6 variables:\n",
      " $ Film                     : Factor w/ 562 levels \"(500) Days of Summer \",..: 1 2 3 4 5 6 7 8 9 10 ...\n",
      " $ Genre                    : Factor w/ 7 levels \"Action\",\"Adventure\",..: 3 2 1 2 3 1 3 5 3 3 ...\n",
      " $ Rotten.Tomatoes.Ratings..: int  87 9 30 93 55 39 40 50 43 93 ...\n",
      " $ Audience.Ratings..       : int  81 44 52 84 70 63 71 57 48 93 ...\n",
      " $ Budget..million...       : int  8 105 20 18 20 200 30 32 28 8 ...\n",
      " $ Year.of.release          : int  2009 2008 2009 2010 2009 2009 2008 2007 2011 2011 ...\n"
     ]
    }
   ],
   "source": [
    "head(mov)\n",
    "str(mov)"
   ]
  },
  {
   "cell_type": "code",
   "execution_count": 35,
   "metadata": {},
   "outputs": [
    {
     "data": {
      "text/html": [
       "<table>\n",
       "<thead><tr><th scope=col>Film</th><th scope=col>Genre</th><th scope=col>Critic_Ratings</th><th scope=col>Audience_Ratings</th><th scope=col>Budget</th><th scope=col>Release_year</th></tr></thead>\n",
       "<tbody>\n",
       "\t<tr><td>(500) Days of Summer </td><td>Comedy               </td><td>87                   </td><td>81                   </td><td>  8                  </td><td>2009                 </td></tr>\n",
       "\t<tr><td>10,000 B.C.          </td><td>Adventure            </td><td> 9                   </td><td>44                   </td><td>105                  </td><td>2008                 </td></tr>\n",
       "\t<tr><td>12 Rounds            </td><td>Action               </td><td>30                   </td><td>52                   </td><td> 20                  </td><td>2009                 </td></tr>\n",
       "\t<tr><td>127 Hours            </td><td>Adventure            </td><td>93                   </td><td>84                   </td><td> 18                  </td><td>2010                 </td></tr>\n",
       "\t<tr><td>17 Again             </td><td>Comedy               </td><td>55                   </td><td>70                   </td><td> 20                  </td><td>2009                 </td></tr>\n",
       "\t<tr><td>2012                 </td><td>Action               </td><td>39                   </td><td>63                   </td><td>200                  </td><td>2009                 </td></tr>\n",
       "</tbody>\n",
       "</table>\n"
      ],
      "text/latex": [
       "\\begin{tabular}{r|llllll}\n",
       " Film & Genre & Critic\\_Ratings & Audience\\_Ratings & Budget & Release\\_year\\\\\n",
       "\\hline\n",
       "\t (500) Days of Summer  & Comedy                & 87                    & 81                    &   8                   & 2009                 \\\\\n",
       "\t 10,000 B.C.           & Adventure             &  9                    & 44                    & 105                   & 2008                 \\\\\n",
       "\t 12 Rounds             & Action                & 30                    & 52                    &  20                   & 2009                 \\\\\n",
       "\t 127 Hours             & Adventure             & 93                    & 84                    &  18                   & 2010                 \\\\\n",
       "\t 17 Again              & Comedy                & 55                    & 70                    &  20                   & 2009                 \\\\\n",
       "\t 2012                  & Action                & 39                    & 63                    & 200                   & 2009                 \\\\\n",
       "\\end{tabular}\n"
      ],
      "text/markdown": [
       "\n",
       "Film | Genre | Critic_Ratings | Audience_Ratings | Budget | Release_year | \n",
       "|---|---|---|---|---|---|\n",
       "| (500) Days of Summer  | Comedy                | 87                    | 81                    |   8                   | 2009                  | \n",
       "| 10,000 B.C.           | Adventure             |  9                    | 44                    | 105                   | 2008                  | \n",
       "| 12 Rounds             | Action                | 30                    | 52                    |  20                   | 2009                  | \n",
       "| 127 Hours             | Adventure             | 93                    | 84                    |  18                   | 2010                  | \n",
       "| 17 Again              | Comedy                | 55                    | 70                    |  20                   | 2009                  | \n",
       "| 2012                  | Action                | 39                    | 63                    | 200                   | 2009                  | \n",
       "\n",
       "\n"
      ],
      "text/plain": [
       "  Film                  Genre     Critic_Ratings Audience_Ratings Budget\n",
       "1 (500) Days of Summer  Comedy    87             81                 8   \n",
       "2 10,000 B.C.           Adventure  9             44               105   \n",
       "3 12 Rounds             Action    30             52                20   \n",
       "4 127 Hours             Adventure 93             84                18   \n",
       "5 17 Again              Comedy    55             70                20   \n",
       "6 2012                  Action    39             63               200   \n",
       "  Release_year\n",
       "1 2009        \n",
       "2 2008        \n",
       "3 2009        \n",
       "4 2010        \n",
       "5 2009        \n",
       "6 2009        "
      ]
     },
     "metadata": {},
     "output_type": "display_data"
    }
   ],
   "source": [
    "colnames(mov)=c(Film=\"Film\",Genre=\"Genre\",Rotten.Tomatoes.Ratings..=\"Critic_Ratings\",\n",
    "                Audience.Ratings..=\"Audience_Ratings\",Budget..million...=\"Budget\",Year.of.release=\"Release_year\")\n",
    "head(mov)"
   ]
  },
  {
   "cell_type": "code",
   "execution_count": 37,
   "metadata": {},
   "outputs": [],
   "source": [
    "mov2<-mov\n",
    "for(i in 1:nrow(mov2)){\n",
    "    if(mov2$Release_year[i]==2009){\n",
    "        mov2$new_col[i]=1\n",
    "    }else{\n",
    "        mov2$new_col[i]=0\n",
    "         }\n",
    "}\n",
    "\n"
   ]
  },
  {
   "cell_type": "code",
   "execution_count": 38,
   "metadata": {},
   "outputs": [
    {
     "data": {
      "text/html": [
       "<table>\n",
       "<thead><tr><th scope=col>Film</th><th scope=col>Genre</th><th scope=col>Critic_Ratings</th><th scope=col>Audience_Ratings</th><th scope=col>Budget</th><th scope=col>Release_year</th><th scope=col>new_col</th></tr></thead>\n",
       "<tbody>\n",
       "\t<tr><td>(500) Days of Summer             </td><td>Comedy                           </td><td>87                               </td><td>81                               </td><td>  8                              </td><td>2009                             </td><td>1                                </td></tr>\n",
       "\t<tr><td>10,000 B.C.                      </td><td>Adventure                        </td><td> 9                               </td><td>44                               </td><td>105                              </td><td>2008                             </td><td>0                                </td></tr>\n",
       "\t<tr><td>12 Rounds                        </td><td>Action                           </td><td>30                               </td><td>52                               </td><td> 20                              </td><td>2009                             </td><td>1                                </td></tr>\n",
       "\t<tr><td>127 Hours                        </td><td>Adventure                        </td><td>93                               </td><td>84                               </td><td> 18                              </td><td>2010                             </td><td>0                                </td></tr>\n",
       "\t<tr><td>17 Again                         </td><td>Comedy                           </td><td>55                               </td><td>70                               </td><td> 20                              </td><td>2009                             </td><td>1                                </td></tr>\n",
       "\t<tr><td>2012                             </td><td>Action                           </td><td>39                               </td><td>63                               </td><td>200                              </td><td>2009                             </td><td>1                                </td></tr>\n",
       "\t<tr><td>27 Dresses                       </td><td>Comedy                           </td><td>40                               </td><td>71                               </td><td> 30                              </td><td>2008                             </td><td>0                                </td></tr>\n",
       "\t<tr><td>30 Days of Night                 </td><td>Horror                           </td><td>50                               </td><td>57                               </td><td> 32                              </td><td>2007                             </td><td>0                                </td></tr>\n",
       "\t<tr><td>30 Minutes or Less               </td><td>Comedy                           </td><td>43                               </td><td>48                               </td><td> 28                              </td><td>2011                             </td><td>0                                </td></tr>\n",
       "\t<tr><td>50/50                            </td><td>Comedy                           </td><td>93                               </td><td>93                               </td><td>  8                              </td><td>2011                             </td><td>0                                </td></tr>\n",
       "\t<tr><td>88 Minutes                       </td><td>Drama                            </td><td> 5                               </td><td>51                               </td><td> 30                              </td><td>2007                             </td><td>0                                </td></tr>\n",
       "\t<tr><td>A Dangerous Method               </td><td>Drama                            </td><td>79                               </td><td>89                               </td><td> 20                              </td><td>2011                             </td><td>0                                </td></tr>\n",
       "\t<tr><td>A Nightmare on Elm Street        </td><td>Horror                           </td><td>13                               </td><td>40                               </td><td> 35                              </td><td>2010                             </td><td>0                                </td></tr>\n",
       "\t<tr><td>A Serious Man                    </td><td>Drama                            </td><td>89                               </td><td>64                               </td><td>  7                              </td><td>2009                             </td><td>1                                </td></tr>\n",
       "\t<tr><td>A Very Harold and Kumar Christmas</td><td>Comedy                           </td><td>72                               </td><td>71                               </td><td> 19                              </td><td>2011                             </td><td>0                                </td></tr>\n",
       "\t<tr><td>Abduction                        </td><td>Action                           </td><td> 4                               </td><td>46                               </td><td> 35                              </td><td>2011                             </td><td>0                                </td></tr>\n",
       "\t<tr><td>Across the Universe              </td><td>Romance                          </td><td>54                               </td><td>84                               </td><td> 45                              </td><td>2007                             </td><td>0                                </td></tr>\n",
       "\t<tr><td>Adventureland                    </td><td>Comedy                           </td><td>89                               </td><td>56                               </td><td> 10                              </td><td>2009                             </td><td>1                                </td></tr>\n",
       "\t<tr><td>Albert Nobbs                     </td><td>Drama                            </td><td>53                               </td><td>43                               </td><td>  8                              </td><td>2011                             </td><td>0                                </td></tr>\n",
       "\t<tr><td>Alice in Wonderland              </td><td>Adventure                        </td><td>52                               </td><td>72                               </td><td>200                              </td><td>2010                             </td><td>0                                </td></tr>\n",
       "\t<tr><td>Alien vs. Predator -- Requiem    </td><td>Horror                           </td><td>14                               </td><td>37                               </td><td> 40                              </td><td>2007                             </td><td>0                                </td></tr>\n",
       "\t<tr><td>Aliens in the Attic              </td><td>Adventure                        </td><td>30                               </td><td>46                               </td><td> 45                              </td><td>2009                             </td><td>1                                </td></tr>\n",
       "\t<tr><td>All About Steve                  </td><td>Comedy                           </td><td> 6                               </td><td>35                               </td><td> 15                              </td><td>2009                             </td><td>1                                </td></tr>\n",
       "\t<tr><td>All Good Things                  </td><td>Drama                            </td><td>33                               </td><td>64                               </td><td> 20                              </td><td>2010                             </td><td>0                                </td></tr>\n",
       "\t<tr><td>Amelia                           </td><td>Adventure                        </td><td>21                               </td><td>35                               </td><td> 40                              </td><td>2009                             </td><td>1                                </td></tr>\n",
       "\t<tr><td>American Gangster                </td><td>Thriller                         </td><td>79                               </td><td>87                               </td><td>100                              </td><td>2007                             </td><td>0                                </td></tr>\n",
       "\t<tr><td>An Education                     </td><td>Drama                            </td><td>94                               </td><td>78                               </td><td>  8                              </td><td>2009                             </td><td>1                                </td></tr>\n",
       "\t<tr><td>Anonymous                        </td><td>Drama                            </td><td>46                               </td><td>66                               </td><td> 30                              </td><td>2011                             </td><td>0                                </td></tr>\n",
       "\t<tr><td>Apollo 18                        </td><td>Horror                           </td><td>23                               </td><td>31                               </td><td>  5                              </td><td>2011                             </td><td>0                                </td></tr>\n",
       "\t<tr><td>Appaloosa                        </td><td>Action                           </td><td>77                               </td><td>55                               </td><td> 20                              </td><td>2008                             </td><td>0                                </td></tr>\n",
       "\t<tr><td>⋮</td><td>⋮</td><td>⋮</td><td>⋮</td><td>⋮</td><td>⋮</td><td>⋮</td></tr>\n",
       "\t<tr><td>Warrior                           </td><td>Action                            </td><td>83                                </td><td>93                                </td><td> 25                               </td><td>2011                              </td><td>0                                 </td></tr>\n",
       "\t<tr><td>Watchmen                          </td><td>Action                            </td><td>64                                </td><td>68                                </td><td>130                               </td><td>2009                              </td><td>1                                 </td></tr>\n",
       "\t<tr><td>Water For Elephants               </td><td>Drama                             </td><td>60                                </td><td>72                                </td><td> 38                               </td><td>2011                              </td><td>0                                 </td></tr>\n",
       "\t<tr><td>We Bought a Zoo                   </td><td>Comedy                            </td><td>63                                </td><td>79                                </td><td> 50                               </td><td>2011                              </td><td>0                                 </td></tr>\n",
       "\t<tr><td>We Own the Night                  </td><td>Drama                             </td><td>55                                </td><td>63                                </td><td> 21                               </td><td>2007                              </td><td>0                                 </td></tr>\n",
       "\t<tr><td>Welcome Home, Roscoe Jenkins      </td><td>Comedy                            </td><td>24                                </td><td>64                                </td><td> 35                               </td><td>2008                              </td><td>0                                 </td></tr>\n",
       "\t<tr><td>What Happens in Vegas             </td><td>Comedy                            </td><td>28                                </td><td>72                                </td><td> 35                               </td><td>2008                              </td><td>0                                 </td></tr>\n",
       "\t<tr><td>What's Your Number                </td><td>Comedy                            </td><td>24                                </td><td>50                                </td><td> 20                               </td><td>2011                              </td><td>0                                 </td></tr>\n",
       "\t<tr><td>Whatever Works                    </td><td>Comedy                            </td><td>50                                </td><td>63                                </td><td> 15                               </td><td>2009                              </td><td>1                                 </td></tr>\n",
       "\t<tr><td>When in Rome                      </td><td>Comedy                            </td><td>15                                </td><td>44                                </td><td>  0                               </td><td>2010                              </td><td>0                                 </td></tr>\n",
       "\t<tr><td>Where the Wild Things Are         </td><td>Adventure                         </td><td>73                                </td><td>59                                </td><td>100                               </td><td>2009                              </td><td>1                                 </td></tr>\n",
       "\t<tr><td>Whip It                           </td><td>Drama                             </td><td>84                                </td><td>73                                </td><td> 15                               </td><td>2009                              </td><td>1                                 </td></tr>\n",
       "\t<tr><td>Whiteout                          </td><td>Action                            </td><td> 7                                </td><td>28                                </td><td> 35                               </td><td>2009                              </td><td>1                                 </td></tr>\n",
       "\t<tr><td>Why Did I Get Married Too?        </td><td>Comedy                            </td><td>27                                </td><td>67                                </td><td> 20                               </td><td>2010                              </td><td>0                                 </td></tr>\n",
       "\t<tr><td>Wild Hogs                         </td><td>Comedy                            </td><td>14                                </td><td>72                                </td><td> 90                               </td><td>2007                              </td><td>0                                 </td></tr>\n",
       "\t<tr><td>Winter's Bone                     </td><td>Drama                             </td><td>94                                </td><td>73                                </td><td>  2                               </td><td>2010                              </td><td>0                                 </td></tr>\n",
       "\t<tr><td>X-Men Origins: Wolverine          </td><td>Action                            </td><td>37                                </td><td>72                                </td><td>150                               </td><td>2009                              </td><td>1                                 </td></tr>\n",
       "\t<tr><td>X-Men: First Class                </td><td>Action                            </td><td>87                                </td><td>88                                </td><td>160                               </td><td>2011                              </td><td>0                                 </td></tr>\n",
       "\t<tr><td>Year One                          </td><td>Adventure                         </td><td>14                                </td><td>31                                </td><td> 60                               </td><td>2009                              </td><td>1                                 </td></tr>\n",
       "\t<tr><td>Yes Man                           </td><td>Comedy                            </td><td>43                                </td><td>72                                </td><td> 70                               </td><td>2008                              </td><td>0                                 </td></tr>\n",
       "\t<tr><td>Yogi Bear                         </td><td>Comedy                            </td><td>14                                </td><td>36                                </td><td> 80                               </td><td>2010                              </td><td>0                                 </td></tr>\n",
       "\t<tr><td>You Again                         </td><td>Comedy                            </td><td>18                                </td><td>45                                </td><td> 20                               </td><td>2010                              </td><td>0                                 </td></tr>\n",
       "\t<tr><td>You Don't Mess with the Zohan     </td><td>Comedy                            </td><td>36                                </td><td>50                                </td><td> 80                               </td><td>2008                              </td><td>0                                 </td></tr>\n",
       "\t<tr><td>You Will Meet a Tall Dark Stranger</td><td>Comedy                            </td><td>43                                </td><td>35                                </td><td> 22                               </td><td>2010                              </td><td>0                                 </td></tr>\n",
       "\t<tr><td>Your Highness                     </td><td>Comedy                            </td><td>26                                </td><td>36                                </td><td> 50                               </td><td>2011                              </td><td>0                                 </td></tr>\n",
       "\t<tr><td>Youth in Revolt                   </td><td>Comedy                            </td><td>68                                </td><td>52                                </td><td> 18                               </td><td>2009                              </td><td>1                                 </td></tr>\n",
       "\t<tr><td>Zack and Miri Make a Porno        </td><td>Romance                           </td><td>64                                </td><td>70                                </td><td> 24                               </td><td>2008                              </td><td>0                                 </td></tr>\n",
       "\t<tr><td>Zodiac                            </td><td>Thriller                          </td><td>89                                </td><td>73                                </td><td> 65                               </td><td>2007                              </td><td>0                                 </td></tr>\n",
       "\t<tr><td>Zombieland                        </td><td>Action                            </td><td>90                                </td><td>87                                </td><td> 24                               </td><td>2009                              </td><td>1                                 </td></tr>\n",
       "\t<tr><td>Zookeeper                         </td><td>Comedy                            </td><td>14                                </td><td>42                                </td><td> 80                               </td><td>2011                              </td><td>0                                 </td></tr>\n",
       "</tbody>\n",
       "</table>\n"
      ],
      "text/latex": [
       "\\begin{tabular}{r|lllllll}\n",
       " Film & Genre & Critic\\_Ratings & Audience\\_Ratings & Budget & Release\\_year & new\\_col\\\\\n",
       "\\hline\n",
       "\t (500) Days of Summer              & Comedy                            & 87                                & 81                                &   8                               & 2009                              & 1                                \\\\\n",
       "\t 10,000 B.C.                       & Adventure                         &  9                                & 44                                & 105                               & 2008                              & 0                                \\\\\n",
       "\t 12 Rounds                         & Action                            & 30                                & 52                                &  20                               & 2009                              & 1                                \\\\\n",
       "\t 127 Hours                         & Adventure                         & 93                                & 84                                &  18                               & 2010                              & 0                                \\\\\n",
       "\t 17 Again                          & Comedy                            & 55                                & 70                                &  20                               & 2009                              & 1                                \\\\\n",
       "\t 2012                              & Action                            & 39                                & 63                                & 200                               & 2009                              & 1                                \\\\\n",
       "\t 27 Dresses                        & Comedy                            & 40                                & 71                                &  30                               & 2008                              & 0                                \\\\\n",
       "\t 30 Days of Night                  & Horror                            & 50                                & 57                                &  32                               & 2007                              & 0                                \\\\\n",
       "\t 30 Minutes or Less                & Comedy                            & 43                                & 48                                &  28                               & 2011                              & 0                                \\\\\n",
       "\t 50/50                             & Comedy                            & 93                                & 93                                &   8                               & 2011                              & 0                                \\\\\n",
       "\t 88 Minutes                        & Drama                             &  5                                & 51                                &  30                               & 2007                              & 0                                \\\\\n",
       "\t A Dangerous Method                & Drama                             & 79                                & 89                                &  20                               & 2011                              & 0                                \\\\\n",
       "\t A Nightmare on Elm Street         & Horror                            & 13                                & 40                                &  35                               & 2010                              & 0                                \\\\\n",
       "\t A Serious Man                     & Drama                             & 89                                & 64                                &   7                               & 2009                              & 1                                \\\\\n",
       "\t A Very Harold and Kumar Christmas & Comedy                            & 72                                & 71                                &  19                               & 2011                              & 0                                \\\\\n",
       "\t Abduction                         & Action                            &  4                                & 46                                &  35                               & 2011                              & 0                                \\\\\n",
       "\t Across the Universe               & Romance                           & 54                                & 84                                &  45                               & 2007                              & 0                                \\\\\n",
       "\t Adventureland                     & Comedy                            & 89                                & 56                                &  10                               & 2009                              & 1                                \\\\\n",
       "\t Albert Nobbs                      & Drama                             & 53                                & 43                                &   8                               & 2011                              & 0                                \\\\\n",
       "\t Alice in Wonderland               & Adventure                         & 52                                & 72                                & 200                               & 2010                              & 0                                \\\\\n",
       "\t Alien vs. Predator -- Requiem     & Horror                            & 14                                & 37                                &  40                               & 2007                              & 0                                \\\\\n",
       "\t Aliens in the Attic               & Adventure                         & 30                                & 46                                &  45                               & 2009                              & 1                                \\\\\n",
       "\t All About Steve                   & Comedy                            &  6                                & 35                                &  15                               & 2009                              & 1                                \\\\\n",
       "\t All Good Things                   & Drama                             & 33                                & 64                                &  20                               & 2010                              & 0                                \\\\\n",
       "\t Amelia                            & Adventure                         & 21                                & 35                                &  40                               & 2009                              & 1                                \\\\\n",
       "\t American Gangster                 & Thriller                          & 79                                & 87                                & 100                               & 2007                              & 0                                \\\\\n",
       "\t An Education                      & Drama                             & 94                                & 78                                &   8                               & 2009                              & 1                                \\\\\n",
       "\t Anonymous                         & Drama                             & 46                                & 66                                &  30                               & 2011                              & 0                                \\\\\n",
       "\t Apollo 18                         & Horror                            & 23                                & 31                                &   5                               & 2011                              & 0                                \\\\\n",
       "\t Appaloosa                         & Action                            & 77                                & 55                                &  20                               & 2008                              & 0                                \\\\\n",
       "\t ⋮ & ⋮ & ⋮ & ⋮ & ⋮ & ⋮ & ⋮\\\\\n",
       "\t Warrior                            & Action                             & 83                                 & 93                                 &  25                                & 2011                               & 0                                 \\\\\n",
       "\t Watchmen                           & Action                             & 64                                 & 68                                 & 130                                & 2009                               & 1                                 \\\\\n",
       "\t Water For Elephants                & Drama                              & 60                                 & 72                                 &  38                                & 2011                               & 0                                 \\\\\n",
       "\t We Bought a Zoo                    & Comedy                             & 63                                 & 79                                 &  50                                & 2011                               & 0                                 \\\\\n",
       "\t We Own the Night                   & Drama                              & 55                                 & 63                                 &  21                                & 2007                               & 0                                 \\\\\n",
       "\t Welcome Home, Roscoe Jenkins       & Comedy                             & 24                                 & 64                                 &  35                                & 2008                               & 0                                 \\\\\n",
       "\t What Happens in Vegas              & Comedy                             & 28                                 & 72                                 &  35                                & 2008                               & 0                                 \\\\\n",
       "\t What's Your Number                 & Comedy                             & 24                                 & 50                                 &  20                                & 2011                               & 0                                 \\\\\n",
       "\t Whatever Works                     & Comedy                             & 50                                 & 63                                 &  15                                & 2009                               & 1                                 \\\\\n",
       "\t When in Rome                       & Comedy                             & 15                                 & 44                                 &   0                                & 2010                               & 0                                 \\\\\n",
       "\t Where the Wild Things Are          & Adventure                          & 73                                 & 59                                 & 100                                & 2009                               & 1                                 \\\\\n",
       "\t Whip It                            & Drama                              & 84                                 & 73                                 &  15                                & 2009                               & 1                                 \\\\\n",
       "\t Whiteout                           & Action                             &  7                                 & 28                                 &  35                                & 2009                               & 1                                 \\\\\n",
       "\t Why Did I Get Married Too?         & Comedy                             & 27                                 & 67                                 &  20                                & 2010                               & 0                                 \\\\\n",
       "\t Wild Hogs                          & Comedy                             & 14                                 & 72                                 &  90                                & 2007                               & 0                                 \\\\\n",
       "\t Winter's Bone                      & Drama                              & 94                                 & 73                                 &   2                                & 2010                               & 0                                 \\\\\n",
       "\t X-Men Origins: Wolverine           & Action                             & 37                                 & 72                                 & 150                                & 2009                               & 1                                 \\\\\n",
       "\t X-Men: First Class                 & Action                             & 87                                 & 88                                 & 160                                & 2011                               & 0                                 \\\\\n",
       "\t Year One                           & Adventure                          & 14                                 & 31                                 &  60                                & 2009                               & 1                                 \\\\\n",
       "\t Yes Man                            & Comedy                             & 43                                 & 72                                 &  70                                & 2008                               & 0                                 \\\\\n",
       "\t Yogi Bear                          & Comedy                             & 14                                 & 36                                 &  80                                & 2010                               & 0                                 \\\\\n",
       "\t You Again                          & Comedy                             & 18                                 & 45                                 &  20                                & 2010                               & 0                                 \\\\\n",
       "\t You Don't Mess with the Zohan      & Comedy                             & 36                                 & 50                                 &  80                                & 2008                               & 0                                 \\\\\n",
       "\t You Will Meet a Tall Dark Stranger & Comedy                             & 43                                 & 35                                 &  22                                & 2010                               & 0                                 \\\\\n",
       "\t Your Highness                      & Comedy                             & 26                                 & 36                                 &  50                                & 2011                               & 0                                 \\\\\n",
       "\t Youth in Revolt                    & Comedy                             & 68                                 & 52                                 &  18                                & 2009                               & 1                                 \\\\\n",
       "\t Zack and Miri Make a Porno         & Romance                            & 64                                 & 70                                 &  24                                & 2008                               & 0                                 \\\\\n",
       "\t Zodiac                             & Thriller                           & 89                                 & 73                                 &  65                                & 2007                               & 0                                 \\\\\n",
       "\t Zombieland                         & Action                             & 90                                 & 87                                 &  24                                & 2009                               & 1                                 \\\\\n",
       "\t Zookeeper                          & Comedy                             & 14                                 & 42                                 &  80                                & 2011                               & 0                                 \\\\\n",
       "\\end{tabular}\n"
      ],
      "text/markdown": [
       "\n",
       "Film | Genre | Critic_Ratings | Audience_Ratings | Budget | Release_year | new_col | \n",
       "|---|---|---|---|---|---|---|---|---|---|---|---|---|---|---|---|---|---|---|---|---|---|---|---|---|---|---|---|---|---|---|---|---|---|---|---|---|---|---|---|---|---|---|---|---|---|---|---|---|---|---|---|---|---|---|---|---|---|---|---|---|\n",
       "| (500) Days of Summer              | Comedy                            | 87                                | 81                                |   8                               | 2009                              | 1                                 | \n",
       "| 10,000 B.C.                       | Adventure                         |  9                                | 44                                | 105                               | 2008                              | 0                                 | \n",
       "| 12 Rounds                         | Action                            | 30                                | 52                                |  20                               | 2009                              | 1                                 | \n",
       "| 127 Hours                         | Adventure                         | 93                                | 84                                |  18                               | 2010                              | 0                                 | \n",
       "| 17 Again                          | Comedy                            | 55                                | 70                                |  20                               | 2009                              | 1                                 | \n",
       "| 2012                              | Action                            | 39                                | 63                                | 200                               | 2009                              | 1                                 | \n",
       "| 27 Dresses                        | Comedy                            | 40                                | 71                                |  30                               | 2008                              | 0                                 | \n",
       "| 30 Days of Night                  | Horror                            | 50                                | 57                                |  32                               | 2007                              | 0                                 | \n",
       "| 30 Minutes or Less                | Comedy                            | 43                                | 48                                |  28                               | 2011                              | 0                                 | \n",
       "| 50/50                             | Comedy                            | 93                                | 93                                |   8                               | 2011                              | 0                                 | \n",
       "| 88 Minutes                        | Drama                             |  5                                | 51                                |  30                               | 2007                              | 0                                 | \n",
       "| A Dangerous Method                | Drama                             | 79                                | 89                                |  20                               | 2011                              | 0                                 | \n",
       "| A Nightmare on Elm Street         | Horror                            | 13                                | 40                                |  35                               | 2010                              | 0                                 | \n",
       "| A Serious Man                     | Drama                             | 89                                | 64                                |   7                               | 2009                              | 1                                 | \n",
       "| A Very Harold and Kumar Christmas | Comedy                            | 72                                | 71                                |  19                               | 2011                              | 0                                 | \n",
       "| Abduction                         | Action                            |  4                                | 46                                |  35                               | 2011                              | 0                                 | \n",
       "| Across the Universe               | Romance                           | 54                                | 84                                |  45                               | 2007                              | 0                                 | \n",
       "| Adventureland                     | Comedy                            | 89                                | 56                                |  10                               | 2009                              | 1                                 | \n",
       "| Albert Nobbs                      | Drama                             | 53                                | 43                                |   8                               | 2011                              | 0                                 | \n",
       "| Alice in Wonderland               | Adventure                         | 52                                | 72                                | 200                               | 2010                              | 0                                 | \n",
       "| Alien vs. Predator -- Requiem     | Horror                            | 14                                | 37                                |  40                               | 2007                              | 0                                 | \n",
       "| Aliens in the Attic               | Adventure                         | 30                                | 46                                |  45                               | 2009                              | 1                                 | \n",
       "| All About Steve                   | Comedy                            |  6                                | 35                                |  15                               | 2009                              | 1                                 | \n",
       "| All Good Things                   | Drama                             | 33                                | 64                                |  20                               | 2010                              | 0                                 | \n",
       "| Amelia                            | Adventure                         | 21                                | 35                                |  40                               | 2009                              | 1                                 | \n",
       "| American Gangster                 | Thriller                          | 79                                | 87                                | 100                               | 2007                              | 0                                 | \n",
       "| An Education                      | Drama                             | 94                                | 78                                |   8                               | 2009                              | 1                                 | \n",
       "| Anonymous                         | Drama                             | 46                                | 66                                |  30                               | 2011                              | 0                                 | \n",
       "| Apollo 18                         | Horror                            | 23                                | 31                                |   5                               | 2011                              | 0                                 | \n",
       "| Appaloosa                         | Action                            | 77                                | 55                                |  20                               | 2008                              | 0                                 | \n",
       "| ⋮ | ⋮ | ⋮ | ⋮ | ⋮ | ⋮ | ⋮ | \n",
       "| Warrior                            | Action                             | 83                                 | 93                                 |  25                                | 2011                               | 0                                  | \n",
       "| Watchmen                           | Action                             | 64                                 | 68                                 | 130                                | 2009                               | 1                                  | \n",
       "| Water For Elephants                | Drama                              | 60                                 | 72                                 |  38                                | 2011                               | 0                                  | \n",
       "| We Bought a Zoo                    | Comedy                             | 63                                 | 79                                 |  50                                | 2011                               | 0                                  | \n",
       "| We Own the Night                   | Drama                              | 55                                 | 63                                 |  21                                | 2007                               | 0                                  | \n",
       "| Welcome Home, Roscoe Jenkins       | Comedy                             | 24                                 | 64                                 |  35                                | 2008                               | 0                                  | \n",
       "| What Happens in Vegas              | Comedy                             | 28                                 | 72                                 |  35                                | 2008                               | 0                                  | \n",
       "| What's Your Number                 | Comedy                             | 24                                 | 50                                 |  20                                | 2011                               | 0                                  | \n",
       "| Whatever Works                     | Comedy                             | 50                                 | 63                                 |  15                                | 2009                               | 1                                  | \n",
       "| When in Rome                       | Comedy                             | 15                                 | 44                                 |   0                                | 2010                               | 0                                  | \n",
       "| Where the Wild Things Are          | Adventure                          | 73                                 | 59                                 | 100                                | 2009                               | 1                                  | \n",
       "| Whip It                            | Drama                              | 84                                 | 73                                 |  15                                | 2009                               | 1                                  | \n",
       "| Whiteout                           | Action                             |  7                                 | 28                                 |  35                                | 2009                               | 1                                  | \n",
       "| Why Did I Get Married Too?         | Comedy                             | 27                                 | 67                                 |  20                                | 2010                               | 0                                  | \n",
       "| Wild Hogs                          | Comedy                             | 14                                 | 72                                 |  90                                | 2007                               | 0                                  | \n",
       "| Winter's Bone                      | Drama                              | 94                                 | 73                                 |   2                                | 2010                               | 0                                  | \n",
       "| X-Men Origins: Wolverine           | Action                             | 37                                 | 72                                 | 150                                | 2009                               | 1                                  | \n",
       "| X-Men: First Class                 | Action                             | 87                                 | 88                                 | 160                                | 2011                               | 0                                  | \n",
       "| Year One                           | Adventure                          | 14                                 | 31                                 |  60                                | 2009                               | 1                                  | \n",
       "| Yes Man                            | Comedy                             | 43                                 | 72                                 |  70                                | 2008                               | 0                                  | \n",
       "| Yogi Bear                          | Comedy                             | 14                                 | 36                                 |  80                                | 2010                               | 0                                  | \n",
       "| You Again                          | Comedy                             | 18                                 | 45                                 |  20                                | 2010                               | 0                                  | \n",
       "| You Don't Mess with the Zohan      | Comedy                             | 36                                 | 50                                 |  80                                | 2008                               | 0                                  | \n",
       "| You Will Meet a Tall Dark Stranger | Comedy                             | 43                                 | 35                                 |  22                                | 2010                               | 0                                  | \n",
       "| Your Highness                      | Comedy                             | 26                                 | 36                                 |  50                                | 2011                               | 0                                  | \n",
       "| Youth in Revolt                    | Comedy                             | 68                                 | 52                                 |  18                                | 2009                               | 1                                  | \n",
       "| Zack and Miri Make a Porno         | Romance                            | 64                                 | 70                                 |  24                                | 2008                               | 0                                  | \n",
       "| Zodiac                             | Thriller                           | 89                                 | 73                                 |  65                                | 2007                               | 0                                  | \n",
       "| Zombieland                         | Action                             | 90                                 | 87                                 |  24                                | 2009                               | 1                                  | \n",
       "| Zookeeper                          | Comedy                             | 14                                 | 42                                 |  80                                | 2011                               | 0                                  | \n",
       "\n",
       "\n"
      ],
      "text/plain": [
       "    Film                               Genre     Critic_Ratings\n",
       "1   (500) Days of Summer               Comedy    87            \n",
       "2   10,000 B.C.                        Adventure  9            \n",
       "3   12 Rounds                          Action    30            \n",
       "4   127 Hours                          Adventure 93            \n",
       "5   17 Again                           Comedy    55            \n",
       "6   2012                               Action    39            \n",
       "7   27 Dresses                         Comedy    40            \n",
       "8   30 Days of Night                   Horror    50            \n",
       "9   30 Minutes or Less                 Comedy    43            \n",
       "10  50/50                              Comedy    93            \n",
       "11  88 Minutes                         Drama      5            \n",
       "12  A Dangerous Method                 Drama     79            \n",
       "13  A Nightmare on Elm Street          Horror    13            \n",
       "14  A Serious Man                      Drama     89            \n",
       "15  A Very Harold and Kumar Christmas  Comedy    72            \n",
       "16  Abduction                          Action     4            \n",
       "17  Across the Universe                Romance   54            \n",
       "18  Adventureland                      Comedy    89            \n",
       "19  Albert Nobbs                       Drama     53            \n",
       "20  Alice in Wonderland                Adventure 52            \n",
       "21  Alien vs. Predator -- Requiem      Horror    14            \n",
       "22  Aliens in the Attic                Adventure 30            \n",
       "23  All About Steve                    Comedy     6            \n",
       "24  All Good Things                    Drama     33            \n",
       "25  Amelia                             Adventure 21            \n",
       "26  American Gangster                  Thriller  79            \n",
       "27  An Education                       Drama     94            \n",
       "28  Anonymous                          Drama     46            \n",
       "29  Apollo 18                          Horror    23            \n",
       "30  Appaloosa                          Action    77            \n",
       "⋮   ⋮                                  ⋮         ⋮             \n",
       "533 Warrior                            Action    83            \n",
       "534 Watchmen                           Action    64            \n",
       "535 Water For Elephants                Drama     60            \n",
       "536 We Bought a Zoo                    Comedy    63            \n",
       "537 We Own the Night                   Drama     55            \n",
       "538 Welcome Home, Roscoe Jenkins       Comedy    24            \n",
       "539 What Happens in Vegas              Comedy    28            \n",
       "540 What's Your Number                 Comedy    24            \n",
       "541 Whatever Works                     Comedy    50            \n",
       "542 When in Rome                       Comedy    15            \n",
       "543 Where the Wild Things Are          Adventure 73            \n",
       "544 Whip It                            Drama     84            \n",
       "545 Whiteout                           Action     7            \n",
       "546 Why Did I Get Married Too?         Comedy    27            \n",
       "547 Wild Hogs                          Comedy    14            \n",
       "548 Winter's Bone                      Drama     94            \n",
       "549 X-Men Origins: Wolverine           Action    37            \n",
       "550 X-Men: First Class                 Action    87            \n",
       "551 Year One                           Adventure 14            \n",
       "552 Yes Man                            Comedy    43            \n",
       "553 Yogi Bear                          Comedy    14            \n",
       "554 You Again                          Comedy    18            \n",
       "555 You Don't Mess with the Zohan      Comedy    36            \n",
       "556 You Will Meet a Tall Dark Stranger Comedy    43            \n",
       "557 Your Highness                      Comedy    26            \n",
       "558 Youth in Revolt                    Comedy    68            \n",
       "559 Zack and Miri Make a Porno         Romance   64            \n",
       "560 Zodiac                             Thriller  89            \n",
       "561 Zombieland                         Action    90            \n",
       "562 Zookeeper                          Comedy    14            \n",
       "    Audience_Ratings Budget Release_year new_col\n",
       "1   81                 8    2009         1      \n",
       "2   44               105    2008         0      \n",
       "3   52                20    2009         1      \n",
       "4   84                18    2010         0      \n",
       "5   70                20    2009         1      \n",
       "6   63               200    2009         1      \n",
       "7   71                30    2008         0      \n",
       "8   57                32    2007         0      \n",
       "9   48                28    2011         0      \n",
       "10  93                 8    2011         0      \n",
       "11  51                30    2007         0      \n",
       "12  89                20    2011         0      \n",
       "13  40                35    2010         0      \n",
       "14  64                 7    2009         1      \n",
       "15  71                19    2011         0      \n",
       "16  46                35    2011         0      \n",
       "17  84                45    2007         0      \n",
       "18  56                10    2009         1      \n",
       "19  43                 8    2011         0      \n",
       "20  72               200    2010         0      \n",
       "21  37                40    2007         0      \n",
       "22  46                45    2009         1      \n",
       "23  35                15    2009         1      \n",
       "24  64                20    2010         0      \n",
       "25  35                40    2009         1      \n",
       "26  87               100    2007         0      \n",
       "27  78                 8    2009         1      \n",
       "28  66                30    2011         0      \n",
       "29  31                 5    2011         0      \n",
       "30  55                20    2008         0      \n",
       "⋮   ⋮                ⋮      ⋮            ⋮      \n",
       "533 93                25    2011         0      \n",
       "534 68               130    2009         1      \n",
       "535 72                38    2011         0      \n",
       "536 79                50    2011         0      \n",
       "537 63                21    2007         0      \n",
       "538 64                35    2008         0      \n",
       "539 72                35    2008         0      \n",
       "540 50                20    2011         0      \n",
       "541 63                15    2009         1      \n",
       "542 44                 0    2010         0      \n",
       "543 59               100    2009         1      \n",
       "544 73                15    2009         1      \n",
       "545 28                35    2009         1      \n",
       "546 67                20    2010         0      \n",
       "547 72                90    2007         0      \n",
       "548 73                 2    2010         0      \n",
       "549 72               150    2009         1      \n",
       "550 88               160    2011         0      \n",
       "551 31                60    2009         1      \n",
       "552 72                70    2008         0      \n",
       "553 36                80    2010         0      \n",
       "554 45                20    2010         0      \n",
       "555 50                80    2008         0      \n",
       "556 35                22    2010         0      \n",
       "557 36                50    2011         0      \n",
       "558 52                18    2009         1      \n",
       "559 70                24    2008         0      \n",
       "560 73                65    2007         0      \n",
       "561 87                24    2009         1      \n",
       "562 42                80    2011         0      "
      ]
     },
     "metadata": {},
     "output_type": "display_data"
    }
   ],
   "source": [
    "mov2"
   ]
  },
  {
   "cell_type": "markdown",
   "metadata": {},
   "source": [
    "### This new col can be add by another method which is good in comparision to for loop \n"
   ]
  },
  {
   "cell_type": "code",
   "execution_count": 41,
   "metadata": {},
   "outputs": [],
   "source": [
    "mov2$new_col_2=ifelse(mov2$Release_year==2010,1,0)\n"
   ]
  },
  {
   "cell_type": "code",
   "execution_count": 42,
   "metadata": {},
   "outputs": [
    {
     "data": {
      "text/html": [
       "<table>\n",
       "<thead><tr><th scope=col>Film</th><th scope=col>Genre</th><th scope=col>Critic_Ratings</th><th scope=col>Audience_Ratings</th><th scope=col>Budget</th><th scope=col>Release_year</th><th scope=col>new_col</th><th scope=col>new_col_2</th></tr></thead>\n",
       "<tbody>\n",
       "\t<tr><td>(500) Days of Summer </td><td>Comedy               </td><td>87                   </td><td>81                   </td><td>  8                  </td><td>2009                 </td><td>1                    </td><td>0                    </td></tr>\n",
       "\t<tr><td>10,000 B.C.          </td><td>Adventure            </td><td> 9                   </td><td>44                   </td><td>105                  </td><td>2008                 </td><td>0                    </td><td>0                    </td></tr>\n",
       "\t<tr><td>12 Rounds            </td><td>Action               </td><td>30                   </td><td>52                   </td><td> 20                  </td><td>2009                 </td><td>1                    </td><td>0                    </td></tr>\n",
       "\t<tr><td>127 Hours            </td><td>Adventure            </td><td>93                   </td><td>84                   </td><td> 18                  </td><td>2010                 </td><td>0                    </td><td>1                    </td></tr>\n",
       "\t<tr><td>17 Again             </td><td>Comedy               </td><td>55                   </td><td>70                   </td><td> 20                  </td><td>2009                 </td><td>1                    </td><td>0                    </td></tr>\n",
       "\t<tr><td>2012                 </td><td>Action               </td><td>39                   </td><td>63                   </td><td>200                  </td><td>2009                 </td><td>1                    </td><td>0                    </td></tr>\n",
       "</tbody>\n",
       "</table>\n"
      ],
      "text/latex": [
       "\\begin{tabular}{r|llllllll}\n",
       " Film & Genre & Critic\\_Ratings & Audience\\_Ratings & Budget & Release\\_year & new\\_col & new\\_col\\_2\\\\\n",
       "\\hline\n",
       "\t (500) Days of Summer  & Comedy                & 87                    & 81                    &   8                   & 2009                  & 1                     & 0                    \\\\\n",
       "\t 10,000 B.C.           & Adventure             &  9                    & 44                    & 105                   & 2008                  & 0                     & 0                    \\\\\n",
       "\t 12 Rounds             & Action                & 30                    & 52                    &  20                   & 2009                  & 1                     & 0                    \\\\\n",
       "\t 127 Hours             & Adventure             & 93                    & 84                    &  18                   & 2010                  & 0                     & 1                    \\\\\n",
       "\t 17 Again              & Comedy                & 55                    & 70                    &  20                   & 2009                  & 1                     & 0                    \\\\\n",
       "\t 2012                  & Action                & 39                    & 63                    & 200                   & 2009                  & 1                     & 0                    \\\\\n",
       "\\end{tabular}\n"
      ],
      "text/markdown": [
       "\n",
       "Film | Genre | Critic_Ratings | Audience_Ratings | Budget | Release_year | new_col | new_col_2 | \n",
       "|---|---|---|---|---|---|\n",
       "| (500) Days of Summer  | Comedy                | 87                    | 81                    |   8                   | 2009                  | 1                     | 0                     | \n",
       "| 10,000 B.C.           | Adventure             |  9                    | 44                    | 105                   | 2008                  | 0                     | 0                     | \n",
       "| 12 Rounds             | Action                | 30                    | 52                    |  20                   | 2009                  | 1                     | 0                     | \n",
       "| 127 Hours             | Adventure             | 93                    | 84                    |  18                   | 2010                  | 0                     | 1                     | \n",
       "| 17 Again              | Comedy                | 55                    | 70                    |  20                   | 2009                  | 1                     | 0                     | \n",
       "| 2012                  | Action                | 39                    | 63                    | 200                   | 2009                  | 1                     | 0                     | \n",
       "\n",
       "\n"
      ],
      "text/plain": [
       "  Film                  Genre     Critic_Ratings Audience_Ratings Budget\n",
       "1 (500) Days of Summer  Comedy    87             81                 8   \n",
       "2 10,000 B.C.           Adventure  9             44               105   \n",
       "3 12 Rounds             Action    30             52                20   \n",
       "4 127 Hours             Adventure 93             84                18   \n",
       "5 17 Again              Comedy    55             70                20   \n",
       "6 2012                  Action    39             63               200   \n",
       "  Release_year new_col new_col_2\n",
       "1 2009         1       0        \n",
       "2 2008         0       0        \n",
       "3 2009         1       0        \n",
       "4 2010         0       1        \n",
       "5 2009         1       0        \n",
       "6 2009         1       0        "
      ]
     },
     "metadata": {},
     "output_type": "display_data"
    }
   ],
   "source": [
    "head(mov2)"
   ]
  },
  {
   "cell_type": "markdown",
   "metadata": {},
   "source": [
    "### Apply Family"
   ]
  },
  {
   "cell_type": "code",
   "execution_count": 45,
   "metadata": {},
   "outputs": [],
   "source": [
    "\n",
    "#Apply Functions Over Array Margins:->Returns a vector or array or list of values obtained by applying a function to margins of an array or matrix.\n",
    "#apply(X, MARGIN, FUN, ...)\n"
   ]
  },
  {
   "cell_type": "code",
   "execution_count": 46,
   "metadata": {},
   "outputs": [
    {
     "name": "stderr",
     "output_type": "stream",
     "text": [
      "Warning message in mean.default(newX[, i], ...):\n",
      "“argument is not numeric or logical: returning NA”Warning message in mean.default(newX[, i], ...):\n",
      "“argument is not numeric or logical: returning NA”Warning message in mean.default(newX[, i], ...):\n",
      "“argument is not numeric or logical: returning NA”Warning message in mean.default(newX[, i], ...):\n",
      "“argument is not numeric or logical: returning NA”Warning message in mean.default(newX[, i], ...):\n",
      "“argument is not numeric or logical: returning NA”Warning message in mean.default(newX[, i], ...):\n",
      "“argument is not numeric or logical: returning NA”Warning message in mean.default(newX[, i], ...):\n",
      "“argument is not numeric or logical: returning NA”Warning message in mean.default(newX[, i], ...):\n",
      "“argument is not numeric or logical: returning NA”Warning message in mean.default(newX[, i], ...):\n",
      "“argument is not numeric or logical: returning NA”Warning message in mean.default(newX[, i], ...):\n",
      "“argument is not numeric or logical: returning NA”"
     ]
    },
    {
     "data": {
      "text/html": [
       "<dl class=dl-horizontal>\n",
       "\t<dt>1</dt>\n",
       "\t\t<dd>&lt;NA&gt;</dd>\n",
       "\t<dt>2</dt>\n",
       "\t\t<dd>&lt;NA&gt;</dd>\n",
       "\t<dt>3</dt>\n",
       "\t\t<dd>&lt;NA&gt;</dd>\n",
       "\t<dt>4</dt>\n",
       "\t\t<dd>&lt;NA&gt;</dd>\n",
       "\t<dt>5</dt>\n",
       "\t\t<dd>&lt;NA&gt;</dd>\n",
       "\t<dt>6</dt>\n",
       "\t\t<dd>&lt;NA&gt;</dd>\n",
       "\t<dt>7</dt>\n",
       "\t\t<dd>&lt;NA&gt;</dd>\n",
       "\t<dt>8</dt>\n",
       "\t\t<dd>&lt;NA&gt;</dd>\n",
       "\t<dt>9</dt>\n",
       "\t\t<dd>&lt;NA&gt;</dd>\n",
       "\t<dt>10</dt>\n",
       "\t\t<dd>&lt;NA&gt;</dd>\n",
       "</dl>\n"
      ],
      "text/latex": [
       "\\begin{description*}\n",
       "\\item[1] <NA>\n",
       "\\item[2] <NA>\n",
       "\\item[3] <NA>\n",
       "\\item[4] <NA>\n",
       "\\item[5] <NA>\n",
       "\\item[6] <NA>\n",
       "\\item[7] <NA>\n",
       "\\item[8] <NA>\n",
       "\\item[9] <NA>\n",
       "\\item[10] <NA>\n",
       "\\end{description*}\n"
      ],
      "text/markdown": [
       "1\n",
       ":   &lt;NA&gt;2\n",
       ":   &lt;NA&gt;3\n",
       ":   &lt;NA&gt;4\n",
       ":   &lt;NA&gt;5\n",
       ":   &lt;NA&gt;6\n",
       ":   &lt;NA&gt;7\n",
       ":   &lt;NA&gt;8\n",
       ":   &lt;NA&gt;9\n",
       ":   &lt;NA&gt;10\n",
       ":   &lt;NA&gt;\n",
       "\n"
      ],
      "text/plain": [
       " 1  2  3  4  5  6  7  8  9 10 \n",
       "NA NA NA NA NA NA NA NA NA NA "
      ]
     },
     "metadata": {},
     "output_type": "display_data"
    }
   ],
   "source": [
    "apply(mov2[1:10,1:7], 1, mean)"
   ]
  },
  {
   "cell_type": "code",
   "execution_count": null,
   "metadata": {},
   "outputs": [],
   "source": []
  },
  {
   "cell_type": "code",
   "execution_count": null,
   "metadata": {},
   "outputs": [],
   "source": []
  },
  {
   "cell_type": "code",
   "execution_count": null,
   "metadata": {},
   "outputs": [],
   "source": []
  },
  {
   "cell_type": "code",
   "execution_count": null,
   "metadata": {},
   "outputs": [],
   "source": []
  },
  {
   "cell_type": "code",
   "execution_count": null,
   "metadata": {},
   "outputs": [],
   "source": []
  }
 ],
 "metadata": {
  "kernelspec": {
   "display_name": "R",
   "language": "R",
   "name": "ir"
  },
  "language_info": {
   "codemirror_mode": "r",
   "file_extension": ".r",
   "mimetype": "text/x-r-source",
   "name": "R",
   "pygments_lexer": "r",
   "version": "3.5.1"
  }
 },
 "nbformat": 4,
 "nbformat_minor": 2
}
