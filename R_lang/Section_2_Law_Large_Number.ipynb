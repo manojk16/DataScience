{
 "cells": [
  {
   "cell_type": "markdown",
   "metadata": {},
   "source": [
    "Mean(X) -> E(X) when n -> Infinity \n",
    "The average of measured value converges to expected value when it apporaches to infinity.\n",
    "As in Normal distribution if mean is 0 then probablity of number lies between standard deviation 1 is 68.2%(34.1+34.1)%\n",
    "\n",
    "### Ex2. Test the low of large number for N random normally distributed number with mean=0 and stdev=1\n",
    " i.e Create a R script that will count, how many those number fall betwen -1 and +1 and then devide by the total number quantity of N "
   ]
  },
  {
   "cell_type": "code",
   "execution_count": 19,
   "metadata": {},
   "outputs": [
    {
     "data": {
      "text/html": [
       "6e-05"
      ],
      "text/latex": [
       "6e-05"
      ],
      "text/markdown": [
       "6e-05"
      ],
      "text/plain": [
       "[1] 6e-05"
      ]
     },
     "metadata": {},
     "output_type": "display_data"
    }
   ],
   "source": [
    "N<-100000 # Input\n",
    "counter<-0\n",
    "for(i in rnorm(1:10)){\n",
    "    if(i > -1 & i < 1){\n",
    "        counter<-counter+1\n",
    "    }\n",
    "}\n",
    "counter/N # Normal distribution as output\n",
    "#it should be lies near to 68.2 %, So What we can see here when we are incraesing N then it is more near to .682 or 68.2%\n"
   ]
  },
  {
   "cell_type": "code",
   "execution_count": null,
   "metadata": {},
   "outputs": [],
   "source": []
  },
  {
   "cell_type": "code",
   "execution_count": null,
   "metadata": {},
   "outputs": [],
   "source": []
  },
  {
   "cell_type": "code",
   "execution_count": null,
   "metadata": {},
   "outputs": [],
   "source": []
  },
  {
   "cell_type": "code",
   "execution_count": null,
   "metadata": {},
   "outputs": [],
   "source": []
  }
 ],
 "metadata": {
  "kernelspec": {
   "display_name": "R",
   "language": "R",
   "name": "ir"
  },
  "language_info": {
   "codemirror_mode": "r",
   "file_extension": ".r",
   "mimetype": "text/x-r-source",
   "name": "R",
   "pygments_lexer": "r",
   "version": "3.5.1"
  }
 },
 "nbformat": 4,
 "nbformat_minor": 2
}
